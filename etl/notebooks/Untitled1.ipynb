{
 "cells": [
  {
   "cell_type": "code",
   "execution_count": 1,
   "metadata": {
    "autoscroll": false,
    "collapsed": false,
    "ein.hycell": false,
    "ein.tags": "worksheet-0",
    "slideshow": {
     "slide_type": "-"
    }
   },
   "outputs": [],
   "source": [
    "%load_ext autoreload\n",
    "%autoreload 2"
   ]
  },
  {
   "cell_type": "code",
   "execution_count": 2,
   "metadata": {
    "autoscroll": false,
    "collapsed": false,
    "ein.hycell": false,
    "ein.tags": "worksheet-0",
    "slideshow": {
     "slide_type": "-"
    }
   },
   "outputs": [],
   "source": [
    "import sys\n",
    "sys.path.insert(0, '../scripts')"
   ]
  },
  {
   "cell_type": "code",
   "execution_count": 3,
   "metadata": {
    "autoscroll": false,
    "collapsed": false,
    "ein.hycell": false,
    "ein.tags": "worksheet-0",
    "slideshow": {
     "slide_type": "-"
    }
   },
   "outputs": [],
   "source": [
    "import etl_new as etl\n",
    "import pandas as pd"
   ]
  },
  {
   "cell_type": "code",
   "execution_count": 5,
   "metadata": {
    "autoscroll": false,
    "collapsed": false,
    "ein.hycell": false,
    "ein.tags": "worksheet-0",
    "slideshow": {
     "slide_type": "-"
    }
   },
   "outputs": [],
   "source": [
    "loc = etl.location_metadata()"
   ]
  },
  {
   "cell_type": "code",
   "execution_count": 6,
   "metadata": {
    "autoscroll": false,
    "collapsed": false,
    "ein.hycell": false,
    "ein.tags": "worksheet-0",
    "slideshow": {
     "slide_type": "-"
    }
   },
   "outputs": [
    {
     "data": {
      "text/plain": [
       "array([nan, 'Label/Separator', 'Development group', 'Income group',\n       'Geographic region', 'SDG region', 'Subregion', 'Country/Area',\n       'SDG subregion'], dtype=object)"
      ]
     },
     "execution_count": 6,
     "metadata": {},
     "output_type": "execute_result"
    }
   ],
   "source": [
    "loc['Name'].unique()"
   ]
  },
  {
   "cell_type": "code",
   "execution_count": 7,
   "metadata": {
    "autoscroll": false,
    "collapsed": false,
    "ein.hycell": false,
    "ein.tags": "worksheet-0",
    "slideshow": {
     "slide_type": "-"
    }
   },
   "outputs": [
    {
     "data": {
      "text/plain": [
       "Index(['Index', 'Region, subregion, country or area*', 'Notes',\n       'Location code', 'ISO3 Alpha-code', 'Code', 'Name',\n       'Parent Location code', 'Code.1', 'Code.2', 'Name.1', 'Code.3',\n       'Name.2', 'Code.4', 'Name.3', 'Code.5', 'Name.4',\n       'More developed regions\\n901', 'Less developed regions\\n902',\n       'Least developed countries\\n941',\n       'Less developed regions, excluding least developed countries\\n934',\n       'Less developed regions, excluding China\\n948',\n       'Land-Locked Developing Countries (LLDC)\\n1636',\n       'Small Island Developing States (SIDS)\\n1637',\n       'High-income Countries\\n1503', 'Middle-income Countries\\n1517',\n       'Upper-middle-income Countries\\n1502',\n       'Lower-middle-income Countries\\n1501', 'Low-income Countries\\n1500',\n       'No income group available\\n1518'],\n      dtype='object')"
      ]
     },
     "execution_count": 7,
     "metadata": {},
     "output_type": "execute_result"
    }
   ],
   "source": [
    "loc.columns"
   ]
  },
  {
   "cell_type": "code",
   "execution_count": 19,
   "metadata": {
    "autoscroll": false,
    "collapsed": false,
    "ein.hycell": false,
    "ein.tags": "worksheet-0",
    "slideshow": {
     "slide_type": "-"
    }
   },
   "outputs": [],
   "source": [
    "EntityDomain?"
   ]
  },
  {
   "cell_type": "code",
   "execution_count": 79,
   "metadata": {
    "autoscroll": false,
    "collapsed": false,
    "ein.hycell": false,
    "ein.tags": "worksheet-0",
    "slideshow": {
     "slide_type": "-"
    }
   },
   "outputs": [],
   "source": [
    "domain = etl.create_geo_domain(loc)"
   ]
  },
  {
   "cell_type": "code",
   "execution_count": 78,
   "metadata": {
    "autoscroll": false,
    "collapsed": false,
    "ein.hycell": false,
    "ein.tags": "worksheet-0",
    "slideshow": {
     "slide_type": "-"
    }
   },
   "outputs": [
    {
     "data": {
      "text/plain": [
       "Entity(id='900', domain='geo', sets=['global'], props={'name': 'WORLD'})"
      ]
     },
     "execution_count": 78,
     "metadata": {},
     "output_type": "execute_result"
    }
   ],
   "source": [
    "domain.entities[0]"
   ]
  },
  {
   "cell_type": "code",
   "execution_count": 80,
   "metadata": {
    "autoscroll": false,
    "collapsed": false,
    "ein.hycell": false,
    "ein.tags": "worksheet-0",
    "slideshow": {
     "slide_type": "-"
    }
   },
   "outputs": [
    {
     "data": {
      "text/plain": [
       "Entity(id='266', domain='geo', sets=['country'], props={'name': 'Gabon', 'iso3': 'GAB', 'subregion': '911', 'sdg_region': '947', 'geographic_region': '903', 'un_development_group': '903, 903, 903', 'wb_income_group': '903, 903'})"
      ]
     },
     "execution_count": 80,
     "metadata": {},
     "output_type": "execute_result"
    }
   ],
   "source": [
    "domain.entities[50]"
   ]
  },
  {
   "cell_type": "code",
   "execution_count": 81,
   "metadata": {
    "autoscroll": false,
    "collapsed": false,
    "ein.hycell": false,
    "ein.tags": "worksheet-0",
    "slideshow": {
     "slide_type": "-"
    }
   },
   "outputs": [
    {
     "data": {
      "text/plain": [
       "['wb_income_group',\n 'country',\n 'sdg_subregion',\n 'sdg_region',\n 'subregion',\n 'geographic_region',\n 'global',\n 'un_development_group']"
      ]
     },
     "execution_count": 81,
     "metadata": {},
     "output_type": "execute_result"
    }
   ],
   "source": [
    "domain.entity_sets"
   ]
  },
  {
   "cell_type": "code",
   "execution_count": 83,
   "metadata": {
    "autoscroll": false,
    "collapsed": false,
    "ein.hycell": false,
    "ein.tags": "worksheet-0",
    "slideshow": {
     "slide_type": "-"
    }
   },
   "outputs": [],
   "source": [
    "for s in domain.entity_sets:\n",
    "    ent_df = pd.DataFrame.from_dict(domain.to_dict(eset=s))\n",
    "    ent_df.to_csv(f'../../ddf--entities--geo--{s}.csv', index=False)"
   ]
  },
  {
   "cell_type": "code",
   "execution_count": 60,
   "metadata": {
    "autoscroll": false,
    "collapsed": false,
    "ein.hycell": false,
    "ein.tags": "worksheet-0",
    "slideshow": {
     "slide_type": "-"
    }
   },
   "outputs": [],
   "source": [
    "ent = domain.get_entity_set('global')"
   ]
  },
  {
   "cell_type": "code",
   "execution_count": 61,
   "metadata": {
    "autoscroll": false,
    "collapsed": false,
    "ein.hycell": false,
    "ein.tags": "worksheet-0",
    "slideshow": {
     "slide_type": "-"
    }
   },
   "outputs": [
    {
     "data": {
      "text/plain": [
       "[Entity(id=900, domain='geo', sets=['global'], props={'name': 'WORLD'})]"
      ]
     },
     "execution_count": 61,
     "metadata": {},
     "output_type": "execute_result"
    }
   ],
   "source": [
    "ent"
   ]
  },
  {
   "cell_type": "code",
   "execution_count": 50,
   "metadata": {
    "autoscroll": false,
    "collapsed": false,
    "ein.hycell": false,
    "ein.tags": "worksheet-0",
    "slideshow": {
     "slide_type": "-"
    }
   },
   "outputs": [],
   "source": [
    "domain_df = pd.DataFrame.from_dict(domain.to_dict())"
   ]
  },
  {
   "cell_type": "code",
   "execution_count": 51,
   "metadata": {
    "autoscroll": false,
    "collapsed": false,
    "ein.hycell": false,
    "ein.tags": "worksheet-0",
    "slideshow": {
     "slide_type": "-"
    }
   },
   "outputs": [
    {
     "data": {
      "text/html": [
       "<div>\n<style scoped>\n    .dataframe tbody tr th:only-of-type {\n        vertical-align: middle;\n    }\n\n    .dataframe tbody tr th {\n        vertical-align: top;\n    }\n\n    .dataframe thead th {\n        text-align: right;\n    }\n</style>\n<table border=\"1\" class=\"dataframe\">\n  <thead>\n    <tr style=\"text-align: right;\">\n      <th></th>\n      <th>geo</th>\n      <th>is--global</th>\n      <th>name</th>\n      <th>is--wb_income_group</th>\n      <th>is--country</th>\n      <th>is--sdg_subregion</th>\n      <th>is--sdg_region</th>\n      <th>is--subregion</th>\n      <th>is--geographic_region</th>\n      <th>is--un_development_group</th>\n      <th>subregion</th>\n      <th>sdg_region</th>\n      <th>geographic_region</th>\n      <th>un_development_group</th>\n      <th>wb_income_group</th>\n      <th>sdg_subregion</th>\n    </tr>\n  </thead>\n  <tbody>\n    <tr>\n      <th>0</th>\n      <td>900</td>\n      <td>TRUE</td>\n      <td>WORLD</td>\n      <td>FALSE</td>\n      <td>FALSE</td>\n      <td>FALSE</td>\n      <td>FALSE</td>\n      <td>FALSE</td>\n      <td>FALSE</td>\n      <td>FALSE</td>\n      <td>NaN</td>\n      <td>NaN</td>\n      <td>NaN</td>\n      <td>NaN</td>\n      <td>NaN</td>\n      <td>NaN</td>\n    </tr>\n    <tr>\n      <th>1</th>\n      <td>901</td>\n      <td>FALSE</td>\n      <td>More developed regions</td>\n      <td>FALSE</td>\n      <td>FALSE</td>\n      <td>FALSE</td>\n      <td>FALSE</td>\n      <td>FALSE</td>\n      <td>FALSE</td>\n      <td>TRUE</td>\n      <td>NaN</td>\n      <td>NaN</td>\n      <td>NaN</td>\n      <td>NaN</td>\n      <td>NaN</td>\n      <td>NaN</td>\n    </tr>\n    <tr>\n      <th>2</th>\n      <td>902</td>\n      <td>FALSE</td>\n      <td>Less developed regions</td>\n      <td>FALSE</td>\n      <td>FALSE</td>\n      <td>FALSE</td>\n      <td>FALSE</td>\n      <td>FALSE</td>\n      <td>FALSE</td>\n      <td>TRUE</td>\n      <td>NaN</td>\n      <td>NaN</td>\n      <td>NaN</td>\n      <td>NaN</td>\n      <td>NaN</td>\n      <td>NaN</td>\n    </tr>\n    <tr>\n      <th>3</th>\n      <td>941</td>\n      <td>FALSE</td>\n      <td>Least developed countries</td>\n      <td>FALSE</td>\n      <td>FALSE</td>\n      <td>FALSE</td>\n      <td>FALSE</td>\n      <td>FALSE</td>\n      <td>FALSE</td>\n      <td>TRUE</td>\n      <td>NaN</td>\n      <td>NaN</td>\n      <td>NaN</td>\n      <td>NaN</td>\n      <td>NaN</td>\n      <td>NaN</td>\n    </tr>\n    <tr>\n      <th>4</th>\n      <td>934</td>\n      <td>FALSE</td>\n      <td>Less developed regions, excluding least develo...</td>\n      <td>FALSE</td>\n      <td>FALSE</td>\n      <td>FALSE</td>\n      <td>FALSE</td>\n      <td>FALSE</td>\n      <td>FALSE</td>\n      <td>TRUE</td>\n      <td>NaN</td>\n      <td>NaN</td>\n      <td>NaN</td>\n      <td>NaN</td>\n      <td>NaN</td>\n      <td>NaN</td>\n    </tr>\n  </tbody>\n</table>\n</div>"
      ],
      "text/plain": [
       "   geo is--global                                               name  \\\n0  900       TRUE                                              WORLD   \n1  901      FALSE                             More developed regions   \n2  902      FALSE                             Less developed regions   \n3  941      FALSE                          Least developed countries   \n4  934      FALSE  Less developed regions, excluding least develo...   \n\n  is--wb_income_group is--country is--sdg_subregion is--sdg_region  \\\n0               FALSE       FALSE             FALSE          FALSE   \n1               FALSE       FALSE             FALSE          FALSE   \n2               FALSE       FALSE             FALSE          FALSE   \n3               FALSE       FALSE             FALSE          FALSE   \n4               FALSE       FALSE             FALSE          FALSE   \n\n  is--subregion is--geographic_region is--un_development_group subregion  \\\n0         FALSE                 FALSE                    FALSE       NaN   \n1         FALSE                 FALSE                     TRUE       NaN   \n2         FALSE                 FALSE                     TRUE       NaN   \n3         FALSE                 FALSE                     TRUE       NaN   \n4         FALSE                 FALSE                     TRUE       NaN   \n\n  sdg_region geographic_region un_development_group wb_income_group  \\\n0        NaN               NaN                  NaN             NaN   \n1        NaN               NaN                  NaN             NaN   \n2        NaN               NaN                  NaN             NaN   \n3        NaN               NaN                  NaN             NaN   \n4        NaN               NaN                  NaN             NaN   \n\n  sdg_subregion  \n0           NaN  \n1           NaN  \n2           NaN  \n3           NaN  \n4           NaN  "
      ]
     },
     "execution_count": 51,
     "metadata": {},
     "output_type": "execute_result"
    }
   ],
   "source": [
    "domain_df.head()"
   ]
  },
  {
   "cell_type": "code",
   "execution_count": 52,
   "metadata": {
    "autoscroll": false,
    "collapsed": false,
    "ein.hycell": false,
    "ein.tags": "worksheet-0",
    "slideshow": {
     "slide_type": "-"
    }
   },
   "outputs": [],
   "source": [
    "domain_df.to_csv('../../ddf--entities--geo.csv', index=False)"
   ]
  },
  {
   "cell_type": "code",
   "execution_count": 35,
   "metadata": {
    "autoscroll": false,
    "collapsed": false,
    "ein.hycell": false,
    "ein.tags": "worksheet-0",
    "slideshow": {
     "slide_type": "-"
    }
   },
   "outputs": [
    {
     "data": {
      "text/plain": [
       "Index(['geo', 'name', 'is--wb_income_group', 'is--country',\n       'is--sdg_subregion', 'is--subregion', 'is--sdg_region',\n       'is--geographic_region', 'is--un_development_group', 'subregion',\n       'sdg_region', 'geographic_region', 'un_development_group',\n       'wb_income_group', 'sdg_subregion'],\n      dtype='object')"
      ]
     },
     "execution_count": 35,
     "metadata": {},
     "output_type": "execute_result"
    }
   ],
   "source": [
    "domain_df.columns"
   ]
  },
  {
   "cell_type": "code",
   "execution_count": 41,
   "metadata": {
    "autoscroll": false,
    "collapsed": false,
    "ein.hycell": false,
    "ein.tags": "worksheet-0",
    "slideshow": {
     "slide_type": "-"
    }
   },
   "outputs": [],
   "source": [
    "entity_map = {'Development group': 'un_development_group',\n",
    "                  'Income group': 'wb_income_group',\n",
    "                  'Geographic region': 'geographic_region',\n",
    "                  'SDG region': 'sdg_region',\n",
    "                  'SDG subregion': 'sdg_subregion',\n",
    "                  'Subregion': 'subregion',\n",
    "                  'Country/Area': 'country'}\n",
    "\n",
    "_t = pd.DataFrame.from_dict(entity_map, orient='index').reset_index()\n",
    "_t['concept_type'] = 'entity_set'\n",
    "_t['domain'] = 'geo'"
   ]
  },
  {
   "cell_type": "code",
   "execution_count": 42,
   "metadata": {
    "autoscroll": false,
    "collapsed": false,
    "ein.hycell": false,
    "ein.tags": "worksheet-0",
    "slideshow": {
     "slide_type": "-"
    }
   },
   "outputs": [
    {
     "name": "stdout",
     "output_type": "stream",
     "text": [
      "0,index,concept_type,domain\n",
      "un_development_group,Development group,entity_set,geo\n",
      "wb_income_group,Income group,entity_set,geo\n",
      "geographic_region,Geographic region,entity_set,geo\n",
      "sdg_region,SDG region,entity_set,geo\n",
      "sdg_subregion,SDG subregion,entity_set,geo\n",
      "subregion,Subregion,entity_set,geo\n",
      "country,Country/Area,entity_set,geo\n",
      "\n"
     ]
    }
   ],
   "source": [
    "print(_t[[0, 'index', 'concept_type', 'domain']].to_csv(index=False))"
   ]
  },
  {
   "cell_type": "code",
   "execution_count": 85,
   "metadata": {
    "autoscroll": false,
    "collapsed": false,
    "ein.hycell": false,
    "ein.tags": "worksheet-0",
    "slideshow": {
     "slide_type": "-"
    }
   },
   "outputs": [
    {
     "name": "stdout",
     "output_type": "stream",
     "text": [
      "WPP2019_LifeTable.csv\r\n",
      "WPP2019_Period_Indicators_Medium.csv\r\n",
      "WPP2019_Period_Indicators_OtherVariants.csv\r\n",
      "WPP2019_PopulationByAgeSex_Medium.csv\r\n",
      "WPP2019_PopulationByAgeSex_OtherVariants.csv\r\n",
      "WPP2019_PopulationBySingleAgeSex.csv\r\n",
      "WPP2019_TotalPopulationBySex.csv\r\n"
     ]
    }
   ],
   "source": [
    "!ls ../source/csv"
   ]
  },
  {
   "cell_type": "code",
   "execution_count": 89,
   "metadata": {
    "autoscroll": false,
    "collapsed": false,
    "ein.hycell": false,
    "ein.tags": "worksheet-0",
    "slideshow": {
     "slide_type": "-"
    }
   },
   "outputs": [],
   "source": [
    "df = etl.load_medium_csv('../source/csv/WPP2019_Period_Indicators_Medium.csv')"
   ]
  },
  {
   "cell_type": "code",
   "execution_count": 91,
   "metadata": {
    "autoscroll": false,
    "collapsed": false,
    "ein.hycell": false,
    "ein.tags": "worksheet-0",
    "slideshow": {
     "slide_type": "-"
    }
   },
   "outputs": [
    {
     "data": {
      "text/plain": [
       "Index(['LocID', 'Location', 'VarID', 'Variant', 'Time', 'MidPeriod', 'TFR',\n       'NRR', 'CBR', 'Births', 'LEx', 'LExMale', 'LExFemale', 'IMR', 'Q5',\n       'CDR', 'Deaths', 'DeathsMale', 'DeathsFemale', 'CNMR', 'NetMigrations',\n       'GrowthRate', 'NatIncr', 'SRB', 'MAC'],\n      dtype='object')"
      ]
     },
     "execution_count": 91,
     "metadata": {},
     "output_type": "execute_result"
    }
   ],
   "source": [
    "df.columns"
   ]
  },
  {
   "cell_type": "code",
   "execution_count": 92,
   "metadata": {
    "autoscroll": false,
    "collapsed": false,
    "ein.hycell": false,
    "ein.tags": "worksheet-0",
    "slideshow": {
     "slide_type": "-"
    }
   },
   "outputs": [],
   "source": [
    "df = etl.load_medium_csv('../source/csv/WPP2019_LifeTable.csv')"
   ]
  },
  {
   "cell_type": "code",
   "execution_count": 93,
   "metadata": {
    "autoscroll": false,
    "collapsed": false,
    "ein.hycell": false,
    "ein.tags": "worksheet-0",
    "slideshow": {
     "slide_type": "-"
    }
   },
   "outputs": [
    {
     "data": {
      "text/plain": [
       "Index(['LocID', 'Location', 'VarID', 'Variant', 'Time', 'MidPeriod', 'SexID',\n       'Sex', 'AgeGrp', 'AgeGrpStart', 'AgeGrpSpan', 'mx', 'qx', 'px', 'lx',\n       'dx', 'Lx', 'Sx', 'Tx', 'ex', 'ax'],\n      dtype='object')"
      ]
     },
     "execution_count": 93,
     "metadata": {},
     "output_type": "execute_result"
    }
   ],
   "source": [
    "df.columns"
   ]
  },
  {
   "cell_type": "code",
   "execution_count": 94,
   "metadata": {
    "autoscroll": false,
    "collapsed": false,
    "ein.hycell": false,
    "ein.tags": "worksheet-0",
    "slideshow": {
     "slide_type": "-"
    }
   },
   "outputs": [
    {
     "data": {
      "text/plain": [
       "array([ 1,  4,  5, -1])"
      ]
     },
     "execution_count": 94,
     "metadata": {},
     "output_type": "execute_result"
    }
   ],
   "source": [
    "df['AgeGrpSpan'].unique()"
   ]
  },
  {
   "cell_type": "code",
   "execution_count": 95,
   "metadata": {
    "autoscroll": false,
    "collapsed": false,
    "ein.hycell": false,
    "ein.tags": "worksheet-0",
    "slideshow": {
     "slide_type": "-"
    }
   },
   "outputs": [
    {
     "data": {
      "text/plain": [
       "array(['0', '1-4', '5-9', '10-14', '15-19', '20-24', '25-29', '30-34',\n       '35-39', '40-44', '45-49', '50-54', '55-59', '60-64', '65-69',\n       '70-74', '75-79', '80-84', '85-89', '90-94', '95-99', '100+'],\n      dtype=object)"
      ]
     },
     "execution_count": 95,
     "metadata": {},
     "output_type": "execute_result"
    }
   ],
   "source": [
    "df['AgeGrp'].unique()"
   ]
  },
  {
   "cell_type": "code",
   "execution_count": 96,
   "metadata": {
    "autoscroll": false,
    "collapsed": false,
    "ein.hycell": false,
    "ein.tags": "worksheet-0",
    "slideshow": {
     "slide_type": "-"
    }
   },
   "outputs": [],
   "source": [
    "df = etl.load_medium_csv('../source/csv/WPP2019_PopulationByAgeSex_Medium.csv')"
   ]
  },
  {
   "cell_type": "code",
   "execution_count": 97,
   "metadata": {
    "autoscroll": false,
    "collapsed": false,
    "ein.hycell": false,
    "ein.tags": "worksheet-0",
    "slideshow": {
     "slide_type": "-"
    }
   },
   "outputs": [
    {
     "data": {
      "text/plain": [
       "array(['0-4', '5-9', '10-14', '15-19', '20-24', '25-29', '30-34', '35-39',\n       '40-44', '45-49', '50-54', '55-59', '60-64', '65-69', '70-74',\n       '75-79', '80-84', '85-89', '90-94', '95-99', '100+'], dtype=object)"
      ]
     },
     "execution_count": 97,
     "metadata": {},
     "output_type": "execute_result"
    }
   ],
   "source": [
    "df['AgeGrp'].unique()"
   ]
  },
  {
   "cell_type": "code",
   "execution_count": 98,
   "metadata": {
    "autoscroll": false,
    "collapsed": false,
    "ein.hycell": false,
    "ein.tags": "worksheet-0",
    "slideshow": {
     "slide_type": "-"
    }
   },
   "outputs": [],
   "source": [
    "# how to handel age groups?"
   ]
  },
  {
   "cell_type": "code",
   "execution_count": 8,
   "metadata": {
    "autoscroll": false,
    "collapsed": false,
    "ein.hycell": false,
    "ein.tags": "worksheet-0",
    "slideshow": {
     "slide_type": "-"
    }
   },
   "outputs": [],
   "source": [
    "df = etl.read_un_csv('../source/csv/WPP2019_PopulationBySingleAgeSex.csv')"
   ]
  },
  {
   "cell_type": "code",
   "execution_count": 9,
   "metadata": {
    "autoscroll": false,
    "collapsed": false,
    "ein.hycell": false,
    "ein.tags": "worksheet-0",
    "slideshow": {
     "slide_type": "-"
    }
   },
   "outputs": [
    {
     "data": {
      "text/html": [
       "<div>\n<style scoped>\n    .dataframe tbody tr th:only-of-type {\n        vertical-align: middle;\n    }\n\n    .dataframe tbody tr th {\n        vertical-align: top;\n    }\n\n    .dataframe thead th {\n        text-align: right;\n    }\n</style>\n<table border=\"1\" class=\"dataframe\">\n  <thead>\n    <tr style=\"text-align: right;\">\n      <th></th>\n      <th>LocID</th>\n      <th>Location</th>\n      <th>VarID</th>\n      <th>Variant</th>\n      <th>Time</th>\n      <th>MidPeriod</th>\n      <th>AgeGrp</th>\n      <th>AgeGrpStart</th>\n      <th>AgeGrpSpan</th>\n      <th>PopMale</th>\n      <th>PopFemale</th>\n      <th>PopTotal</th>\n    </tr>\n  </thead>\n  <tbody>\n    <tr>\n      <th>0</th>\n      <td>4</td>\n      <td>Afghanistan</td>\n      <td>2</td>\n      <td>Medium</td>\n      <td>1950</td>\n      <td>1950.5</td>\n      <td>0</td>\n      <td>0</td>\n      <td>1</td>\n      <td>139.669</td>\n      <td>154.913</td>\n      <td>294.581</td>\n    </tr>\n    <tr>\n      <th>1</th>\n      <td>4</td>\n      <td>Afghanistan</td>\n      <td>2</td>\n      <td>Medium</td>\n      <td>1950</td>\n      <td>1950.5</td>\n      <td>1</td>\n      <td>1</td>\n      <td>1</td>\n      <td>131.916</td>\n      <td>141.851</td>\n      <td>273.767</td>\n    </tr>\n    <tr>\n      <th>2</th>\n      <td>4</td>\n      <td>Afghanistan</td>\n      <td>2</td>\n      <td>Medium</td>\n      <td>1950</td>\n      <td>1950.5</td>\n      <td>2</td>\n      <td>2</td>\n      <td>1</td>\n      <td>125.127</td>\n      <td>130.632</td>\n      <td>255.759</td>\n    </tr>\n    <tr>\n      <th>3</th>\n      <td>4</td>\n      <td>Afghanistan</td>\n      <td>2</td>\n      <td>Medium</td>\n      <td>1950</td>\n      <td>1950.5</td>\n      <td>3</td>\n      <td>3</td>\n      <td>1</td>\n      <td>119.220</td>\n      <td>121.097</td>\n      <td>240.317</td>\n    </tr>\n    <tr>\n      <th>4</th>\n      <td>4</td>\n      <td>Afghanistan</td>\n      <td>2</td>\n      <td>Medium</td>\n      <td>1950</td>\n      <td>1950.5</td>\n      <td>4</td>\n      <td>4</td>\n      <td>1</td>\n      <td>114.112</td>\n      <td>113.085</td>\n      <td>227.198</td>\n    </tr>\n  </tbody>\n</table>\n</div>"
      ],
      "text/plain": [
       "   LocID     Location  VarID Variant  Time  MidPeriod  AgeGrp  AgeGrpStart  \\\n0      4  Afghanistan      2  Medium  1950     1950.5       0            0   \n1      4  Afghanistan      2  Medium  1950     1950.5       1            1   \n2      4  Afghanistan      2  Medium  1950     1950.5       2            2   \n3      4  Afghanistan      2  Medium  1950     1950.5       3            3   \n4      4  Afghanistan      2  Medium  1950     1950.5       4            4   \n\n   AgeGrpSpan  PopMale  PopFemale  PopTotal  \n0           1  139.669    154.913   294.581  \n1           1  131.916    141.851   273.767  \n2           1  125.127    130.632   255.759  \n3           1  119.220    121.097   240.317  \n4           1  114.112    113.085   227.198  "
      ]
     },
     "execution_count": 9,
     "metadata": {},
     "output_type": "execute_result"
    }
   ],
   "source": [
    "df.head()"
   ]
  },
  {
   "cell_type": "code",
   "execution_count": 103,
   "metadata": {
    "autoscroll": false,
    "collapsed": false,
    "ein.hycell": false,
    "ein.tags": "worksheet-0",
    "slideshow": {
     "slide_type": "-"
    }
   },
   "outputs": [
    {
     "data": {
      "text/plain": [
       "array([2])"
      ]
     },
     "execution_count": 103,
     "metadata": {},
     "output_type": "execute_result"
    }
   ],
   "source": [
    "df['VarID'].unique()"
   ]
  },
  {
   "cell_type": "code",
   "execution_count": 104,
   "metadata": {
    "autoscroll": false,
    "collapsed": false,
    "ein.hycell": false,
    "ein.tags": "worksheet-0",
    "slideshow": {
     "slide_type": "-"
    }
   },
   "outputs": [
    {
     "data": {
      "text/plain": [
       "array([  0,   1,   2,   3,   4,   5,   6,   7,   8,   9,  10,  11,  12,\n        13,  14,  15,  16,  17,  18,  19,  20,  21,  22,  23,  24,  25,\n        26,  27,  28,  29,  30,  31,  32,  33,  34,  35,  36,  37,  38,\n        39,  40,  41,  42,  43,  44,  45,  46,  47,  48,  49,  50,  51,\n        52,  53,  54,  55,  56,  57,  58,  59,  60,  61,  62,  63,  64,\n        65,  66,  67,  68,  69,  70,  71,  72,  73,  74,  75,  76,  77,\n        78,  79,  80,  81,  82,  83,  84,  85,  86,  87,  88,  89,  90,\n        91,  92,  93,  94,  95,  96,  97,  98,  99, 100])"
      ]
     },
     "execution_count": 104,
     "metadata": {},
     "output_type": "execute_result"
    }
   ],
   "source": [
    "df['AgeGrp'].unique()"
   ]
  },
  {
   "cell_type": "code",
   "execution_count": 106,
   "metadata": {
    "autoscroll": false,
    "collapsed": false,
    "ein.hycell": false,
    "ein.tags": "worksheet-0",
    "slideshow": {
     "slide_type": "-"
    }
   },
   "outputs": [],
   "source": [
    "df2 = etl.create_popbyage1yr(df)"
   ]
  },
  {
   "cell_type": "code",
   "execution_count": 107,
   "metadata": {
    "autoscroll": false,
    "collapsed": false,
    "ein.hycell": false,
    "ein.tags": "worksheet-0",
    "slideshow": {
     "slide_type": "-"
    }
   },
   "outputs": [
    {
     "data": {
      "text/html": [
       "<div>\n<style scoped>\n    .dataframe tbody tr th:only-of-type {\n        vertical-align: middle;\n    }\n\n    .dataframe tbody tr th {\n        vertical-align: top;\n    }\n\n    .dataframe thead th {\n        text-align: right;\n    }\n</style>\n<table border=\"1\" class=\"dataframe\">\n  <thead>\n    <tr style=\"text-align: right;\">\n      <th></th>\n      <th>geo</th>\n      <th>time</th>\n      <th>age1yearinterval</th>\n      <th>population</th>\n    </tr>\n  </thead>\n  <tbody>\n    <tr>\n      <th>0</th>\n      <td>4</td>\n      <td>1950</td>\n      <td>0</td>\n      <td>294.581</td>\n    </tr>\n    <tr>\n      <th>1</th>\n      <td>4</td>\n      <td>1950</td>\n      <td>1</td>\n      <td>273.767</td>\n    </tr>\n    <tr>\n      <th>2</th>\n      <td>4</td>\n      <td>1950</td>\n      <td>2</td>\n      <td>255.759</td>\n    </tr>\n    <tr>\n      <th>3</th>\n      <td>4</td>\n      <td>1950</td>\n      <td>3</td>\n      <td>240.317</td>\n    </tr>\n    <tr>\n      <th>4</th>\n      <td>4</td>\n      <td>1950</td>\n      <td>4</td>\n      <td>227.198</td>\n    </tr>\n  </tbody>\n</table>\n</div>"
      ],
      "text/plain": [
       "   geo  time  age1yearinterval  population\n0    4  1950                 0     294.581\n1    4  1950                 1     273.767\n2    4  1950                 2     255.759\n3    4  1950                 3     240.317\n4    4  1950                 4     227.198"
      ]
     },
     "execution_count": 107,
     "metadata": {},
     "output_type": "execute_result"
    }
   ],
   "source": [
    "df2.head()"
   ]
  },
  {
   "cell_type": "code",
   "execution_count": 112,
   "metadata": {
    "autoscroll": false,
    "collapsed": false,
    "ein.hycell": false,
    "ein.tags": "worksheet-0",
    "slideshow": {
     "slide_type": "-"
    }
   },
   "outputs": [
    {
     "data": {
      "text/plain": [
       "1     1803\n9     1802\n16    1840\n23    1828\nName: Location code, dtype: object"
      ]
     },
     "execution_count": 112,
     "metadata": {},
     "output_type": "execute_result"
    }
   ],
   "source": [
    "loc[loc['Code'] == '25']['Location code']"
   ]
  },
  {
   "cell_type": "code",
   "execution_count": 117,
   "metadata": {
    "autoscroll": false,
    "collapsed": false,
    "ein.hycell": false,
    "ein.tags": "worksheet-0",
    "slideshow": {
     "slide_type": "-"
    }
   },
   "outputs": [
    {
     "data": {
      "text/html": [
       "<div>\n<style scoped>\n    .dataframe tbody tr th:only-of-type {\n        vertical-align: middle;\n    }\n\n    .dataframe tbody tr th {\n        vertical-align: top;\n    }\n\n    .dataframe thead th {\n        text-align: right;\n    }\n</style>\n<table border=\"1\" class=\"dataframe\">\n  <thead>\n    <tr style=\"text-align: right;\">\n      <th></th>\n      <th>LocID</th>\n      <th>Location</th>\n      <th>VarID</th>\n      <th>Variant</th>\n      <th>Time</th>\n      <th>MidPeriod</th>\n      <th>AgeGrp</th>\n      <th>AgeGrpStart</th>\n      <th>AgeGrpSpan</th>\n      <th>PopMale</th>\n      <th>PopFemale</th>\n      <th>PopTotal</th>\n    </tr>\n  </thead>\n  <tbody>\n  </tbody>\n</table>\n</div>"
      ],
      "text/plain": [
       "Empty DataFrame\nColumns: [LocID, Location, VarID, Variant, Time, MidPeriod, AgeGrp, AgeGrpStart, AgeGrpSpan, PopMale, PopFemale, PopTotal]\nIndex: []"
      ]
     },
     "execution_count": 117,
     "metadata": {},
     "output_type": "execute_result"
    }
   ],
   "source": [
    "df[df['LocID'] == 1828]"
   ]
  },
  {
   "cell_type": "code",
   "execution_count": 13,
   "metadata": {
    "autoscroll": false,
    "collapsed": false,
    "ein.hycell": false,
    "ein.tags": "worksheet-0",
    "slideshow": {
     "slide_type": "-"
    }
   },
   "outputs": [],
   "source": [
    "etl.ENTITYDOMAINS['geo'] = etl.create_geo_domain(loc)\n",
    "etl.create_popbyage1yr(df)"
   ]
  },
  {
   "cell_type": "code",
   "execution_count": 14,
   "metadata": {
    "autoscroll": false,
    "collapsed": false,
    "ein.hycell": false,
    "ein.tags": "worksheet-0",
    "slideshow": {
     "slide_type": "-"
    }
   },
   "outputs": [],
   "source": [
    "df = etl.read_un_csv('../source/csv/WPP2019_PopulationByAgeSex_Medium.csv')"
   ]
  },
  {
   "cell_type": "code",
   "execution_count": 15,
   "metadata": {
    "autoscroll": false,
    "collapsed": false,
    "ein.hycell": false,
    "ein.tags": "worksheet-0",
    "slideshow": {
     "slide_type": "-"
    }
   },
   "outputs": [
    {
     "data": {
      "text/html": [
       "<div>\n<style scoped>\n    .dataframe tbody tr th:only-of-type {\n        vertical-align: middle;\n    }\n\n    .dataframe tbody tr th {\n        vertical-align: top;\n    }\n\n    .dataframe thead th {\n        text-align: right;\n    }\n</style>\n<table border=\"1\" class=\"dataframe\">\n  <thead>\n    <tr style=\"text-align: right;\">\n      <th></th>\n      <th>LocID</th>\n      <th>Location</th>\n      <th>VarID</th>\n      <th>Variant</th>\n      <th>Time</th>\n      <th>MidPeriod</th>\n      <th>AgeGrp</th>\n      <th>AgeGrpStart</th>\n      <th>AgeGrpSpan</th>\n      <th>PopMale</th>\n      <th>PopFemale</th>\n      <th>PopTotal</th>\n    </tr>\n  </thead>\n  <tbody>\n    <tr>\n      <th>0</th>\n      <td>4</td>\n      <td>Afghanistan</td>\n      <td>2</td>\n      <td>Medium</td>\n      <td>1950</td>\n      <td>1950.5</td>\n      <td>0-4</td>\n      <td>0</td>\n      <td>5</td>\n      <td>630.044</td>\n      <td>661.578</td>\n      <td>1291.622</td>\n    </tr>\n    <tr>\n      <th>1</th>\n      <td>4</td>\n      <td>Afghanistan</td>\n      <td>2</td>\n      <td>Medium</td>\n      <td>1950</td>\n      <td>1950.5</td>\n      <td>5-9</td>\n      <td>5</td>\n      <td>5</td>\n      <td>516.206</td>\n      <td>487.335</td>\n      <td>1003.540</td>\n    </tr>\n    <tr>\n      <th>2</th>\n      <td>4</td>\n      <td>Afghanistan</td>\n      <td>2</td>\n      <td>Medium</td>\n      <td>1950</td>\n      <td>1950.5</td>\n      <td>10-14</td>\n      <td>10</td>\n      <td>5</td>\n      <td>461.378</td>\n      <td>423.326</td>\n      <td>884.704</td>\n    </tr>\n    <tr>\n      <th>3</th>\n      <td>4</td>\n      <td>Afghanistan</td>\n      <td>2</td>\n      <td>Medium</td>\n      <td>1950</td>\n      <td>1950.5</td>\n      <td>15-19</td>\n      <td>15</td>\n      <td>5</td>\n      <td>414.369</td>\n      <td>369.363</td>\n      <td>783.732</td>\n    </tr>\n    <tr>\n      <th>4</th>\n      <td>4</td>\n      <td>Afghanistan</td>\n      <td>2</td>\n      <td>Medium</td>\n      <td>1950</td>\n      <td>1950.5</td>\n      <td>20-24</td>\n      <td>20</td>\n      <td>5</td>\n      <td>374.109</td>\n      <td>318.392</td>\n      <td>692.501</td>\n    </tr>\n  </tbody>\n</table>\n</div>"
      ],
      "text/plain": [
       "   LocID     Location  VarID Variant  Time  MidPeriod AgeGrp  AgeGrpStart  \\\n0      4  Afghanistan      2  Medium  1950     1950.5    0-4            0   \n1      4  Afghanistan      2  Medium  1950     1950.5    5-9            5   \n2      4  Afghanistan      2  Medium  1950     1950.5  10-14           10   \n3      4  Afghanistan      2  Medium  1950     1950.5  15-19           15   \n4      4  Afghanistan      2  Medium  1950     1950.5  20-24           20   \n\n   AgeGrpSpan  PopMale  PopFemale  PopTotal  \n0           5  630.044    661.578  1291.622  \n1           5  516.206    487.335  1003.540  \n2           5  461.378    423.326   884.704  \n3           5  414.369    369.363   783.732  \n4           5  374.109    318.392   692.501  "
      ]
     },
     "execution_count": 15,
     "metadata": {},
     "output_type": "execute_result"
    }
   ],
   "source": [
    "df.head()"
   ]
  },
  {
   "cell_type": "code",
   "execution_count": 103,
   "metadata": {
    "autoscroll": false,
    "collapsed": false,
    "ein.hycell": false,
    "ein.tags": "worksheet-0",
    "slideshow": {
     "slide_type": "-"
    }
   },
   "outputs": [],
   "source": [
    "df = etl.read_un_csv('../source/csv/WPP2019_Period_Indicators_Medium.csv')"
   ]
  },
  {
   "cell_type": "code",
   "execution_count": 17,
   "metadata": {
    "autoscroll": false,
    "collapsed": false,
    "ein.hycell": false,
    "ein.tags": "worksheet-0",
    "slideshow": {
     "slide_type": "-"
    }
   },
   "outputs": [
    {
     "data": {
      "text/html": [
       "<div>\n<style scoped>\n    .dataframe tbody tr th:only-of-type {\n        vertical-align: middle;\n    }\n\n    .dataframe tbody tr th {\n        vertical-align: top;\n    }\n\n    .dataframe thead th {\n        text-align: right;\n    }\n</style>\n<table border=\"1\" class=\"dataframe\">\n  <thead>\n    <tr style=\"text-align: right;\">\n      <th></th>\n      <th>LocID</th>\n      <th>Location</th>\n      <th>VarID</th>\n      <th>Variant</th>\n      <th>Time</th>\n      <th>MidPeriod</th>\n      <th>TFR</th>\n      <th>NRR</th>\n      <th>CBR</th>\n      <th>Births</th>\n      <th>...</th>\n      <th>CDR</th>\n      <th>Deaths</th>\n      <th>DeathsMale</th>\n      <th>DeathsFemale</th>\n      <th>CNMR</th>\n      <th>NetMigrations</th>\n      <th>GrowthRate</th>\n      <th>NatIncr</th>\n      <th>SRB</th>\n      <th>MAC</th>\n    </tr>\n  </thead>\n  <tbody>\n    <tr>\n      <th>0</th>\n      <td>4</td>\n      <td>Afghanistan</td>\n      <td>2</td>\n      <td>Medium</td>\n      <td>1950-1955</td>\n      <td>1953</td>\n      <td>7.45</td>\n      <td>1.636</td>\n      <td>50.314</td>\n      <td>2015.476</td>\n      <td>...</td>\n      <td>36.862</td>\n      <td>1476.605</td>\n      <td>794.020</td>\n      <td>682.585</td>\n      <td>-0.499</td>\n      <td>-20.0</td>\n      <td>1.296</td>\n      <td>13.452</td>\n      <td>1.06</td>\n      <td>29.835</td>\n    </tr>\n    <tr>\n      <th>1</th>\n      <td>4</td>\n      <td>Afghanistan</td>\n      <td>2</td>\n      <td>Medium</td>\n      <td>1955-1960</td>\n      <td>1958</td>\n      <td>7.45</td>\n      <td>1.765</td>\n      <td>50.998</td>\n      <td>2201.589</td>\n      <td>...</td>\n      <td>33.718</td>\n      <td>1455.605</td>\n      <td>783.110</td>\n      <td>672.495</td>\n      <td>-0.463</td>\n      <td>-20.0</td>\n      <td>1.683</td>\n      <td>17.280</td>\n      <td>1.06</td>\n      <td>29.835</td>\n    </tr>\n    <tr>\n      <th>2</th>\n      <td>4</td>\n      <td>Afghanistan</td>\n      <td>2</td>\n      <td>Medium</td>\n      <td>1960-1965</td>\n      <td>1963</td>\n      <td>7.45</td>\n      <td>1.899</td>\n      <td>51.477</td>\n      <td>2439.130</td>\n      <td>...</td>\n      <td>30.808</td>\n      <td>1459.784</td>\n      <td>777.437</td>\n      <td>682.347</td>\n      <td>-0.422</td>\n      <td>-20.0</td>\n      <td>2.026</td>\n      <td>20.669</td>\n      <td>1.06</td>\n      <td>29.835</td>\n    </tr>\n    <tr>\n      <th>3</th>\n      <td>4</td>\n      <td>Afghanistan</td>\n      <td>2</td>\n      <td>Medium</td>\n      <td>1965-1970</td>\n      <td>1968</td>\n      <td>7.45</td>\n      <td>2.017</td>\n      <td>51.646</td>\n      <td>2728.221</td>\n      <td>...</td>\n      <td>28.223</td>\n      <td>1490.896</td>\n      <td>790.745</td>\n      <td>700.151</td>\n      <td>-0.379</td>\n      <td>-20.0</td>\n      <td>2.307</td>\n      <td>23.423</td>\n      <td>1.06</td>\n      <td>29.835</td>\n    </tr>\n    <tr>\n      <th>4</th>\n      <td>4</td>\n      <td>Afghanistan</td>\n      <td>2</td>\n      <td>Medium</td>\n      <td>1970-1975</td>\n      <td>1973</td>\n      <td>7.45</td>\n      <td>2.141</td>\n      <td>51.234</td>\n      <td>3056.451</td>\n      <td>...</td>\n      <td>25.495</td>\n      <td>1520.938</td>\n      <td>802.414</td>\n      <td>718.524</td>\n      <td>-0.335</td>\n      <td>-20.0</td>\n      <td>2.544</td>\n      <td>25.739</td>\n      <td>1.06</td>\n      <td>29.835</td>\n    </tr>\n  </tbody>\n</table>\n<p>5 rows × 25 columns</p>\n</div>"
      ],
      "text/plain": [
       "   LocID     Location  VarID Variant       Time  MidPeriod   TFR    NRR  \\\n0      4  Afghanistan      2  Medium  1950-1955       1953  7.45  1.636   \n1      4  Afghanistan      2  Medium  1955-1960       1958  7.45  1.765   \n2      4  Afghanistan      2  Medium  1960-1965       1963  7.45  1.899   \n3      4  Afghanistan      2  Medium  1965-1970       1968  7.45  2.017   \n4      4  Afghanistan      2  Medium  1970-1975       1973  7.45  2.141   \n\n      CBR    Births  ...     CDR    Deaths  DeathsMale  DeathsFemale   CNMR  \\\n0  50.314  2015.476  ...  36.862  1476.605     794.020       682.585 -0.499   \n1  50.998  2201.589  ...  33.718  1455.605     783.110       672.495 -0.463   \n2  51.477  2439.130  ...  30.808  1459.784     777.437       682.347 -0.422   \n3  51.646  2728.221  ...  28.223  1490.896     790.745       700.151 -0.379   \n4  51.234  3056.451  ...  25.495  1520.938     802.414       718.524 -0.335   \n\n   NetMigrations  GrowthRate  NatIncr   SRB     MAC  \n0          -20.0       1.296   13.452  1.06  29.835  \n1          -20.0       1.683   17.280  1.06  29.835  \n2          -20.0       2.026   20.669  1.06  29.835  \n3          -20.0       2.307   23.423  1.06  29.835  \n4          -20.0       2.544   25.739  1.06  29.835  \n\n[5 rows x 25 columns]"
      ]
     },
     "execution_count": 17,
     "metadata": {},
     "output_type": "execute_result"
    }
   ],
   "source": [
    "df.head()"
   ]
  },
  {
   "cell_type": "code",
   "execution_count": 104,
   "metadata": {
    "autoscroll": false,
    "collapsed": false,
    "ein.hycell": false,
    "ein.tags": "worksheet-0",
    "slideshow": {
     "slide_type": "-"
    }
   },
   "outputs": [],
   "source": [
    "# pre processing\n",
    "df = df.drop(['Location', 'VarID', 'Variant', 'MidPeriod'], axis=1)\n",
    "df['Time'] = df['Time'].map(lambda x: x.split('-')[0])"
   ]
  },
  {
   "cell_type": "code",
   "execution_count": 105,
   "metadata": {
    "autoscroll": false,
    "collapsed": false,
    "ein.hycell": false,
    "ein.tags": "worksheet-0",
    "slideshow": {
     "slide_type": "-"
    }
   },
   "outputs": [],
   "source": [
    "df = df.set_index(['LocID', 'Time'])"
   ]
  },
  {
   "cell_type": "code",
   "execution_count": 21,
   "metadata": {
    "autoscroll": false,
    "collapsed": false,
    "ein.hycell": false,
    "ein.tags": "worksheet-0",
    "slideshow": {
     "slide_type": "-"
    }
   },
   "outputs": [
    {
     "data": {
      "text/html": [
       "<div>\n<style scoped>\n    .dataframe tbody tr th:only-of-type {\n        vertical-align: middle;\n    }\n\n    .dataframe tbody tr th {\n        vertical-align: top;\n    }\n\n    .dataframe thead th {\n        text-align: right;\n    }\n</style>\n<table border=\"1\" class=\"dataframe\">\n  <thead>\n    <tr style=\"text-align: right;\">\n      <th></th>\n      <th></th>\n      <th>TFR</th>\n      <th>NRR</th>\n      <th>CBR</th>\n      <th>Births</th>\n      <th>LEx</th>\n      <th>LExMale</th>\n      <th>LExFemale</th>\n      <th>IMR</th>\n      <th>Q5</th>\n      <th>CDR</th>\n      <th>Deaths</th>\n      <th>DeathsMale</th>\n      <th>DeathsFemale</th>\n      <th>CNMR</th>\n      <th>NetMigrations</th>\n      <th>GrowthRate</th>\n      <th>NatIncr</th>\n      <th>SRB</th>\n      <th>MAC</th>\n    </tr>\n    <tr>\n      <th>LocID</th>\n      <th>Time</th>\n      <th></th>\n      <th></th>\n      <th></th>\n      <th></th>\n      <th></th>\n      <th></th>\n      <th></th>\n      <th></th>\n      <th></th>\n      <th></th>\n      <th></th>\n      <th></th>\n      <th></th>\n      <th></th>\n      <th></th>\n      <th></th>\n      <th></th>\n      <th></th>\n      <th></th>\n    </tr>\n  </thead>\n  <tbody>\n    <tr>\n      <th rowspan=\"5\" valign=\"top\">4</th>\n      <th>1950</th>\n      <td>7.45</td>\n      <td>1.636</td>\n      <td>50.314</td>\n      <td>2015.476</td>\n      <td>28.61</td>\n      <td>27.94</td>\n      <td>29.43</td>\n      <td>275.866</td>\n      <td>405.090</td>\n      <td>36.862</td>\n      <td>1476.605</td>\n      <td>794.020</td>\n      <td>682.585</td>\n      <td>-0.499</td>\n      <td>-20.0</td>\n      <td>1.296</td>\n      <td>13.452</td>\n      <td>1.06</td>\n      <td>29.835</td>\n    </tr>\n    <tr>\n      <th>1955</th>\n      <td>7.45</td>\n      <td>1.765</td>\n      <td>50.998</td>\n      <td>2201.589</td>\n      <td>31.13</td>\n      <td>30.43</td>\n      <td>31.97</td>\n      <td>253.647</td>\n      <td>374.138</td>\n      <td>33.718</td>\n      <td>1455.605</td>\n      <td>783.110</td>\n      <td>672.495</td>\n      <td>-0.463</td>\n      <td>-20.0</td>\n      <td>1.683</td>\n      <td>17.280</td>\n      <td>1.06</td>\n      <td>29.835</td>\n    </tr>\n    <tr>\n      <th>1960</th>\n      <td>7.45</td>\n      <td>1.899</td>\n      <td>51.477</td>\n      <td>2439.130</td>\n      <td>33.74</td>\n      <td>32.99</td>\n      <td>34.64</td>\n      <td>230.194</td>\n      <td>341.957</td>\n      <td>30.808</td>\n      <td>1459.784</td>\n      <td>777.437</td>\n      <td>682.347</td>\n      <td>-0.422</td>\n      <td>-20.0</td>\n      <td>2.026</td>\n      <td>20.669</td>\n      <td>1.06</td>\n      <td>29.835</td>\n    </tr>\n    <tr>\n      <th>1965</th>\n      <td>7.45</td>\n      <td>2.017</td>\n      <td>51.646</td>\n      <td>2728.221</td>\n      <td>36.15</td>\n      <td>35.37</td>\n      <td>37.06</td>\n      <td>211.072</td>\n      <td>314.708</td>\n      <td>28.223</td>\n      <td>1490.896</td>\n      <td>790.745</td>\n      <td>700.151</td>\n      <td>-0.379</td>\n      <td>-20.0</td>\n      <td>2.307</td>\n      <td>23.423</td>\n      <td>1.06</td>\n      <td>29.835</td>\n    </tr>\n    <tr>\n      <th>1970</th>\n      <td>7.45</td>\n      <td>2.141</td>\n      <td>51.234</td>\n      <td>3056.451</td>\n      <td>38.74</td>\n      <td>37.92</td>\n      <td>39.67</td>\n      <td>191.642</td>\n      <td>286.630</td>\n      <td>25.495</td>\n      <td>1520.938</td>\n      <td>802.414</td>\n      <td>718.524</td>\n      <td>-0.335</td>\n      <td>-20.0</td>\n      <td>2.544</td>\n      <td>25.739</td>\n      <td>1.06</td>\n      <td>29.835</td>\n    </tr>\n  </tbody>\n</table>\n</div>"
      ],
      "text/plain": [
       "             TFR    NRR     CBR    Births    LEx  LExMale  LExFemale      IMR  \\\nLocID Time                                                                      \n4     1950  7.45  1.636  50.314  2015.476  28.61    27.94      29.43  275.866   \n      1955  7.45  1.765  50.998  2201.589  31.13    30.43      31.97  253.647   \n      1960  7.45  1.899  51.477  2439.130  33.74    32.99      34.64  230.194   \n      1965  7.45  2.017  51.646  2728.221  36.15    35.37      37.06  211.072   \n      1970  7.45  2.141  51.234  3056.451  38.74    37.92      39.67  191.642   \n\n                 Q5     CDR    Deaths  DeathsMale  DeathsFemale   CNMR  \\\nLocID Time                                                               \n4     1950  405.090  36.862  1476.605     794.020       682.585 -0.499   \n      1955  374.138  33.718  1455.605     783.110       672.495 -0.463   \n      1960  341.957  30.808  1459.784     777.437       682.347 -0.422   \n      1965  314.708  28.223  1490.896     790.745       700.151 -0.379   \n      1970  286.630  25.495  1520.938     802.414       718.524 -0.335   \n\n            NetMigrations  GrowthRate  NatIncr   SRB     MAC  \nLocID Time                                                    \n4     1950          -20.0       1.296   13.452  1.06  29.835  \n      1955          -20.0       1.683   17.280  1.06  29.835  \n      1960          -20.0       2.026   20.669  1.06  29.835  \n      1965          -20.0       2.307   23.423  1.06  29.835  \n      1970          -20.0       2.544   25.739  1.06  29.835  "
      ]
     },
     "execution_count": 21,
     "metadata": {},
     "output_type": "execute_result"
    }
   ],
   "source": [
    "df.head()"
   ]
  },
  {
   "cell_type": "code",
   "execution_count": 106,
   "metadata": {
    "autoscroll": false,
    "collapsed": false,
    "ein.hycell": false,
    "ein.tags": "worksheet-0",
    "slideshow": {
     "slide_type": "-"
    }
   },
   "outputs": [],
   "source": [
    "etl.ENTITYDOMAINS['geo'] = etl.create_geo_domain(loc)\n",
    "etl.create_period_indicators_gender(df)"
   ]
  },
  {
   "cell_type": "code",
   "execution_count": 107,
   "metadata": {
    "autoscroll": false,
    "collapsed": false,
    "ein.hycell": false,
    "ein.tags": "worksheet-0",
    "slideshow": {
     "slide_type": "-"
    }
   },
   "outputs": [],
   "source": [
    "df2 = df.drop(['DeathsMale', 'DeathsFemale', 'LExMale', 'LExFemale'], axis=1)"
   ]
  },
  {
   "cell_type": "code",
   "execution_count": 108,
   "metadata": {
    "autoscroll": false,
    "collapsed": false,
    "ein.hycell": false,
    "ein.tags": "worksheet-0",
    "slideshow": {
     "slide_type": "-"
    }
   },
   "outputs": [],
   "source": [
    "etl.ENTITYDOMAINS['geo'] = etl.create_geo_domain(loc)\n",
    "etl.create_period_indicators(df2)"
   ]
  },
  {
   "cell_type": "code",
   "execution_count": 33,
   "metadata": {
    "autoscroll": false,
    "collapsed": false,
    "ein.hycell": false,
    "ein.tags": "worksheet-0",
    "slideshow": {
     "slide_type": "-"
    }
   },
   "outputs": [
    {
     "data": {
      "text/plain": [
       "'total_dep_ratio_1564'"
      ]
     },
     "execution_count": 33,
     "metadata": {},
     "output_type": "execute_result"
    }
   ],
   "source": [
    "etl.get_dep_ratio_id(\"Annual total dep. ratio [(0-14 & 65+) / 15-64] (%)\")"
   ]
  },
  {
   "cell_type": "code",
   "execution_count": 34,
   "metadata": {
    "autoscroll": false,
    "collapsed": false,
    "ein.hycell": false,
    "ein.tags": "worksheet-0",
    "slideshow": {
     "slide_type": "-"
    }
   },
   "outputs": [
    {
     "data": {
      "text/plain": [
       "'oldage_dep_ratio_2564'"
      ]
     },
     "execution_count": 34,
     "metadata": {},
     "output_type": "execute_result"
    }
   ],
   "source": [
    "etl.get_dep_ratio_id(\"Annual old-age dep. ratio [65+ / 25-64] (%)\")"
   ]
  },
  {
   "cell_type": "code",
   "execution_count": 36,
   "metadata": {
    "autoscroll": false,
    "collapsed": false,
    "ein.hycell": false,
    "ein.tags": "worksheet-0",
    "slideshow": {
     "slide_type": "-"
    }
   },
   "outputs": [
    {
     "data": {
      "text/plain": [
       "'potential_support_ratio_[2069'"
      ]
     },
     "execution_count": 36,
     "metadata": {},
     "output_type": "execute_result"
    }
   ],
   "source": [
    "etl.get_dep_ratio_id(\"Annual potential support ratio [20-69/70+]\")"
   ]
  },
  {
   "cell_type": "code",
   "execution_count": 48,
   "metadata": {
    "autoscroll": false,
    "collapsed": false,
    "ein.hycell": false,
    "ein.tags": "worksheet-0",
    "slideshow": {
     "slide_type": "-"
    }
   },
   "outputs": [],
   "source": [
    "dims = [\"Country code\", \"Reference date (as of 1 July)\"]\n",
    "\n",
    "df = etl.merge_xls_variants('../source/WPP2019_INT_F02C_1_ANNUAL_POPULATION_INDICATORS_DEPENDENCY_RATIOS_BOTH_SEXES.xlsx', 'ESTIMATES', 'MEDIUM VARIANT', dims)"
   ]
  },
  {
   "cell_type": "code",
   "execution_count": 43,
   "metadata": {
    "autoscroll": false,
    "collapsed": false,
    "ein.hycell": false,
    "ein.tags": "worksheet-0",
    "slideshow": {
     "slide_type": "-"
    }
   },
   "outputs": [
    {
     "data": {
      "text/plain": [
       "Index(['Country code', 'Reference date (as of 1 July)', 'Index', 'Variant',\n       'Region, subregion, country or area *', 'Notes', 'Type', 'Parent code',\n       'Annual total dep. ratio [(0-14 & 65+) / 15-64] (%)',\n       'Annual total dep. ratio [(0-19 & 65+) / 20-64] (%)',\n       'Annual total dep. ratio [(0-19 & 70+) / 20-69] (%)',\n       'Annual total dep. ratio [(0-24 & 70+) / 25-69] (%)',\n       'Annual total dep. ratio [(0-24 & 65+) / 25-64] (%)',\n       'Annual child dep. ratio [0-14 / 15-64] (%)',\n       'Annual child dep. ratio [0-19 / 20-64] (%)',\n       'Annual child dep. ratio [0-19 / 20-69] (%)',\n       'Annual child dep. ratio [0-24 / 25-69] (%)',\n       'Annual child dep. ratio [0-24 / 25-64] (%)',\n       'Annual old-age dep. ratio [65+ / 15-64] (%)',\n       'Annual old-age dep. ratio [65+ / 20-64] (%)',\n       'Annual old-age dep. ratio [70+ / 20-69] (%)',\n       'Annual old-age dep. ratio [70+ / 25-69] (%)',\n       'Annual old-age dep. ratio [65+ / 25-64] (%)',\n       'Annual potential support ratio [15-64/65+]',\n       'Annual potential support ratio [20-64/65+]',\n       'Annual potential support ratio [20-69/70+]',\n       'Annual potential support ratio [25-69/70+]',\n       'Annual potential support ratio [25-64/65+]'],\n      dtype='object')"
      ]
     },
     "execution_count": 43,
     "metadata": {},
     "output_type": "execute_result"
    }
   ],
   "source": [
    "df.columns"
   ]
  },
  {
   "cell_type": "code",
   "execution_count": 49,
   "metadata": {
    "autoscroll": false,
    "collapsed": false,
    "ein.hycell": false,
    "ein.tags": "worksheet-0",
    "slideshow": {
     "slide_type": "-"
    }
   },
   "outputs": [],
   "source": [
    "# preprocess\n",
    "df = df[df['Type'] != 'Label/Separator']\n",
    "df = df.drop(['Index', 'Variant', \n",
    "              'Region, subregion, country or area *', \n",
    "              'Notes', 'Type', 'Parent code'], axis=1)"
   ]
  },
  {
   "cell_type": "code",
   "execution_count": 45,
   "metadata": {
    "autoscroll": false,
    "collapsed": false,
    "ein.hycell": false,
    "ein.tags": "worksheet-0",
    "slideshow": {
     "slide_type": "-"
    }
   },
   "outputs": [
    {
     "data": {
      "text/plain": [
       "Index(['Country code', 'Reference date (as of 1 July)',\n       'Annual total dep. ratio [(0-14 & 65+) / 15-64] (%)',\n       'Annual total dep. ratio [(0-19 & 65+) / 20-64] (%)',\n       'Annual total dep. ratio [(0-19 & 70+) / 20-69] (%)',\n       'Annual total dep. ratio [(0-24 & 70+) / 25-69] (%)',\n       'Annual total dep. ratio [(0-24 & 65+) / 25-64] (%)',\n       'Annual child dep. ratio [0-14 / 15-64] (%)',\n       'Annual child dep. ratio [0-19 / 20-64] (%)',\n       'Annual child dep. ratio [0-19 / 20-69] (%)',\n       'Annual child dep. ratio [0-24 / 25-69] (%)',\n       'Annual child dep. ratio [0-24 / 25-64] (%)',\n       'Annual old-age dep. ratio [65+ / 15-64] (%)',\n       'Annual old-age dep. ratio [65+ / 20-64] (%)',\n       'Annual old-age dep. ratio [70+ / 20-69] (%)',\n       'Annual old-age dep. ratio [70+ / 25-69] (%)',\n       'Annual old-age dep. ratio [65+ / 25-64] (%)',\n       'Annual potential support ratio [15-64/65+]',\n       'Annual potential support ratio [20-64/65+]',\n       'Annual potential support ratio [20-69/70+]',\n       'Annual potential support ratio [25-69/70+]',\n       'Annual potential support ratio [25-64/65+]'],\n      dtype='object')"
      ]
     },
     "execution_count": 45,
     "metadata": {},
     "output_type": "execute_result"
    }
   ],
   "source": [
    "df.columns"
   ]
  },
  {
   "cell_type": "code",
   "execution_count": 52,
   "metadata": {
    "autoscroll": false,
    "collapsed": false,
    "ein.hycell": false,
    "ein.tags": "worksheet-0",
    "slideshow": {
     "slide_type": "-"
    }
   },
   "outputs": [],
   "source": [
    "etl.ENTITYDOMAINS['geo'] = etl.create_geo_domain(loc)\n",
    "etl.create_dep_ratio_indicators(df)"
   ]
  },
  {
   "cell_type": "code",
   "execution_count": 54,
   "metadata": {
    "autoscroll": false,
    "collapsed": false,
    "ein.hycell": false,
    "ein.tags": "worksheet-0",
    "slideshow": {
     "slide_type": "-"
    }
   },
   "outputs": [
    {
     "data": {
      "text/plain": [
       "dict_keys(['total_dep_ratio_1564', 'total_dep_ratio_2064', 'total_dep_ratio_2069', 'total_dep_ratio_2569', 'total_dep_ratio_2564', 'child_dep_ratio_1564', 'child_dep_ratio_2064', 'child_dep_ratio_2069', 'child_dep_ratio_2569', 'child_dep_ratio_2564', 'oldage_dep_ratio_1564', 'oldage_dep_ratio_2064', 'oldage_dep_ratio_2069', 'oldage_dep_ratio_2569', 'oldage_dep_ratio_2564', 'potential_support_ratio_1564', 'potential_support_ratio_2064', 'potential_support_ratio_2069', 'potential_support_ratio_2569', 'potential_support_ratio_2564'])"
      ]
     },
     "execution_count": 54,
     "metadata": {},
     "output_type": "execute_result"
    }
   ],
   "source": [
    "etl.CONCEPTS.keys()"
   ]
  },
  {
   "cell_type": "code",
   "execution_count": 56,
   "metadata": {
    "autoscroll": false,
    "collapsed": false,
    "ein.hycell": false,
    "ein.tags": "worksheet-0",
    "slideshow": {
     "slide_type": "-"
    }
   },
   "outputs": [],
   "source": [
    "cdf1 = pd.DataFrame.from_records([c.to_dict() for c in etl.CONCEPTS.values()])"
   ]
  },
  {
   "cell_type": "code",
   "execution_count": 62,
   "metadata": {
    "autoscroll": false,
    "collapsed": false,
    "ein.hycell": false,
    "ein.tags": "worksheet-0",
    "slideshow": {
     "slide_type": "-"
    }
   },
   "outputs": [
    {
     "name": "stdout",
     "output_type": "stream",
     "text": [
      "concept,name,concept_type,domain\n",
      "total_dep_ratio_1564,Annual total dep. ratio [(0-14 & 65+) / 15-64] (%),measure,\n",
      "total_dep_ratio_2064,Annual total dep. ratio [(0-19 & 65+) / 20-64] (%),measure,\n",
      "total_dep_ratio_2069,Annual total dep. ratio [(0-19 & 70+) / 20-69] (%),measure,\n",
      "total_dep_ratio_2569,Annual total dep. ratio [(0-24 & 70+) / 25-69] (%),measure,\n",
      "total_dep_ratio_2564,Annual total dep. ratio [(0-24 & 65+) / 25-64] (%),measure,\n",
      "child_dep_ratio_1564,Annual child dep. ratio [0-14 / 15-64] (%),measure,\n",
      "child_dep_ratio_2064,Annual child dep. ratio [0-19 / 20-64] (%),measure,\n",
      "child_dep_ratio_2069,Annual child dep. ratio [0-19 / 20-69] (%),measure,\n",
      "child_dep_ratio_2569,Annual child dep. ratio [0-24 / 25-69] (%),measure,\n",
      "child_dep_ratio_2564,Annual child dep. ratio [0-24 / 25-64] (%),measure,\n",
      "oldage_dep_ratio_1564,Annual old-age dep. ratio [65+ / 15-64] (%),measure,\n",
      "oldage_dep_ratio_2064,Annual old-age dep. ratio [65+ / 20-64] (%),measure,\n",
      "oldage_dep_ratio_2069,Annual old-age dep. ratio [70+ / 20-69] (%),measure,\n",
      "oldage_dep_ratio_2569,Annual old-age dep. ratio [70+ / 25-69] (%),measure,\n",
      "oldage_dep_ratio_2564,Annual old-age dep. ratio [65+ / 25-64] (%),measure,\n",
      "potential_support_ratio_1564,Annual potential support ratio [15-64/65+],measure,\n",
      "potential_support_ratio_2064,Annual potential support ratio [20-64/65+],measure,\n",
      "potential_support_ratio_2069,Annual potential support ratio [20-69/70+],measure,\n",
      "potential_support_ratio_2569,Annual potential support ratio [25-69/70+],measure,\n",
      "potential_support_ratio_2564,Annual potential support ratio [25-64/65+],measure,\n",
      "\n"
     ]
    }
   ],
   "source": [
    "print(cdf1.assign(domain='')[['concept', 'name', 'concept_type', 'domain']].to_csv(index=False))"
   ]
  },
  {
   "cell_type": "code",
   "execution_count": 85,
   "metadata": {
    "autoscroll": false,
    "collapsed": false,
    "ein.hycell": false,
    "ein.tags": "worksheet-0",
    "slideshow": {
     "slide_type": "-"
    }
   },
   "outputs": [],
   "source": [
    "df = etl.merge_xls_variants('../source/WPP2019_MORT_F01_1_IMR_BOTH_SEXES.xlsx', 'ESTIMATES', 'MEDIUM VARIANT', dims=['Country code'], axis=1)"
   ]
  },
  {
   "cell_type": "code",
   "execution_count": 86,
   "metadata": {
    "autoscroll": false,
    "collapsed": false,
    "ein.hycell": false,
    "ein.tags": "worksheet-0",
    "slideshow": {
     "slide_type": "-"
    }
   },
   "outputs": [
    {
     "data": {
      "text/html": [
       "<div>\n<style scoped>\n    .dataframe tbody tr th:only-of-type {\n        vertical-align: middle;\n    }\n\n    .dataframe tbody tr th {\n        vertical-align: top;\n    }\n\n    .dataframe thead th {\n        text-align: right;\n    }\n</style>\n<table border=\"1\" class=\"dataframe\">\n  <thead>\n    <tr style=\"text-align: right;\">\n      <th></th>\n      <th>Country code</th>\n      <th>Index_x</th>\n      <th>Variant_x</th>\n      <th>Region, subregion, country or area *_x</th>\n      <th>Notes_x</th>\n      <th>Type_x</th>\n      <th>Parent code_x</th>\n      <th>1950-1955</th>\n      <th>1955-1960</th>\n      <th>1960-1965</th>\n      <th>...</th>\n      <th>2050-2055</th>\n      <th>2055-2060</th>\n      <th>2060-2065</th>\n      <th>2065-2070</th>\n      <th>2070-2075</th>\n      <th>2075-2080</th>\n      <th>2080-2085</th>\n      <th>2085-2090</th>\n      <th>2090-2095</th>\n      <th>2095-2100</th>\n    </tr>\n  </thead>\n  <tbody>\n    <tr>\n      <th>0</th>\n      <td>900</td>\n      <td>1</td>\n      <td>Estimates</td>\n      <td>WORLD</td>\n      <td>NaN</td>\n      <td>World</td>\n      <td>0</td>\n      <td>139.574</td>\n      <td>127.719</td>\n      <td>120.353</td>\n      <td>...</td>\n      <td>14.7832</td>\n      <td>13.7518</td>\n      <td>12.8616</td>\n      <td>12.0582</td>\n      <td>11.343</td>\n      <td>10.6976</td>\n      <td>10.1213</td>\n      <td>9.60881</td>\n      <td>9.15142</td>\n      <td>8.72298</td>\n    </tr>\n    <tr>\n      <th>1</th>\n      <td>1803</td>\n      <td>2</td>\n      <td>Estimates</td>\n      <td>UN development groups</td>\n      <td>a</td>\n      <td>Label/Separator</td>\n      <td>900</td>\n      <td>…</td>\n      <td>…</td>\n      <td>…</td>\n      <td>...</td>\n      <td>…</td>\n      <td>…</td>\n      <td>…</td>\n      <td>…</td>\n      <td>…</td>\n      <td>…</td>\n      <td>…</td>\n      <td>…</td>\n      <td>…</td>\n      <td>…</td>\n    </tr>\n    <tr>\n      <th>2</th>\n      <td>901</td>\n      <td>3</td>\n      <td>Estimates</td>\n      <td>More developed regions</td>\n      <td>b</td>\n      <td>Development Group</td>\n      <td>1803</td>\n      <td>58.8711</td>\n      <td>42.9128</td>\n      <td>32.6987</td>\n      <td>...</td>\n      <td>1.88428</td>\n      <td>1.72183</td>\n      <td>1.58006</td>\n      <td>1.45237</td>\n      <td>1.33989</td>\n      <td>1.24075</td>\n      <td>1.15332</td>\n      <td>1.07508</td>\n      <td>1.00276</td>\n      <td>0.935446</td>\n    </tr>\n    <tr>\n      <th>3</th>\n      <td>902</td>\n      <td>4</td>\n      <td>Estimates</td>\n      <td>Less developed regions</td>\n      <td>c</td>\n      <td>Development Group</td>\n      <td>1803</td>\n      <td>158.67</td>\n      <td>146.942</td>\n      <td>137.478</td>\n      <td>...</td>\n      <td>16.0433</td>\n      <td>14.9177</td>\n      <td>13.9521</td>\n      <td>13.0905</td>\n      <td>12.3291</td>\n      <td>11.6422</td>\n      <td>11.0279</td>\n      <td>10.4798</td>\n      <td>9.99211</td>\n      <td>9.53825</td>\n    </tr>\n    <tr>\n      <th>4</th>\n      <td>941</td>\n      <td>5</td>\n      <td>Estimates</td>\n      <td>Least developed countries</td>\n      <td>d</td>\n      <td>Development Group</td>\n      <td>902</td>\n      <td>197.167</td>\n      <td>179.547</td>\n      <td>165.176</td>\n      <td>...</td>\n      <td>20.8644</td>\n      <td>19.2038</td>\n      <td>17.7767</td>\n      <td>16.5392</td>\n      <td>15.4747</td>\n      <td>14.5258</td>\n      <td>13.6738</td>\n      <td>12.9077</td>\n      <td>12.2303</td>\n      <td>11.598</td>\n    </tr>\n  </tbody>\n</table>\n<p>5 rows × 43 columns</p>\n</div>"
      ],
      "text/plain": [
       "   Country code  Index_x  Variant_x Region, subregion, country or area *_x  \\\n0           900        1  Estimates                                  WORLD   \n1          1803        2  Estimates                  UN development groups   \n2           901        3  Estimates                 More developed regions   \n3           902        4  Estimates                 Less developed regions   \n4           941        5  Estimates              Least developed countries   \n\n  Notes_x             Type_x  Parent code_x 1950-1955 1955-1960 1960-1965  \\\n0     NaN              World              0   139.574   127.719   120.353   \n1       a    Label/Separator            900         …         …         …   \n2       b  Development Group           1803   58.8711   42.9128   32.6987   \n3       c  Development Group           1803    158.67   146.942   137.478   \n4       d  Development Group            902   197.167   179.547   165.176   \n\n   ... 2050-2055 2055-2060 2060-2065 2065-2070 2070-2075 2075-2080 2080-2085  \\\n0  ...   14.7832   13.7518   12.8616   12.0582    11.343   10.6976   10.1213   \n1  ...         …         …         …         …         …         …         …   \n2  ...   1.88428   1.72183   1.58006   1.45237   1.33989   1.24075   1.15332   \n3  ...   16.0433   14.9177   13.9521   13.0905   12.3291   11.6422   11.0279   \n4  ...   20.8644   19.2038   17.7767   16.5392   15.4747   14.5258   13.6738   \n\n  2085-2090 2090-2095 2095-2100  \n0   9.60881   9.15142   8.72298  \n1         …         …         …  \n2   1.07508   1.00276  0.935446  \n3   10.4798   9.99211   9.53825  \n4   12.9077   12.2303    11.598  \n\n[5 rows x 43 columns]"
      ]
     },
     "execution_count": 86,
     "metadata": {},
     "output_type": "execute_result"
    }
   ],
   "source": [
    "df.head()"
   ]
  },
  {
   "cell_type": "code",
   "execution_count": 87,
   "metadata": {
    "autoscroll": false,
    "collapsed": false,
    "ein.hycell": false,
    "ein.tags": "worksheet-0",
    "slideshow": {
     "slide_type": "-"
    }
   },
   "outputs": [
    {
     "data": {
      "text/plain": [
       "Index(['Country code', 'Index_x', 'Variant_x',\n       'Region, subregion, country or area *_x', 'Notes_x', 'Type_x',\n       'Parent code_x', '1950-1955', '1955-1960', '1960-1965', '1965-1970',\n       '1970-1975', '1975-1980', '1980-1985', '1985-1990', '1990-1995',\n       '1995-2000', '2000-2005', '2005-2010', '2010-2015', '2015-2020',\n       'Index_y', 'Variant_y', 'Region, subregion, country or area *_y',\n       'Notes_y', 'Type_y', 'Parent code_y', '2020-2025', '2025-2030',\n       '2030-2035', '2035-2040', '2040-2045', '2045-2050', '2050-2055',\n       '2055-2060', '2060-2065', '2065-2070', '2070-2075', '2075-2080',\n       '2080-2085', '2085-2090', '2090-2095', '2095-2100'],\n      dtype='object')"
      ]
     },
     "execution_count": 87,
     "metadata": {},
     "output_type": "execute_result"
    }
   ],
   "source": [
    "df.columns"
   ]
  },
  {
   "cell_type": "code",
   "execution_count": 90,
   "metadata": {
    "autoscroll": false,
    "collapsed": false,
    "ein.hycell": false,
    "ein.tags": "worksheet-0",
    "slideshow": {
     "slide_type": "-"
    }
   },
   "outputs": [],
   "source": [
    "df = df[df['Type_x'] != 'Label/Separator']\n",
    "to_drop_list = ['Index', 'Variant', 'Region, subregion, country or area *', 'Notes', 'Type', 'Parent code']\n",
    "to_drop = list()\n",
    "for d in to_drop_list:\n",
    "    to_drop.append(d + '_x')\n",
    "    to_drop.append(d + '_y')\n",
    "df = df.drop(to_drop, axis=1)"
   ]
  },
  {
   "cell_type": "code",
   "execution_count": 91,
   "metadata": {
    "autoscroll": false,
    "collapsed": false,
    "ein.hycell": false,
    "ein.tags": "worksheet-0",
    "slideshow": {
     "slide_type": "-"
    }
   },
   "outputs": [
    {
     "data": {
      "text/plain": [
       "Index(['Country code', '1950-1955', '1955-1960', '1960-1965', '1965-1970',\n       '1970-1975', '1975-1980', '1980-1985', '1985-1990', '1990-1995',\n       '1995-2000', '2000-2005', '2005-2010', '2010-2015', '2015-2020',\n       '2020-2025', '2025-2030', '2030-2035', '2035-2040', '2040-2045',\n       '2045-2050', '2050-2055', '2055-2060', '2060-2065', '2065-2070',\n       '2070-2075', '2075-2080', '2080-2085', '2085-2090', '2090-2095',\n       '2095-2100'],\n      dtype='object')"
      ]
     },
     "execution_count": 91,
     "metadata": {},
     "output_type": "execute_result"
    }
   ],
   "source": [
    "df.columns"
   ]
  },
  {
   "cell_type": "code",
   "execution_count": 92,
   "metadata": {
    "autoscroll": false,
    "collapsed": false,
    "ein.hycell": false,
    "ein.tags": "worksheet-0",
    "slideshow": {
     "slide_type": "-"
    }
   },
   "outputs": [
    {
     "data": {
      "text/html": [
       "<div>\n<style scoped>\n    .dataframe tbody tr th:only-of-type {\n        vertical-align: middle;\n    }\n\n    .dataframe tbody tr th {\n        vertical-align: top;\n    }\n\n    .dataframe thead th {\n        text-align: right;\n    }\n</style>\n<table border=\"1\" class=\"dataframe\">\n  <thead>\n    <tr style=\"text-align: right;\">\n      <th></th>\n      <th>Country code</th>\n      <th>1950-1955</th>\n      <th>1955-1960</th>\n      <th>1960-1965</th>\n      <th>1965-1970</th>\n      <th>1970-1975</th>\n      <th>1975-1980</th>\n      <th>1980-1985</th>\n      <th>1985-1990</th>\n      <th>1990-1995</th>\n      <th>...</th>\n      <th>2050-2055</th>\n      <th>2055-2060</th>\n      <th>2060-2065</th>\n      <th>2065-2070</th>\n      <th>2070-2075</th>\n      <th>2075-2080</th>\n      <th>2080-2085</th>\n      <th>2085-2090</th>\n      <th>2090-2095</th>\n      <th>2095-2100</th>\n    </tr>\n  </thead>\n  <tbody>\n    <tr>\n      <th>0</th>\n      <td>900</td>\n      <td>139.574</td>\n      <td>127.719</td>\n      <td>120.353</td>\n      <td>104.13</td>\n      <td>93.9948</td>\n      <td>84.8984</td>\n      <td>75.281</td>\n      <td>66.8724</td>\n      <td>62.9056</td>\n      <td>...</td>\n      <td>14.7832</td>\n      <td>13.7518</td>\n      <td>12.8616</td>\n      <td>12.0582</td>\n      <td>11.343</td>\n      <td>10.6976</td>\n      <td>10.1213</td>\n      <td>9.60881</td>\n      <td>9.15142</td>\n      <td>8.72298</td>\n    </tr>\n    <tr>\n      <th>2</th>\n      <td>901</td>\n      <td>58.8711</td>\n      <td>42.9128</td>\n      <td>32.6987</td>\n      <td>26.1798</td>\n      <td>21.3123</td>\n      <td>18.2828</td>\n      <td>15.1621</td>\n      <td>13.0444</td>\n      <td>10.5418</td>\n      <td>...</td>\n      <td>1.88428</td>\n      <td>1.72183</td>\n      <td>1.58006</td>\n      <td>1.45237</td>\n      <td>1.33989</td>\n      <td>1.24075</td>\n      <td>1.15332</td>\n      <td>1.07508</td>\n      <td>1.00276</td>\n      <td>0.935446</td>\n    </tr>\n    <tr>\n      <th>3</th>\n      <td>902</td>\n      <td>158.67</td>\n      <td>146.942</td>\n      <td>137.478</td>\n      <td>117.026</td>\n      <td>105.309</td>\n      <td>94.8485</td>\n      <td>83.6562</td>\n      <td>73.6743</td>\n      <td>69.1641</td>\n      <td>...</td>\n      <td>16.0433</td>\n      <td>14.9177</td>\n      <td>13.9521</td>\n      <td>13.0905</td>\n      <td>12.3291</td>\n      <td>11.6422</td>\n      <td>11.0279</td>\n      <td>10.4798</td>\n      <td>9.99211</td>\n      <td>9.53825</td>\n    </tr>\n    <tr>\n      <th>4</th>\n      <td>941</td>\n      <td>197.167</td>\n      <td>179.547</td>\n      <td>165.176</td>\n      <td>152.142</td>\n      <td>147.168</td>\n      <td>136.519</td>\n      <td>124.347</td>\n      <td>113.539</td>\n      <td>105.141</td>\n      <td>...</td>\n      <td>20.8644</td>\n      <td>19.2038</td>\n      <td>17.7767</td>\n      <td>16.5392</td>\n      <td>15.4747</td>\n      <td>14.5258</td>\n      <td>13.6738</td>\n      <td>12.9077</td>\n      <td>12.2303</td>\n      <td>11.598</td>\n    </tr>\n    <tr>\n      <th>5</th>\n      <td>934</td>\n      <td>153.225</td>\n      <td>142.07</td>\n      <td>133.352</td>\n      <td>111.643</td>\n      <td>98.2819</td>\n      <td>86.928</td>\n      <td>75.558</td>\n      <td>65.7344</td>\n      <td>60.8644</td>\n      <td>...</td>\n      <td>13.6973</td>\n      <td>12.7461</td>\n      <td>11.9434</td>\n      <td>11.2197</td>\n      <td>10.5755</td>\n      <td>9.99662</td>\n      <td>9.48413</td>\n      <td>9.03409</td>\n      <td>8.6341</td>\n      <td>8.26832</td>\n    </tr>\n  </tbody>\n</table>\n<p>5 rows × 31 columns</p>\n</div>"
      ],
      "text/plain": [
       "   Country code 1950-1955 1955-1960 1960-1965 1965-1970 1970-1975 1975-1980  \\\n0           900   139.574   127.719   120.353    104.13   93.9948   84.8984   \n2           901   58.8711   42.9128   32.6987   26.1798   21.3123   18.2828   \n3           902    158.67   146.942   137.478   117.026   105.309   94.8485   \n4           941   197.167   179.547   165.176   152.142   147.168   136.519   \n5           934   153.225    142.07   133.352   111.643   98.2819    86.928   \n\n  1980-1985 1985-1990 1990-1995  ... 2050-2055 2055-2060 2060-2065 2065-2070  \\\n0    75.281   66.8724   62.9056  ...   14.7832   13.7518   12.8616   12.0582   \n2   15.1621   13.0444   10.5418  ...   1.88428   1.72183   1.58006   1.45237   \n3   83.6562   73.6743   69.1641  ...   16.0433   14.9177   13.9521   13.0905   \n4   124.347   113.539   105.141  ...   20.8644   19.2038   17.7767   16.5392   \n5    75.558   65.7344   60.8644  ...   13.6973   12.7461   11.9434   11.2197   \n\n  2070-2075 2075-2080 2080-2085 2085-2090 2090-2095 2095-2100  \n0    11.343   10.6976   10.1213   9.60881   9.15142   8.72298  \n2   1.33989   1.24075   1.15332   1.07508   1.00276  0.935446  \n3   12.3291   11.6422   11.0279   10.4798   9.99211   9.53825  \n4   15.4747   14.5258   13.6738   12.9077   12.2303    11.598  \n5   10.5755   9.99662   9.48413   9.03409    8.6341   8.26832  \n\n[5 rows x 31 columns]"
      ]
     },
     "execution_count": 92,
     "metadata": {},
     "output_type": "execute_result"
    }
   ],
   "source": [
    "df.head()"
   ]
  },
  {
   "cell_type": "code",
   "execution_count": 99,
   "metadata": {
    "autoscroll": false,
    "collapsed": false,
    "ein.hycell": false,
    "ein.tags": "worksheet-0",
    "slideshow": {
     "slide_type": "-"
    }
   },
   "outputs": [
    {
     "data": {
      "text/html": [
       "<div>\n<style scoped>\n    .dataframe tbody tr th:only-of-type {\n        vertical-align: middle;\n    }\n\n    .dataframe tbody tr th {\n        vertical-align: top;\n    }\n\n    .dataframe thead th {\n        text-align: right;\n    }\n</style>\n<table border=\"1\" class=\"dataframe\">\n  <thead>\n    <tr style=\"text-align: right;\">\n      <th></th>\n      <th>geo</th>\n      <th>time</th>\n      <th>freq</th>\n      <th>imr</th>\n    </tr>\n  </thead>\n  <tbody>\n    <tr>\n      <th>0</th>\n      <td>900</td>\n      <td>1950</td>\n      <td>5yr</td>\n      <td>139.574</td>\n    </tr>\n    <tr>\n      <th>1</th>\n      <td>900</td>\n      <td>1955</td>\n      <td>5yr</td>\n      <td>127.719</td>\n    </tr>\n    <tr>\n      <th>2</th>\n      <td>900</td>\n      <td>1960</td>\n      <td>5yr</td>\n      <td>120.353</td>\n    </tr>\n    <tr>\n      <th>3</th>\n      <td>900</td>\n      <td>1965</td>\n      <td>5yr</td>\n      <td>104.13</td>\n    </tr>\n    <tr>\n      <th>4</th>\n      <td>900</td>\n      <td>1970</td>\n      <td>5yr</td>\n      <td>93.9948</td>\n    </tr>\n  </tbody>\n</table>\n</div>"
      ],
      "text/plain": [
       "   geo  time freq      imr\n0  900  1950  5yr  139.574\n1  900  1955  5yr  127.719\n2  900  1960  5yr  120.353\n3  900  1965  5yr   104.13\n4  900  1970  5yr  93.9948"
      ]
     },
     "execution_count": 99,
     "metadata": {},
     "output_type": "execute_result"
    }
   ],
   "source": [
    "etl.create_mort_indicator(df, 'imr').head()"
   ]
  },
  {
   "cell_type": "code",
   "execution_count": 100,
   "metadata": {
    "autoscroll": false,
    "collapsed": true,
    "ein.hycell": false,
    "ein.tags": "worksheet-0",
    "slideshow": {
     "slide_type": "-"
    }
   },
   "outputs": [],
   "source": [
    "# def cleanup_mort(df):\n",
    "#     df = df[df['Type_x'] != 'Label/Separator']\n",
    "#     to_drop_list = ['Index', 'Variant', 'Region, subregion, country or area *', 'Notes', 'Type', 'Parent code']\n",
    "#     to_drop = list()\n",
    "#     for d in to_drop_list:\n",
    "#         to_drop.append(d + '_x')\n",
    "#         to_drop.append(d + '_y')\n",
    "#     df = df.drop(to_drop, axis=1)\n",
    "#     return df\n",
    "\n",
    "# mort_dict_1 = {'imr': '../source/WPP2019_MORT_F01_1_IMR_BOTH_SEXES.xlsx'}"
   ]
  },
  {
   "cell_type": "code",
   "execution_count": 124,
   "metadata": {
    "autoscroll": false,
    "collapsed": false,
    "ein.hycell": false,
    "ein.tags": "worksheet-0",
    "slideshow": {
     "slide_type": "-"
    }
   },
   "outputs": [],
   "source": [
    "df = etl.merge_xls_variants('../source/WPP2019_INT_F01_ANNUAL_DEMOGRAPHIC_INDICATORS.xlsx', 'ESTIMATES', 'MEDIUM VARIANT', dims=['Country code', 'Reference date (1 January - 31 December)'])"
   ]
  },
  {
   "cell_type": "code",
   "execution_count": 102,
   "metadata": {
    "autoscroll": false,
    "collapsed": false,
    "ein.hycell": false,
    "ein.tags": "worksheet-0",
    "slideshow": {
     "slide_type": "-"
    }
   },
   "outputs": [
    {
     "data": {
      "text/plain": [
       "Index(['Country code', 'Reference date (1 January - 31 December)', 'Index',\n       'Variant', 'Region, subregion, country or area *', 'Notes', 'Type',\n       'Parent code', 'Deaths (thousands)', 'Male deaths (thousands)',\n       'Female deaths (thousands)',\n       'Crude death rate (deaths per 1,000 population)',\n       'Life expectancy at birth, both sexes combined (years)',\n       'Life expectancy at birth, males (years)',\n       'Life expectancy at birth, females (years)',\n       'Infant deaths, both sexes combined (under age 1, thousands)',\n       'Infant mortality rate (infant deaths per 1,000 live births)',\n       'Under-five mortality (deaths under age 5 per 1,000 live births)',\n       'Births (thousands)', 'Crude birth rate (births per 1,000 population)',\n       'Total fertility (live births per woman)',\n       'Total population natural change / increase (thousands)',\n       'Rate of natural increase (per 1,000 population)',\n       'Population change (thousands)', 'Population growth rate (percentage)'],\n      dtype='object')"
      ]
     },
     "execution_count": 102,
     "metadata": {},
     "output_type": "execute_result"
    }
   ],
   "source": [
    "df.columns"
   ]
  },
  {
   "cell_type": "code",
   "execution_count": 126,
   "metadata": {
    "autoscroll": false,
    "collapsed": false,
    "ein.hycell": false,
    "ein.tags": "worksheet-0",
    "slideshow": {
     "slide_type": "-"
    }
   },
   "outputs": [
    {
     "name": "stdout",
     "output_type": "stream",
     "text": [
      "\n",
      "\n",
      "\n",
      "\n",
      "\n",
      "\n",
      "\n",
      "\n",
      "\n",
      "\n",
      "male\n",
      "female\n",
      "\n",
      "male\n",
      "female\n",
      "\n",
      "male\n",
      "female\n",
      "\n",
      "male\n",
      "female\n",
      "\n",
      "\n",
      "\n",
      "\n",
      "male\n",
      "female\n",
      "\n",
      "male\n",
      "female\n",
      "\n",
      "male\n",
      "female\n",
      "\n",
      "male\n",
      "female\n",
      "\n",
      "male\n",
      "female\n",
      "\n",
      "male\n",
      "female\n",
      "\n",
      "male\n",
      "female\n",
      "\n",
      "male\n",
      "female\n",
      "\n",
      "male\n",
      "female\n",
      "\n",
      "male\n",
      "female\n",
      "\n",
      "male\n",
      "female\n",
      "\n",
      "male\n",
      "female\n",
      "\n",
      "male\n",
      "female\n",
      "\n",
      "male\n",
      "female\n",
      "\n",
      "male\n",
      "female\n",
      "\n",
      "male\n",
      "female\n",
      "\n",
      "\n",
      "\n",
      "\n",
      "\n",
      "\n",
      "male\n",
      "female\n",
      "\n",
      "male\n",
      "female\n",
      "\n",
      "male\n",
      "female\n",
      "\n",
      "\n",
      "\n",
      "\n",
      "\n",
      "\n",
      "\n",
      "\n",
      "\n",
      "\n",
      "\n",
      "\n",
      "\n",
      "\n",
      "\n",
      "\n",
      "\n",
      "\n",
      "\n",
      "\n",
      "\n",
      "\n",
      "\n",
      "male\n",
      "female\n"
     ]
    }
   ],
   "source": [
    "import os\n",
    "\n",
    "meta = pd.read_excel('../source/metadata.xlsx', sheet_name='New').set_index('file')\n",
    "\n",
    "for f in sorted(os.listdir('../source')):\n",
    "    if f == 'WPP2019_F01_LOCATIONS.XLSX':\n",
    "        continue\n",
    "    if f.lower().endswith('xlsx') and f.startswith('WPP2019'):\n",
    "        if 'FEMALE' in f:\n",
    "            print('female')\n",
    "        elif 'MALE' in f:\n",
    "            print('male')\n",
    "        else:\n",
    "            print('')"
   ]
  },
  {
   "cell_type": "code",
   "execution_count": 125,
   "metadata": {
    "autoscroll": false,
    "collapsed": false,
    "ein.hycell": false,
    "ein.tags": "worksheet-0",
    "slideshow": {
     "slide_type": "-"
    }
   },
   "outputs": [
    {
     "name": "stdout",
     "output_type": "stream",
     "text": [
      "Country code\n",
      "Reference date (1 January - 31 December)\n",
      "Index\n",
      "Variant\n",
      "Region, subregion, country or area *\n",
      "Notes\n",
      "Type\n",
      "Parent code\n",
      "Deaths (thousands)\n",
      "Male deaths (thousands)\n",
      "Female deaths (thousands)\n",
      "Crude death rate (deaths per 1,000 population)\n",
      "Life expectancy at birth, both sexes combined (years)\n",
      "Life expectancy at birth, males (years)\n",
      "Life expectancy at birth, females (years)\n",
      "Infant deaths, both sexes combined (under age 1, thousands)\n",
      "Infant mortality rate (infant deaths per 1,000 live births)\n",
      "Under-five mortality (deaths under age 5 per 1,000 live births)\n",
      "Births (thousands)\n",
      "Crude birth rate (births per 1,000 population)\n",
      "Total fertility (live births per woman)\n",
      "Total population natural change / increase (thousands)\n",
      "Rate of natural increase (per 1,000 population)\n",
      "Population change (thousands)\n",
      "Population growth rate (percentage)\n"
     ]
    }
   ],
   "source": [
    "for c in df.columns:\n",
    "    print(c)"
   ]
  },
  {
   "cell_type": "code",
   "execution_count": 128,
   "metadata": {
    "autoscroll": false,
    "collapsed": false,
    "ein.hycell": false,
    "ein.tags": "worksheet-0",
    "slideshow": {
     "slide_type": "-"
    }
   },
   "outputs": [],
   "source": [
    "meta = pd.read_excel('../source/metadata.xlsx', sheet_name='New')"
   ]
  },
  {
   "cell_type": "code",
   "execution_count": 129,
   "metadata": {
    "autoscroll": false,
    "collapsed": false,
    "ein.hycell": false,
    "ein.tags": "worksheet-0",
    "slideshow": {
     "slide_type": "-"
    }
   },
   "outputs": [
    {
     "data": {
      "text/plain": [
       "array(['adult_mortality_35q15', 'adult_mortality_45q15', 'births', 'cbr',\n       'cdr', 'deaths', 'imr', 'lex', 'lex_at_15', 'lex_at_60',\n       'lex_at_80', 'mac', 'natural_increase_rate', 'nrr',\n       'population_rate_of_change', 'sex_ratio', 'tfr', 'u40mr', 'u5mr',\n       'u60mr', 'child_dependency_ratio_1564',\n       'child_dependency_ratio_2064', 'child_dependency_ratio_2069',\n       'child_dependency_ratio_2564', 'child_dependency_ratio_2569',\n       'median_age', 'old_dependency_ratio_1564',\n       'old_dependency_ratio_2064', 'old_dependency_ratio_2069',\n       'old_dependency_ratio_2564', 'old_dependency_ratio_2569',\n       'potential_support_ratio_1564', 'potential_support_ratio_2064',\n       'potential_support_ratio_2069', 'potential_support_ratio_2564',\n       'potential_support_ratio_2569', 'total_dependency_ratio_1564',\n       'total_dependency_ratio_2064', 'total_dependency_ratio_2069',\n       'total_dependency_ratio_2564', 'total_dependency_ratio_2569',\n       'population', 'population_density', 'fertility_rate',\n       'death_percentage', 'feminity_ratio', 'population_percentage',\n       'survivors', '-'], dtype=object)"
      ]
     },
     "execution_count": 129,
     "metadata": {},
     "output_type": "execute_result"
    }
   ],
   "source": [
    "meta['indicator'].unique()"
   ]
  },
  {
   "cell_type": "code",
   "execution_count": 130,
   "metadata": {
    "autoscroll": false,
    "collapsed": false,
    "ein.hycell": false,
    "ein.tags": "worksheet-0",
    "slideshow": {
     "slide_type": "-"
    }
   },
   "outputs": [],
   "source": [
    "gs = meta.groupby(['indicator', 'type', 'freq'])"
   ]
  },
  {
   "cell_type": "code",
   "execution_count": 133,
   "metadata": {
    "autoscroll": false,
    "collapsed": false,
    "ein.hycell": false,
    "ein.tags": "worksheet-0",
    "slideshow": {
     "slide_type": "-"
    }
   },
   "outputs": [
    {
     "data": {
      "text/plain": [
       "[('-', 'multipleindicator', '1yr'),\n ('-', 'multipleindicator', '5yr'),\n ('adult_mortality_35q15', 'year5incolumn', '5yr'),\n ('adult_mortality_45q15', 'year5incolumn', '5yr'),\n ('births', 'age5incolumn', '5yr'),\n ('births', 'year5incolumn', '5yr'),\n ('cbr', 'year5incolumn', '5yr'),\n ('cdr', 'year5incolumn', '5yr'),\n ('child_dependency_ratio_1564', 'year5incolumn', '5yr'),\n ('child_dependency_ratio_2064', 'year5incolumn', '5yr'),\n ('child_dependency_ratio_2069', 'year5incolumn', '5yr'),\n ('child_dependency_ratio_2564', 'year5incolumn', '5yr'),\n ('child_dependency_ratio_2569', 'year5incolumn', '5yr'),\n ('death_percentage', 'ageboardincolumn', '5yr'),\n ('deaths', 'age5incolumn', '5yr'),\n ('deaths', 'ageboardincolumn', '5yr'),\n ('deaths', 'year5incolumn', '5yr'),\n ('feminity_ratio', 'ageboardincolumn', '1yr'),\n ('fertility_rate', 'age5incolumn', '5yr'),\n ('imr', 'year5incolumn', '5yr'),\n ('lex', 'age1incolumn', '5yr'),\n ('lex', 'year5incolumn', '5yr'),\n ('lex_at_15', 'year5incolumn', '5yr'),\n ('lex_at_60', 'year5incolumn', '5yr'),\n ('lex_at_80', 'year5incolumn', '5yr'),\n ('mac', 'year5incolumn', '5yr'),\n ('median_age', 'year1incolumn', '1yr'),\n ('natural_increase_rate', 'year5incolumn', '5yr'),\n ('nrr', 'year5incolumn', '5yr'),\n ('old_dependency_ratio_1564', 'year5incolumn', '5yr'),\n ('old_dependency_ratio_2064', 'year5incolumn', '5yr'),\n ('old_dependency_ratio_2069', 'year5incolumn', '5yr'),\n ('old_dependency_ratio_2564', 'year5incolumn', '5yr'),\n ('old_dependency_ratio_2569', 'year5incolumn', '5yr'),\n ('population', 'age1incolumn', '1yr'),\n ('population', 'ageboardincolumn', '1yr'),\n ('population', 'year1incolumn', '1yr'),\n ('population_density', 'year1incolumn', '1yr'),\n ('population_percentage', 'ageboardincolumn', '1yr'),\n ('population_rate_of_change', 'year5incolumn', '5yr'),\n ('potential_support_ratio_1564', 'year5incolumn', '5yr'),\n ('potential_support_ratio_2064', 'year5incolumn', '5yr'),\n ('potential_support_ratio_2069', 'year5incolumn', '5yr'),\n ('potential_support_ratio_2564', 'year5incolumn', '5yr'),\n ('potential_support_ratio_2569', 'year5incolumn', '5yr'),\n ('sex_ratio', 'ageboardincolumn', '1yr'),\n ('sex_ratio', 'year1incolumn', '1yr'),\n ('sex_ratio', 'year5incolumn', '5yr'),\n ('survivors', 'age1incolumn', '5yr'),\n ('tfr', 'year5incolumn', '5yr'),\n ('total_dependency_ratio_1564', 'year5incolumn', '5yr'),\n ('total_dependency_ratio_2064', 'year5incolumn', '5yr'),\n ('total_dependency_ratio_2069', 'year5incolumn', '5yr'),\n ('total_dependency_ratio_2564', 'year5incolumn', '5yr'),\n ('total_dependency_ratio_2569', 'year5incolumn', '5yr'),\n ('u40mr', 'year5incolumn', '5yr'),\n ('u5mr', 'year5incolumn', '5yr'),\n ('u60mr', 'year5incolumn', '5yr')]"
      ]
     },
     "execution_count": 133,
     "metadata": {},
     "output_type": "execute_result"
    }
   ],
   "source": [
    "list(gs.groups.keys())"
   ]
  },
  {
   "cell_type": "code",
   "execution_count": 152,
   "metadata": {
    "autoscroll": false,
    "collapsed": false,
    "ein.hycell": false,
    "ein.tags": "worksheet-0",
    "slideshow": {
     "slide_type": "-"
    }
   },
   "outputs": [],
   "source": [
    "df = etl.merge_xls_variants('../source/WPP2019_MORT_F10_2_Q1535_MALE.xlsx',\n",
    "                            'ESTIMATES', 'MEDIUM VARIANT',\n",
    "                            dims=['Country code'],\n",
    "                            axis=1)"
   ]
  },
  {
   "cell_type": "code",
   "execution_count": 156,
   "metadata": {
    "autoscroll": false,
    "collapsed": false,
    "ein.hycell": false,
    "ein.tags": "worksheet-0",
    "slideshow": {
     "slide_type": "-"
    }
   },
   "outputs": [
    {
     "data": {
      "text/html": [
       "<div>\n<style scoped>\n    .dataframe tbody tr th:only-of-type {\n        vertical-align: middle;\n    }\n\n    .dataframe tbody tr th {\n        vertical-align: top;\n    }\n\n    .dataframe thead th {\n        text-align: right;\n    }\n</style>\n<table border=\"1\" class=\"dataframe\">\n  <thead>\n    <tr style=\"text-align: right;\">\n      <th></th>\n      <th>geo</th>\n      <th>time</th>\n      <th>q1535</th>\n    </tr>\n  </thead>\n  <tbody>\n    <tr>\n      <th>0</th>\n      <td>900</td>\n      <td>1950</td>\n      <td>257.979</td>\n    </tr>\n    <tr>\n      <th>1</th>\n      <td>900</td>\n      <td>1955</td>\n      <td>233.446</td>\n    </tr>\n    <tr>\n      <th>2</th>\n      <td>900</td>\n      <td>1960</td>\n      <td>215.085</td>\n    </tr>\n    <tr>\n      <th>3</th>\n      <td>900</td>\n      <td>1965</td>\n      <td>175.398</td>\n    </tr>\n    <tr>\n      <th>4</th>\n      <td>900</td>\n      <td>1970</td>\n      <td>149.38</td>\n    </tr>\n  </tbody>\n</table>\n</div>"
      ],
      "text/plain": [
       "   geo  time    q1535\n0  900  1950  257.979\n1  900  1955  233.446\n2  900  1960  215.085\n3  900  1965  175.398\n4  900  1970   149.38"
      ]
     },
     "execution_count": 156,
     "metadata": {},
     "output_type": "execute_result"
    }
   ],
   "source": [
    "drop_cols = ['Index', 'Variant', 'Region, subregion, country or area *',\n",
    "             'Notes', 'Type', 'Parent code']\n",
    "rename = {'Country code': 'geo'}\n",
    "\n",
    "etl.standardise_yearincolumn(df, ['geo'], 'q1535',\n",
    "                             fiveyr=True,\n",
    "                             drop_columns=drop_cols, rename=rename).head()"
   ]
  },
  {
   "cell_type": "code",
   "execution_count": 157,
   "metadata": {
    "autoscroll": false,
    "collapsed": false,
    "ein.hycell": false,
    "ein.tags": "worksheet-0",
    "slideshow": {
     "slide_type": "-"
    }
   },
   "outputs": [],
   "source": [
    "df = etl.merge_xls_variants('../source/WPP2019_FERT_F06_BIRTHS_BY_AGE_OF_MOTHER.xlsx',\n",
    "                            'ESTIMATES', 'MEDIUM VARIANT', dims=['Country code', 'Period'])"
   ]
  },
  {
   "cell_type": "code",
   "execution_count": 158,
   "metadata": {
    "autoscroll": false,
    "collapsed": false,
    "ein.hycell": false,
    "ein.tags": "worksheet-0",
    "slideshow": {
     "slide_type": "-"
    }
   },
   "outputs": [
    {
     "data": {
      "text/html": [
       "<div>\n<style scoped>\n    .dataframe tbody tr th:only-of-type {\n        vertical-align: middle;\n    }\n\n    .dataframe tbody tr th {\n        vertical-align: top;\n    }\n\n    .dataframe thead th {\n        text-align: right;\n    }\n</style>\n<table border=\"1\" class=\"dataframe\">\n  <thead>\n    <tr style=\"text-align: right;\">\n      <th></th>\n      <th>Country code</th>\n      <th>Period</th>\n      <th>Index</th>\n      <th>Variant</th>\n      <th>Region, subregion, country or area *</th>\n      <th>Notes</th>\n      <th>Type</th>\n      <th>Parent code</th>\n      <th>15-19</th>\n      <th>20-24</th>\n      <th>25-29</th>\n      <th>30-34</th>\n      <th>35-39</th>\n      <th>40-44</th>\n      <th>45-49</th>\n    </tr>\n  </thead>\n  <tbody>\n    <tr>\n      <th>0</th>\n      <td>900</td>\n      <td>1950-1955</td>\n      <td>1</td>\n      <td>Estimates</td>\n      <td>WORLD</td>\n      <td>NaN</td>\n      <td>World</td>\n      <td>0</td>\n      <td>52389.6</td>\n      <td>131437</td>\n      <td>128224</td>\n      <td>90084.5</td>\n      <td>57445.3</td>\n      <td>25336.6</td>\n      <td>5374.7</td>\n    </tr>\n    <tr>\n      <th>1</th>\n      <td>900</td>\n      <td>1955-1960</td>\n      <td>2</td>\n      <td>Estimates</td>\n      <td>WORLD</td>\n      <td>NaN</td>\n      <td>World</td>\n      <td>0</td>\n      <td>53365.4</td>\n      <td>139135</td>\n      <td>135460</td>\n      <td>97047.8</td>\n      <td>58691.3</td>\n      <td>25205</td>\n      <td>5457.9</td>\n    </tr>\n    <tr>\n      <th>2</th>\n      <td>900</td>\n      <td>1960-1965</td>\n      <td>3</td>\n      <td>Estimates</td>\n      <td>WORLD</td>\n      <td>NaN</td>\n      <td>World</td>\n      <td>0</td>\n      <td>58348.8</td>\n      <td>150357</td>\n      <td>147994</td>\n      <td>106982</td>\n      <td>65877.1</td>\n      <td>26389.1</td>\n      <td>5453.73</td>\n    </tr>\n    <tr>\n      <th>3</th>\n      <td>900</td>\n      <td>1965-1970</td>\n      <td>4</td>\n      <td>Estimates</td>\n      <td>WORLD</td>\n      <td>NaN</td>\n      <td>World</td>\n      <td>0</td>\n      <td>66397.2</td>\n      <td>164511</td>\n      <td>154891</td>\n      <td>111945</td>\n      <td>67373.5</td>\n      <td>27876.8</td>\n      <td>5603.5</td>\n    </tr>\n    <tr>\n      <th>4</th>\n      <td>900</td>\n      <td>1970-1975</td>\n      <td>5</td>\n      <td>Estimates</td>\n      <td>WORLD</td>\n      <td>NaN</td>\n      <td>World</td>\n      <td>0</td>\n      <td>70069.3</td>\n      <td>184659</td>\n      <td>160351</td>\n      <td>103974</td>\n      <td>61965.6</td>\n      <td>25493.6</td>\n      <td>5591.79</td>\n    </tr>\n  </tbody>\n</table>\n</div>"
      ],
      "text/plain": [
       "   Country code     Period  Index    Variant  \\\n0           900  1950-1955      1  Estimates   \n1           900  1955-1960      2  Estimates   \n2           900  1960-1965      3  Estimates   \n3           900  1965-1970      4  Estimates   \n4           900  1970-1975      5  Estimates   \n\n  Region, subregion, country or area * Notes   Type  Parent code    15-19  \\\n0                                WORLD   NaN  World            0  52389.6   \n1                                WORLD   NaN  World            0  53365.4   \n2                                WORLD   NaN  World            0  58348.8   \n3                                WORLD   NaN  World            0  66397.2   \n4                                WORLD   NaN  World            0  70069.3   \n\n    20-24   25-29    30-34    35-39    40-44    45-49  \n0  131437  128224  90084.5  57445.3  25336.6   5374.7  \n1  139135  135460  97047.8  58691.3    25205   5457.9  \n2  150357  147994   106982  65877.1  26389.1  5453.73  \n3  164511  154891   111945  67373.5  27876.8   5603.5  \n4  184659  160351   103974  61965.6  25493.6  5591.79  "
      ]
     },
     "execution_count": 158,
     "metadata": {},
     "output_type": "execute_result"
    }
   ],
   "source": [
    "df.head()"
   ]
  },
  {
   "cell_type": "code",
   "execution_count": 159,
   "metadata": {
    "autoscroll": false,
    "collapsed": false,
    "ein.hycell": false,
    "ein.tags": "worksheet-0",
    "slideshow": {
     "slide_type": "-"
    }
   },
   "outputs": [
    {
     "data": {
      "text/plain": [
       "array(['World', 'Development Group', 'Special other', 'Income Group',\n       'Region', 'SDG region', 'Subregion', 'Country', 'SDG subregion'],\n      dtype=object)"
      ]
     },
     "execution_count": 159,
     "metadata": {},
     "output_type": "execute_result"
    }
   ],
   "source": [
    "df['Type'].unique()"
   ]
  },
  {
   "cell_type": "code",
   "execution_count": 164,
   "metadata": {
    "autoscroll": false,
    "collapsed": false,
    "ein.hycell": false,
    "ein.tags": "worksheet-0",
    "slideshow": {
     "slide_type": "-"
    }
   },
   "outputs": [
    {
     "data": {
      "text/html": [
       "<div>\n<style scoped>\n    .dataframe tbody tr th:only-of-type {\n        vertical-align: middle;\n    }\n\n    .dataframe tbody tr th {\n        vertical-align: top;\n    }\n\n    .dataframe thead th {\n        text-align: right;\n    }\n</style>\n<table border=\"1\" class=\"dataframe\">\n  <thead>\n    <tr style=\"text-align: right;\">\n      <th></th>\n      <th>geo</th>\n      <th>time</th>\n      <th>age5yearinterval</th>\n      <th>test</th>\n    </tr>\n  </thead>\n  <tbody>\n    <tr>\n      <th>0</th>\n      <td>900</td>\n      <td>1950</td>\n      <td>15_19</td>\n      <td>52389.6</td>\n    </tr>\n    <tr>\n      <th>1</th>\n      <td>900</td>\n      <td>1950</td>\n      <td>20_24</td>\n      <td>131437</td>\n    </tr>\n    <tr>\n      <th>2</th>\n      <td>900</td>\n      <td>1950</td>\n      <td>25_29</td>\n      <td>128224</td>\n    </tr>\n    <tr>\n      <th>3</th>\n      <td>900</td>\n      <td>1950</td>\n      <td>30_34</td>\n      <td>90084.5</td>\n    </tr>\n    <tr>\n      <th>4</th>\n      <td>900</td>\n      <td>1950</td>\n      <td>35_39</td>\n      <td>57445.3</td>\n    </tr>\n  </tbody>\n</table>\n</div>"
      ],
      "text/plain": [
       "   geo  time age5yearinterval     test\n0  900  1950            15_19  52389.6\n1  900  1950            20_24   131437\n2  900  1950            25_29   128224\n3  900  1950            30_34  90084.5\n4  900  1950            35_39  57445.3"
      ]
     },
     "execution_count": 164,
     "metadata": {},
     "output_type": "execute_result"
    }
   ],
   "source": [
    "rename['Period'] = 'time'\n",
    "\n",
    "etl.standardise_ageincolumn(df, ['geo', 'time'], 'test',\n",
    "                            age='age5yearinterval', fiveyr=True,\n",
    "                            rename=rename, drop_columns=drop_cols).head()"
   ]
  },
  {
   "cell_type": "code",
   "execution_count": 165,
   "metadata": {
    "autoscroll": false,
    "collapsed": false,
    "ein.hycell": false,
    "ein.tags": "worksheet-0",
    "slideshow": {
     "slide_type": "-"
    }
   },
   "outputs": [],
   "source": [
    "df = etl.merge_xls_variants('../source/WPP2019_POP_F08_1_TOTAL_POPULATION_BY_BROAD_AGE_GROUP_BOTH_SEXES.xlsx',\n",
    "                            'ESTIMATES', 'MEDIUM VARIANT', dims=['Country code', 'Reference date (as of 1 July)'])"
   ]
  },
  {
   "cell_type": "code",
   "execution_count": 166,
   "metadata": {
    "autoscroll": false,
    "collapsed": false,
    "ein.hycell": false,
    "ein.tags": "worksheet-0",
    "slideshow": {
     "slide_type": "-"
    }
   },
   "outputs": [],
   "source": [
    "drop_cols.append('Total')"
   ]
  },
  {
   "cell_type": "code",
   "execution_count": 168,
   "metadata": {
    "autoscroll": false,
    "collapsed": false,
    "ein.hycell": false,
    "ein.tags": "worksheet-0",
    "slideshow": {
     "slide_type": "-"
    }
   },
   "outputs": [
    {
     "data": {
      "text/html": [
       "<div>\n<style scoped>\n    .dataframe tbody tr th:only-of-type {\n        vertical-align: middle;\n    }\n\n    .dataframe tbody tr th {\n        vertical-align: top;\n    }\n\n    .dataframe thead th {\n        text-align: right;\n    }\n</style>\n<table border=\"1\" class=\"dataframe\">\n  <thead>\n    <tr style=\"text-align: right;\">\n      <th></th>\n      <th>geo</th>\n      <th>time</th>\n      <th>agebroad</th>\n      <th>test</th>\n    </tr>\n  </thead>\n  <tbody>\n    <tr>\n      <th>435731</th>\n      <td>840</td>\n      <td>2100</td>\n      <td>70plus</td>\n      <td>96912.7</td>\n    </tr>\n    <tr>\n      <th>435732</th>\n      <td>840</td>\n      <td>2100</td>\n      <td>75plus</td>\n      <td>74144</td>\n    </tr>\n    <tr>\n      <th>435733</th>\n      <td>840</td>\n      <td>2100</td>\n      <td>80plus</td>\n      <td>53035.7</td>\n    </tr>\n    <tr>\n      <th>435734</th>\n      <td>840</td>\n      <td>2100</td>\n      <td>85plus</td>\n      <td>34417.6</td>\n    </tr>\n    <tr>\n      <th>435735</th>\n      <td>840</td>\n      <td>2100</td>\n      <td>90plus</td>\n      <td>18743.9</td>\n    </tr>\n  </tbody>\n</table>\n</div>"
      ],
      "text/plain": [
       "        geo  time agebroad     test\n435731  840  2100   70plus  96912.7\n435732  840  2100   75plus    74144\n435733  840  2100   80plus  53035.7\n435734  840  2100   85plus  34417.6\n435735  840  2100   90plus  18743.9"
      ]
     },
     "execution_count": 168,
     "metadata": {},
     "output_type": "execute_result"
    }
   ],
   "source": [
    "rename['Reference date (as of 1 July)'] = 'time'\n",
    "\n",
    "etl.standardise_ageincolumn(df, ['geo', 'time'], 'test',\n",
    "                            age='agebroad', fiveyr=False,\n",
    "                            rename=rename, drop_columns=drop_cols).tail()"
   ]
  },
  {
   "cell_type": "code",
   "execution_count": 169,
   "metadata": {
    "autoscroll": false,
    "collapsed": false,
    "ein.hycell": false,
    "ein.tags": "worksheet-0",
    "slideshow": {
     "slide_type": "-"
    }
   },
   "outputs": [],
   "source": [
    "rename['Reference date (1 January - 31 December)'] = 'time'\n",
    "\n",
    "df = etl.merge_xls_variants('../source/WPP2019_INT_F01_ANNUAL_DEMOGRAPHIC_INDICATORS.xlsx',\n",
    "                            'ESTIMATES', 'MEDIUM VARIANT',\n",
    "                            dims=['Country code', 'Reference date (1 January - 31 December)'])"
   ]
  },
  {
   "cell_type": "code",
   "execution_count": 174,
   "metadata": {
    "autoscroll": false,
    "collapsed": false,
    "ein.hycell": false,
    "ein.tags": "worksheet-0",
    "slideshow": {
     "slide_type": "-"
    }
   },
   "outputs": [],
   "source": [
    "res = etl.standardise_multiindicator(df, ['geo', 'time'], rename, drop_cols)"
   ]
  },
  {
   "cell_type": "code",
   "execution_count": 175,
   "metadata": {
    "autoscroll": false,
    "collapsed": false,
    "ein.hycell": false,
    "ein.tags": "worksheet-0",
    "slideshow": {
     "slide_type": "-"
    }
   },
   "outputs": [
    {
     "data": {
      "text/plain": [
       "{'Country code': 'geo',\n 'Period': 'time',\n 'Reference date (as of 1 July)': 'time',\n 'Reference date (1 January - 31 December)': 'time'}"
      ]
     },
     "execution_count": 175,
     "metadata": {},
     "output_type": "execute_result"
    }
   ],
   "source": [
    "rename"
   ]
  },
  {
   "cell_type": "code",
   "execution_count": 216,
   "metadata": {
    "autoscroll": false,
    "collapsed": false,
    "ein.hycell": false,
    "ein.tags": "worksheet-0",
    "slideshow": {
     "slide_type": "-"
    }
   },
   "outputs": [
    {
     "name": "stdout",
     "output_type": "stream",
     "text": [
      "('-', 'multipleindicator', '1yr')\n",
      "('-', 'multipleindicator', '5yr')\n",
      "('adult_mortality_q1535', 'year5incolumn', '5yr')\n",
      "exists\n",
      "exists\n",
      "('adult_mortality_q1545', 'year5incolumn', '5yr')\n",
      "exists\n",
      "exists\n",
      "('births', 'age5incolumn', '5yr')\n",
      "exists\n",
      "('births', 'year5incolumn', '5yr')\n",
      "exists\n",
      "('cbr', 'year5incolumn', '5yr')\n",
      "exists\n",
      "('cdr', 'year5incolumn', '5yr')\n",
      "exists\n",
      "('child_dependency_ratio_1564', 'year5incolumn', '5yr')\n",
      "exists\n",
      "('child_dependency_ratio_2064', 'year5incolumn', '5yr')\n",
      "exists\n",
      "('child_dependency_ratio_2069', 'year5incolumn', '5yr')\n",
      "exists\n",
      "('child_dependency_ratio_2564', 'year5incolumn', '5yr')\n",
      "exists\n",
      "('child_dependency_ratio_2569', 'year5incolumn', '5yr')\n",
      "exists\n",
      "('death_percentage', 'agebroadincolumn', '5yr')\n",
      "exists\n",
      "exists\n",
      "('deaths', 'age5incolumn', '5yr')\n",
      "exists\n",
      "exists\n",
      "('deaths', 'agebroadincolumn', '5yr')\n",
      "exists\n",
      "exists\n",
      "('deaths', 'year5incolumn', '5yr')\n",
      "exists\n",
      "exists\n",
      "('feminity_ratio', 'agebroadincolumn', '1yr')\n",
      "exists\n",
      "('fertility_rate', 'age5incolumn', '5yr')\n",
      "exists\n",
      "('imr', 'year5incolumn', '5yr')\n",
      "exists\n",
      "('lex', 'age1incolumn', '5yr')\n",
      "exists\n",
      "exists\n",
      "('lex', 'year5incolumn', '5yr')\n",
      "exists\n",
      "exists\n",
      "('lex_at_15', 'year5incolumn', '5yr')\n",
      "exists\n",
      "exists\n",
      "('lex_at_60', 'year5incolumn', '5yr')\n",
      "exists\n",
      "exists\n",
      "('lex_at_80', 'year5incolumn', '5yr')\n",
      "exists\n",
      "exists\n",
      "('mac', 'year5incolumn', '5yr')\n",
      "exists\n",
      "('median_age', 'year1incolumn', '1yr')\n",
      "exists\n",
      "('natural_increase_rate', 'year5incolumn', '5yr')\n",
      "exists\n",
      "('nrr', 'year5incolumn', '5yr')\n",
      "exists\n",
      "('old_dependency_ratio_1564', 'year5incolumn', '5yr')\n",
      "exists\n",
      "('old_dependency_ratio_2064', 'year5incolumn', '5yr')\n",
      "exists\n",
      "('old_dependency_ratio_2069', 'year5incolumn', '5yr')\n",
      "exists\n",
      "('old_dependency_ratio_2564', 'year5incolumn', '5yr')\n",
      "exists\n",
      "('old_dependency_ratio_2569', 'year5incolumn', '5yr')\n",
      "exists\n",
      "('population', 'age1incolumn', '1yr')\n",
      "exists\n",
      "exists\n",
      "('population', 'age5incolumn', '1yr')\n",
      "exists\n",
      "exists\n",
      "('population', 'age5incolumn', '5yr')\n",
      "exists\n",
      "exists\n",
      "('population', 'agebroadincolumn', '1yr')\n",
      "exists\n",
      "exists\n",
      "('population', 'agebroadincolumn', '5yr')\n",
      "exists\n",
      "exists\n",
      "('population', 'year1incolumn', '1yr')\n",
      "exists\n",
      "exists\n",
      "('population_density', 'year1incolumn', '1yr')\n",
      "exists\n",
      "('population_percentage', 'agebroadincolumn', '1yr')\n",
      "../source/WPP2019_INT_F02B_1_ANNUAL_POPULATION_INDICATORS_PERCENTAGE_BOTH_SEXES.xlsx\n"
     ]
    },
    {
     "name": "stdout",
     "output_type": "stream",
     "text": [
      "../source/WPP2019_INT_F02B_2_ANNUAL_POPULATION_INDICATORS_PERCENTAGE_MALE.xlsx\n"
     ]
    },
    {
     "name": "stdout",
     "output_type": "stream",
     "text": [
      "../source/WPP2019_INT_F02B_3_ANNUAL_POPULATION_INDICATORS_PERCENTAGE_FEMALE.xlsx\n"
     ]
    },
    {
     "name": "stdout",
     "output_type": "stream",
     "text": [
      "('population_percentage', 'agebroadincolumn', '5yr')\n",
      "../source/WPP2019_POP_F09_1_PERCENTAGE_OF_TOTAL_POPULATION_BY_BROAD_AGE_GROUP_BOTH_SEXES.xlsx\n"
     ]
    },
    {
     "name": "stdout",
     "output_type": "stream",
     "text": [
      "../source/WPP2019_POP_F09_2_PERCENTAGE_OF_TOTAL_POPULATION_BY_BROAD_AGE_GROUP_MALE.xlsx\n"
     ]
    },
    {
     "name": "stdout",
     "output_type": "stream",
     "text": [
      "../source/WPP2019_POP_F09_3_PERCENTAGE_OF_TOTAL_POPULATION_BY_BROAD_AGE_GROUP_FEMALE.xlsx\n"
     ]
    },
    {
     "name": "stdout",
     "output_type": "stream",
     "text": [
      "('population_rate_of_change', 'year5incolumn', '5yr')\n",
      "../source/WPP2019_POP_F02_POPULATION_GROWTH_RATE.xlsx\n"
     ]
    },
    {
     "name": "stdout",
     "output_type": "stream",
     "text": [
      "('potential_support_ratio_1564', 'year5incolumn', '5yr')\n",
      "../source/WPP2019_POP_F14_A_POTENTIAL_SUPPORT_RATIO_1564_65.xlsx\n"
     ]
    },
    {
     "name": "stdout",
     "output_type": "stream",
     "text": [
      "('potential_support_ratio_2064', 'year5incolumn', '5yr')\n",
      "../source/WPP2019_POP_F14_B_POTENTIAL_SUPPORT_RATIO_2064_65.xlsx\n"
     ]
    },
    {
     "name": "stdout",
     "output_type": "stream",
     "text": [
      "('potential_support_ratio_2069', 'year5incolumn', '5yr')\n",
      "../source/WPP2019_POP_F14_C_POTENTIAL_SUPPORT_RATIO_2069_70.xlsx\n"
     ]
    },
    {
     "name": "stdout",
     "output_type": "stream",
     "text": [
      "('potential_support_ratio_2564', 'year5incolumn', '5yr')\n",
      "../source/WPP2019_POP_F14_D_POTENTIAL_SUPPORT_RATIO_2564_65.xlsx\n"
     ]
    },
    {
     "name": "stdout",
     "output_type": "stream",
     "text": [
      "('potential_support_ratio_2569', 'year5incolumn', '5yr')\n",
      "../source/WPP2019_POP_F14_E_POTENTIAL_SUPPORT_RATIO_2569_70.xlsx\n"
     ]
    },
    {
     "name": "stdout",
     "output_type": "stream",
     "text": [
      "('sex_ratio', 'agebroadincolumn', '1yr')\n",
      "../source/WPP2019_POP_F10_1_SEX_RATIO_BY_BROAD_AGE_GROUP.xlsx\n"
     ]
    },
    {
     "name": "stdout",
     "output_type": "stream",
     "text": [
      "('sex_ratio', 'year1incolumn', '1yr')\n",
      "../source/WPP2019_POP_F04_SEX_RATIO_OF_TOTAL_POPULATION.xlsx\n"
     ]
    },
    {
     "name": "stdout",
     "output_type": "stream",
     "text": [
      "('sex_ratio', 'year5incolumn', '5yr')\n",
      "../source/WPP2019_FERT_F02_SEX_RATIO_AT_BIRTH.xlsx\n"
     ]
    },
    {
     "name": "stdout",
     "output_type": "stream",
     "text": [
      "('survivors', 'age1incolumn', '5yr')\n",
      "../source/WPP2019_MORT_F15_1_LIFE_TABLE_SURVIVORS_BOTH_SEXES.xlsx\n"
     ]
    },
    {
     "name": "stdout",
     "output_type": "stream",
     "text": [
      "../source/WPP2019_MORT_F15_2_LIFE_TABLE_SURVIVORS_MALE.xlsx\n"
     ]
    },
    {
     "name": "stdout",
     "output_type": "stream",
     "text": [
      "../source/WPP2019_MORT_F15_3_LIFE_TABLE_SURVIVORS_FEMALE.xlsx\n"
     ]
    },
    {
     "name": "stdout",
     "output_type": "stream",
     "text": [
      "('tfr', 'year5incolumn', '5yr')\n",
      "../source/WPP2019_FERT_F04_TOTAL_FERTILITY.xlsx\n"
     ]
    },
    {
     "name": "stdout",
     "output_type": "stream",
     "text": [
      "('total_dependency_ratio_1564', 'year5incolumn', '5yr')\n",
      "../source/WPP2019_POP_F11_A_TOTAL_DEPENDENCY_RATIO_1564.xlsx\n"
     ]
    },
    {
     "name": "stdout",
     "output_type": "stream",
     "text": [
      "('total_dependency_ratio_2064', 'year5incolumn', '5yr')\n",
      "../source/WPP2019_POP_F11_B_TOTAL_DEPENDENCY_RATIO_2064.xlsx\n"
     ]
    },
    {
     "name": "stdout",
     "output_type": "stream",
     "text": [
      "('total_dependency_ratio_2069', 'year5incolumn', '5yr')\n",
      "../source/WPP2019_POP_F11_C_TOTAL_DEPENDENCY_RATIO_2069.xlsx\n"
     ]
    },
    {
     "name": "stdout",
     "output_type": "stream",
     "text": [
      "('total_dependency_ratio_2564', 'year5incolumn', '5yr')\n",
      "../source/WPP2019_POP_F11_D_TOTAL_DEPENDENCY_RATIO_2564.xlsx\n"
     ]
    },
    {
     "name": "stdout",
     "output_type": "stream",
     "text": [
      "('total_dependency_ratio_2569', 'year5incolumn', '5yr')\n",
      "../source/WPP2019_POP_F11_E_TOTAL_DEPENDENCY_RATIO_2569.xlsx\n"
     ]
    },
    {
     "name": "stdout",
     "output_type": "stream",
     "text": [
      "('u40mr', 'year5incolumn', '5yr')\n",
      "../source/WPP2019_MORT_F08_1_Q0040_BOTH_SEXES.xlsx\n"
     ]
    },
    {
     "name": "stdout",
     "output_type": "stream",
     "text": [
      "../source/WPP2019_MORT_F08_2_Q0040_MALE.xlsx\n"
     ]
    },
    {
     "name": "stdout",
     "output_type": "stream",
     "text": [
      "../source/WPP2019_MORT_F08_3_Q0040_FEMALE.xlsx\n"
     ]
    },
    {
     "name": "stdout",
     "output_type": "stream",
     "text": [
      "('u5mr', 'year5incolumn', '5yr')\n",
      "../source/WPP2019_MORT_F01_2_Q5_BOTH_SEXES.xlsx\n"
     ]
    },
    {
     "name": "stdout",
     "output_type": "stream",
     "text": [
      "('u60mr', 'year5incolumn', '5yr')\n",
      "../source/WPP2019_MORT_F09_1_Q0060_BOTH_SEXES.xlsx\n"
     ]
    },
    {
     "name": "stdout",
     "output_type": "stream",
     "text": [
      "../source/WPP2019_MORT_F09_2_Q0060_MALE.xlsx\n"
     ]
    },
    {
     "name": "stdout",
     "output_type": "stream",
     "text": [
      "../source/WPP2019_MORT_F09_3_Q0060_FEMALE.xlsx\n"
     ]
    }
   ],
   "source": [
    "etl.main()"
   ]
  },
  {
   "cell_type": "code",
   "execution_count": 196,
   "metadata": {
    "autoscroll": false,
    "collapsed": false,
    "ein.hycell": false,
    "ein.tags": "worksheet-0",
    "slideshow": {
     "slide_type": "-"
    }
   },
   "outputs": [],
   "source": [
    "filename = '../source/WPP2019_POP_F10_2_FEMINITY_RATIO_BY_BROAD_AGE_GROUP.xlsx'\n",
    "data = etl.merge_xls_variants(filename, 'ESTIMATES', 'MEDIUM VARIANT',\n",
    "                              dims=['Country code', 'Reference date (as of 1 July)'])"
   ]
  },
  {
   "cell_type": "code",
   "execution_count": 199,
   "metadata": {
    "autoscroll": false,
    "collapsed": false,
    "ein.hycell": false,
    "ein.tags": "worksheet-0",
    "slideshow": {
     "slide_type": "-"
    }
   },
   "outputs": [],
   "source": [
    "df = etl.standardise_ageincolumn(data, ['geo', 'time'], 'test', age='agebroad', drop_columns=drop_cols, rename=rename)"
   ]
  },
  {
   "cell_type": "code",
   "execution_count": 200,
   "metadata": {
    "autoscroll": false,
    "collapsed": false,
    "ein.hycell": false,
    "ein.tags": "worksheet-0",
    "slideshow": {
     "slide_type": "-"
    }
   },
   "outputs": [
    {
     "data": {
      "text/html": [
       "<div>\n<style scoped>\n    .dataframe tbody tr th:only-of-type {\n        vertical-align: middle;\n    }\n\n    .dataframe tbody tr th {\n        vertical-align: top;\n    }\n\n    .dataframe thead th {\n        text-align: right;\n    }\n</style>\n<table border=\"1\" class=\"dataframe\">\n  <thead>\n    <tr style=\"text-align: right;\">\n      <th></th>\n      <th>geo</th>\n      <th>time</th>\n      <th>agebroad</th>\n      <th>test</th>\n    </tr>\n  </thead>\n  <tbody>\n    <tr>\n      <th>0</th>\n      <td>900</td>\n      <td>1950</td>\n      <td>0_1</td>\n      <td>96.6822</td>\n    </tr>\n    <tr>\n      <th>1</th>\n      <td>900</td>\n      <td>1950</td>\n      <td>0_4</td>\n      <td>96.3211</td>\n    </tr>\n    <tr>\n      <th>2</th>\n      <td>900</td>\n      <td>1950</td>\n      <td>0_14</td>\n      <td>95.6797</td>\n    </tr>\n    <tr>\n      <th>3</th>\n      <td>900</td>\n      <td>1950</td>\n      <td>0_17</td>\n      <td>95.7163</td>\n    </tr>\n    <tr>\n      <th>4</th>\n      <td>900</td>\n      <td>1950</td>\n      <td>0_19</td>\n      <td>95.76</td>\n    </tr>\n  </tbody>\n</table>\n</div>"
      ],
      "text/plain": [
       "   geo  time agebroad     test\n0  900  1950      0_1  96.6822\n1  900  1950      0_4  96.3211\n2  900  1950     0_14  95.6797\n3  900  1950     0_17  95.7163\n4  900  1950     0_19    95.76"
      ]
     },
     "execution_count": 200,
     "metadata": {},
     "output_type": "execute_result"
    }
   ],
   "source": [
    "df.head()"
   ]
  },
  {
   "cell_type": "code",
   "execution_count": 214,
   "metadata": {
    "autoscroll": false,
    "collapsed": false,
    "ein.hycell": false,
    "ein.tags": "worksheet-0",
    "slideshow": {
     "slide_type": "-"
    }
   },
   "outputs": [
    {
     "data": {
      "text/plain": [
       "'0_1'"
      ]
     },
     "execution_count": 214,
     "metadata": {},
     "output_type": "execute_result"
    }
   ],
   "source": [
    "(pd.read_excel('../source/metadata.xlsx', sheet_name='BroadAgeMap')\n",
    "                         .set_index('name')['agebroad'].to_dict())['Population under age 2']"
   ]
  },
  {
   "cell_type": "code",
   "execution_count": 222,
   "metadata": {
    "autoscroll": false,
    "collapsed": false,
    "ein.hycell": false,
    "ein.tags": "worksheet-0",
    "slideshow": {
     "slide_type": "-"
    }
   },
   "outputs": [],
   "source": [
    "etl.main()"
   ]
  },
  {
   "cell_type": "code",
   "execution_count": 229,
   "metadata": {
    "autoscroll": false,
    "collapsed": false,
    "ein.hycell": false,
    "ein.tags": "worksheet-0",
    "slideshow": {
     "slide_type": "-"
    }
   },
   "outputs": [
    {
     "name": "stdout",
     "output_type": "stream",
     "text": [
      "indicator,table_name,concept_type\n",
      "-,Dependency ratios (both sexes combined) for different age groups,measure\n",
      "adult_mortality_35q15,\"Adult mortality between age 15 and 50, 35q15, for both sexes combined (deaths under age 50 per 1,000 alive at age 15)\",measure\n",
      "adult_mortality_45q15,\"Adult mortality between age 15 and 60, 45q15, for both sexes combined (deaths under age 60 per 1,000 alive at age 15)\",measure\n",
      "births,\"Number of births, both sexes combined (thousands)\",measure\n",
      "cbr,\"Crude birth rate (births per 1,000 population)\",measure\n",
      "cdr,\"Crude death rate (deaths per 1,000 population)\",measure\n",
      "child_dependency_ratio_1564,Child dependency ratio (ratio of population aged 0-14 per 100 population 15-64),measure\n",
      "child_dependency_ratio_2064,Child dependency ratio (ratio of population aged 0-19 per 100 population 20-64),measure\n",
      "child_dependency_ratio_2069,Child dependency ratio (ratio of population aged 0-19 per 100 population 20-69),measure\n",
      "child_dependency_ratio_2564,Child dependency ratio (ratio of population aged 0-24 per 100 population 25-64),measure\n",
      "child_dependency_ratio_2569,Child dependency ratio (ratio of population aged 0-24 per 100 population 25-69),measure\n",
      "death_percentage,\"Percentage of total deaths by broad age group, both sexes combined (per 100 total population)\",measure\n",
      "deaths,\"Number of deaths, both sexes combined (thousands)\",measure\n",
      "feminity_ratio,Feminity ratio by broad age group (females per 100 males by age group),measure\n",
      "fertility_rate,\"Age-specific fertility rates (births per 1,000 women)\",measure\n",
      "imr,\"Infant mortality rate, 1q0, for both sexes combined (infant deaths per 1,000 live births)\",measure\n",
      "lex,Life expectancy at birth for both sexes combined (years),measure\n",
      "lex_at_15,Life expectancy at age 15 for both sexes combined (years),measure\n",
      "lex_at_60,Life expectancy at age 60 for both sexes combined (years),measure\n",
      "lex_at_80,Life expectancy at age 80 for both sexes combined (years),measure\n",
      "mac,Mean age of childbearing (years),measure\n",
      "median_age,Median age of the total population (years),measure\n",
      "natural_increase_rate,\"Rate of natural increase (per 1,000 population)\",measure\n",
      "nrr,Net reproduction rate (surviving daughters per woman),measure\n",
      "old_dependency_ratio_1564,Old-age dependency ratio (ratio of population aged 65+ per 100 population 15-64),measure\n",
      "old_dependency_ratio_2064,Old-age dependency ratio (ratio of population aged 65+ per 100 population 20-64),measure\n",
      "old_dependency_ratio_2069,Old-age dependency ratio (ratio of population aged 70+ per 100 population 20-69),measure\n",
      "old_dependency_ratio_2564,Old-age dependency ratio (ratio of population aged 65+ per 100 population 25-64),measure\n",
      "old_dependency_ratio_2569,Old-age dependency ratio (ratio of population aged 70+ per 100 population 25-69),measure\n",
      "population,\"Total population, both sexes combined, as of 1 July (thousands)\",measure\n",
      "population_density,\"Population density (persons per square km), as of 1 July\",measure\n",
      "population_percentage,\"Percentage of total population by broad age group, both sexes  (per 100 total population)\",measure\n",
      "population_rate_of_change,Average annual rate of population change (percentage),measure\n",
      "potential_support_ratio_1564,Potential support ratio (ratio of population aged 15-64 per population 65+),measure\n",
      "potential_support_ratio_2064,Potential support ratio (ratio of population aged 20-64 per population 65+),measure\n",
      "potential_support_ratio_2069,Potential support ratio (ratio of population aged 20-69 per population 70+),measure\n",
      "potential_support_ratio_2564,Potential support ratio (ratio of population aged 25-64 per population 65+),measure\n",
      "potential_support_ratio_2569,Potential support ratio (ratio of population aged 25-69 per population 70+),measure\n",
      "sex_ratio,Sex ratio at birth (male births per female births),measure\n",
      "survivors,\"Life table survivors, l(x), at exact age (x), both sexes\",measure\n",
      "tfr,Total fertility (live births per woman),measure\n",
      "total_dependency_ratio_1564,Total dependency ratio (ratio of population aged 0-14 and 65+ per 100 population 15-64),measure\n",
      "total_dependency_ratio_2064,Total dependency ratio (ratio of population aged 0-19 and 65+ per 100 population 20-64),measure\n",
      "total_dependency_ratio_2069,Total dependency ratio (ratio of population aged 0-19 and 70+ per 100 population 20-69),measure\n",
      "total_dependency_ratio_2564,Total dependency ratio (ratio of population aged 0-24 and 65+ per 100 population 25-64),measure\n",
      "total_dependency_ratio_2569,Total dependency ratio (ratio of population aged 0-24 and 70+ per 100 population 25-69),measure\n",
      "u40mr,\"Under-forty mortality, 40q0, for both sexes combined (deaths under age 40 per 1,000 live births)\",measure\n",
      "u5mr,\"Under-five mortality, 5q0, for both sexes combined (deaths under age five per 1,000 live births)\",measure\n",
      "u60mr,\"Under-sixty mortality, 60q0, for both sexes combined (deaths under age 60 per 1,000 live births)\",measure\n",
      "\n"
     ]
    }
   ],
   "source": [
    "print(meta.groupby(['indicator'])['table_name'].first().reset_index().assign(concept_type='measure').to_csv(index=False))"
   ]
  },
  {
   "cell_type": "code",
   "execution_count": 230,
   "metadata": {
    "autoscroll": false,
    "collapsed": false,
    "ein.hycell": false,
    "ein.tags": "worksheet-0",
    "slideshow": {
     "slide_type": "-"
    }
   },
   "outputs": [],
   "source": [
    "m2 = pd.read_excel('../source/metadata.xlsx', sheet_name='DependencyFormat')"
   ]
  },
  {
   "cell_type": "code",
   "execution_count": 232,
   "metadata": {
    "autoscroll": false,
    "collapsed": false,
    "ein.hycell": false,
    "ein.tags": "worksheet-0",
    "slideshow": {
     "slide_type": "-"
    }
   },
   "outputs": [
    {
     "name": "stdout",
     "output_type": "stream",
     "text": [
      "indicator,name,concept_type\n",
      "total_dependency_ratio_1564,Annual total dep. ratio [(0-14 & 65+) / 15-64] (%),measure\n",
      "total_dependency_ratio_2064,Annual total dep. ratio [(0-19 & 65+) / 20-64] (%),measure\n",
      "total_dependency_ratio_2069,Annual total dep. ratio [(0-19 & 70+) / 20-69] (%),measure\n",
      "total_dependency_ratio_2564,Annual total dep. ratio [(0-24 & 65+) / 25-64] (%),measure\n",
      "total_dependency_ratio_2569,Annual total dep. ratio [(0-24 & 70+) / 25-69] (%),measure\n",
      "child_dependency_ratio_1564,Annual child dep. ratio [0-14 / 15-64] (%),measure\n",
      "child_dependency_ratio_2064,Annual child dep. ratio [0-19 / 20-64] (%),measure\n",
      "child_dependency_ratio_2069,Annual child dep. ratio [0-19 / 20-69] (%),measure\n",
      "child_dependency_ratio_2564,Annual child dep. ratio [0-24 / 25-69] (%),measure\n",
      "child_dependency_ratio_2569,Annual child dep. ratio [0-24 / 25-64] (%),measure\n",
      "old_dependency_ratio_1564,Annual old-age dep. ratio [65+ / 15-64] (%),measure\n",
      "old_dependency_ratio_2064,Annual old-age dep. ratio [65+ / 20-64] (%),measure\n",
      "old_dependency_ratio_2069,Annual old-age dep. ratio [70+ / 20-69] (%),measure\n",
      "old_dependency_ratio_2564,Annual old-age dep. ratio [70+ / 25-69] (%),measure\n",
      "old_dependency_ratio_2569,Annual old-age dep. ratio [65+ / 25-64] (%),measure\n",
      "potential_support_ratio_1564,Annual potential support ratio [15-64/65+],measure\n",
      "potential_support_ratio_2064,Annual potential support ratio [20-64/65+],measure\n",
      "potential_support_ratio_2069,Annual potential support ratio [20-69/70+],measure\n",
      "potential_support_ratio_2564,Annual potential support ratio [25-69/70+],measure\n",
      "potential_support_ratio_2569,Annual potential support ratio [25-64/65+],measure\n",
      "\n"
     ]
    }
   ],
   "source": [
    "print(m2[['indicator', 'name']].assign(concept_type='measure').to_csv(index=False))"
   ]
  },
  {
   "cell_type": "code",
   "execution_count": 233,
   "metadata": {
    "autoscroll": false,
    "collapsed": false,
    "ein.hycell": false,
    "ein.tags": "worksheet-0",
    "slideshow": {
     "slide_type": "-"
    }
   },
   "outputs": [],
   "source": [
    "m3 = pd.read_excel('../source/metadata.xlsx', sheet_name='DemographyFormat')"
   ]
  },
  {
   "cell_type": "code",
   "execution_count": 237,
   "metadata": {
    "autoscroll": false,
    "collapsed": false,
    "ein.hycell": false,
    "ein.tags": "worksheet-0",
    "slideshow": {
     "slide_type": "-"
    }
   },
   "outputs": [],
   "source": [
    "d = list(set(m3['indicator'].values) - set(meta['indicator'].values))"
   ]
  },
  {
   "cell_type": "code",
   "execution_count": 240,
   "metadata": {
    "autoscroll": false,
    "collapsed": false,
    "ein.hycell": false,
    "ein.tags": "worksheet-0",
    "slideshow": {
     "slide_type": "-"
    }
   },
   "outputs": [
    {
     "name": "stdout",
     "output_type": "stream",
     "text": [
      "indicator,name,concept_type\n",
      "infant_deaths,\"Infant deaths, both sexes combined (under age 1, thousands)\",measure\n",
      "population_natural_change,Total population natural change / increase (thousands),measure\n",
      "natincr,\"Rate of natural increase (per 1,000 population)\",measure\n",
      "population_change,Population change (thousands),measure\n",
      "growthrate,Population growth rate (percentage),measure\n",
      "\n"
     ]
    }
   ],
   "source": [
    "print(m3[m3['indicator'].isin(d)][['indicator', 'name']].assign(concept_type='measure').to_csv(index=False))"
   ]
  },
  {
   "cell_type": "code",
   "execution_count": 241,
   "metadata": {
    "autoscroll": false,
    "collapsed": false,
    "ein.hycell": false,
    "ein.tags": "worksheet-0",
    "slideshow": {
     "slide_type": "-"
    }
   },
   "outputs": [],
   "source": [
    "agebroad = pd.read_excel('../source/metadata.xlsx', sheet_name='BroadAgeMap')"
   ]
  },
  {
   "cell_type": "code",
   "execution_count": 243,
   "metadata": {
    "autoscroll": false,
    "collapsed": false,
    "ein.hycell": false,
    "ein.tags": "worksheet-0",
    "slideshow": {
     "slide_type": "-"
    }
   },
   "outputs": [
    {
     "name": "stdout",
     "output_type": "stream",
     "text": [
      "agebroad,name\n",
      "0,Alive between birth and age 1\n",
      "0_1,Population under age 2\n",
      "0_4,Population under age 5\n",
      "0_14,Population under age 15\n",
      "0_17,Population under age 18\n",
      "0_19,Population under age 20\n",
      "0_24,Population under age 25\n",
      "3_4,Population aged 3-4\n",
      "3_5,Population aged 3-5\n",
      "3_6,Population aged 3-6\n",
      "4_5,Population aged 4-5\n",
      "4_6,Population aged 4-6\n",
      "5_14,Population aged 5-14\n",
      "5_10,Population aged 5-10\n",
      "5_11,Population aged 5-11\n",
      "6_9,Population aged 6-9\n",
      "6_10,Population aged 6-10\n",
      "6_11,Population aged 6-11\n",
      "6_12,Population aged 6-12\n",
      "7_10,Population aged 7-10\n",
      "7_12,Population aged 7-12\n",
      "11_16,Population aged 11-16\n",
      "11_17,Population aged 11-17\n",
      "11_18,Population aged 11-18\n",
      "12_14,Population aged 12-14\n",
      "12_16,Population aged 12-16\n",
      "12_17,Population aged 12-17\n",
      "12_18,Population aged 12-18\n",
      "13_17,Population aged 13-17\n",
      "13_18,Population aged 13-18\n",
      "13_19,Population aged 13-19\n",
      "15_17,Population aged 15-17\n",
      "18_23,Population aged 18-23\n",
      "15_24,Population aged 15-24\n",
      "15_49,Population aged 15-49\n",
      "15_59,Population aged 15-59\n",
      "15_64,Population aged 15-64\n",
      "20_64,Population aged 20-64\n",
      "20_69,Population aged 20-69\n",
      "25_49,Population aged 25-49\n",
      "25_64,Population aged 25-64\n",
      "25_69,Population aged 25-69\n",
      "15plus,Population aged 15 or over\n",
      "16plus,Population aged 16 or over\n",
      "17plus,Population aged 17 or over\n",
      "18plus,Population aged 18 or over\n",
      "20plus,Population aged 20 or over\n",
      "21plus,Population aged 21 or over\n",
      "25plus,Population aged 25 or over\n",
      "50plus,Population aged 50 or over\n",
      "60plus,Population aged 60 or over\n",
      "65plus,Population aged 65 or over\n",
      "70plus,Population aged 70 or over\n",
      "75plus,Population aged 75 or over\n",
      "80plus,Population aged 80 or over\n",
      "85plus,Population aged 85 or over\n",
      "90plus,Population aged 90 or over\n",
      "total,Total\n",
      "\n"
     ]
    }
   ],
   "source": [
    "print(agebroad[['agebroad', 'name']].to_csv(index=False))"
   ]
  },
  {
   "cell_type": "code",
   "execution_count": null,
   "metadata": {
    "autoscroll": false,
    "collapsed": false,
    "ein.hycell": false,
    "ein.tags": "worksheet-0",
    "slideshow": {
     "slide_type": "-"
    }
   },
   "outputs": [],
   "source": []
  }
 ],
 "metadata": {
  "kernelspec": {
   "display_name": "Python 3",
   "name": "python3"
  },
  "name": "Untitled1.ipynb"
 },
 "nbformat": 4,
 "nbformat_minor": 2
}
