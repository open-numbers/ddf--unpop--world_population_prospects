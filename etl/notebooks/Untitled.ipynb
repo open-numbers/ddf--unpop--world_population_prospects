{
 "cells": [
  {
   "cell_type": "code",
   "execution_count": 2,
   "metadata": {
    "autoscroll": false,
    "collapsed": false,
    "ein.hycell": false,
    "ein.tags": "worksheet-0",
    "slideshow": {
     "slide_type": "-"
    }
   },
   "outputs": [],
   "source": [
    "import sys\n",
    "sys.path.insert(0, '../scripts')"
   ]
  },
  {
   "cell_type": "code",
   "execution_count": 3,
   "metadata": {
    "autoscroll": false,
    "collapsed": false,
    "ein.hycell": false,
    "ein.tags": "worksheet-0",
    "slideshow": {
     "slide_type": "-"
    }
   },
   "outputs": [],
   "source": [
    "%load_ext autoreload\n",
    "%autoreload 2"
   ]
  },
  {
   "cell_type": "code",
   "execution_count": 4,
   "metadata": {
    "autoscroll": false,
    "collapsed": false,
    "ein.hycell": false,
    "ein.tags": "worksheet-0",
    "slideshow": {
     "slide_type": "-"
    }
   },
   "outputs": [],
   "source": [
    "import etl_new as etl"
   ]
  },
  {
   "cell_type": "code",
   "execution_count": null,
   "metadata": {
    "autoscroll": false,
    "collapsed": false,
    "ein.hycell": false,
    "ein.tags": "worksheet-0",
    "slideshow": {
     "slide_type": "-"
    }
   },
   "outputs": [],
   "source": []
  },
  {
   "cell_type": "code",
   "execution_count": 2,
   "metadata": {
    "autoscroll": false,
    "collapsed": false,
    "ein.hycell": false,
    "ein.tags": "worksheet-0",
    "slideshow": {
     "slide_type": "-"
    }
   },
   "outputs": [
    {
     "name": "stdout",
     "output_type": "stream",
     "text": [
      "WPP2019_LifeTable.csv\r\n",
      "WPP2019_Period_Indicators_Medium.csv\r\n",
      "WPP2019_Period_Indicators_OtherVariants.csv\r\n",
      "WPP2019_PopulationByAgeSex_Medium.csv\r\n",
      "WPP2019_PopulationByAgeSex_OtherVariants.csv\r\n",
      "WPP2019_PopulationBySingleAgeSex.csv\r\n",
      "WPP2019_TotalPopulationBySex.csv\r\n"
     ]
    }
   ],
   "source": [
    "!ls ../source/csv"
   ]
  },
  {
   "cell_type": "code",
   "execution_count": 3,
   "metadata": {
    "autoscroll": false,
    "collapsed": false,
    "ein.hycell": false,
    "ein.tags": "worksheet-0",
    "slideshow": {
     "slide_type": "-"
    }
   },
   "outputs": [],
   "source": [
    "popbyagesex = pd.read_csv('../source/csv/WPP2019_PopulationBySingleAgeSex.csv', encoding='latin1')"
   ]
  },
  {
   "cell_type": "code",
   "execution_count": 4,
   "metadata": {
    "autoscroll": false,
    "collapsed": false,
    "ein.hycell": false,
    "ein.tags": "worksheet-0",
    "slideshow": {
     "slide_type": "-"
    }
   },
   "outputs": [
    {
     "data": {
      "text/html": [
       "<div>\n",
       "<style scoped>\n",
       "    .dataframe tbody tr th:only-of-type {\n",
       "        vertical-align: middle;\n",
       "    }\n",
       "\n",
       "    .dataframe tbody tr th {\n",
       "        vertical-align: top;\n",
       "    }\n",
       "\n",
       "    .dataframe thead th {\n",
       "        text-align: right;\n",
       "    }\n",
       "</style>\n",
       "<table border=\"1\" class=\"dataframe\">\n",
       "  <thead>\n",
       "    <tr style=\"text-align: right;\">\n",
       "      <th></th>\n",
       "      <th>LocID</th>\n",
       "      <th>Location</th>\n",
       "      <th>VarID</th>\n",
       "      <th>Variant</th>\n",
       "      <th>Time</th>\n",
       "      <th>MidPeriod</th>\n",
       "      <th>AgeGrp</th>\n",
       "      <th>AgeGrpStart</th>\n",
       "      <th>AgeGrpSpan</th>\n",
       "      <th>PopMale</th>\n",
       "      <th>PopFemale</th>\n",
       "      <th>PopTotal</th>\n",
       "    </tr>\n",
       "  </thead>\n",
       "  <tbody>\n",
       "    <tr>\n",
       "      <th>0</th>\n",
       "      <td>4</td>\n",
       "      <td>Afghanistan</td>\n",
       "      <td>2</td>\n",
       "      <td>Medium</td>\n",
       "      <td>1950</td>\n",
       "      <td>1950.5</td>\n",
       "      <td>0</td>\n",
       "      <td>0</td>\n",
       "      <td>1</td>\n",
       "      <td>139.669</td>\n",
       "      <td>154.913</td>\n",
       "      <td>294.581</td>\n",
       "    </tr>\n",
       "    <tr>\n",
       "      <th>1</th>\n",
       "      <td>4</td>\n",
       "      <td>Afghanistan</td>\n",
       "      <td>2</td>\n",
       "      <td>Medium</td>\n",
       "      <td>1950</td>\n",
       "      <td>1950.5</td>\n",
       "      <td>1</td>\n",
       "      <td>1</td>\n",
       "      <td>1</td>\n",
       "      <td>131.916</td>\n",
       "      <td>141.851</td>\n",
       "      <td>273.767</td>\n",
       "    </tr>\n",
       "    <tr>\n",
       "      <th>2</th>\n",
       "      <td>4</td>\n",
       "      <td>Afghanistan</td>\n",
       "      <td>2</td>\n",
       "      <td>Medium</td>\n",
       "      <td>1950</td>\n",
       "      <td>1950.5</td>\n",
       "      <td>2</td>\n",
       "      <td>2</td>\n",
       "      <td>1</td>\n",
       "      <td>125.127</td>\n",
       "      <td>130.632</td>\n",
       "      <td>255.759</td>\n",
       "    </tr>\n",
       "    <tr>\n",
       "      <th>3</th>\n",
       "      <td>4</td>\n",
       "      <td>Afghanistan</td>\n",
       "      <td>2</td>\n",
       "      <td>Medium</td>\n",
       "      <td>1950</td>\n",
       "      <td>1950.5</td>\n",
       "      <td>3</td>\n",
       "      <td>3</td>\n",
       "      <td>1</td>\n",
       "      <td>119.220</td>\n",
       "      <td>121.097</td>\n",
       "      <td>240.317</td>\n",
       "    </tr>\n",
       "    <tr>\n",
       "      <th>4</th>\n",
       "      <td>4</td>\n",
       "      <td>Afghanistan</td>\n",
       "      <td>2</td>\n",
       "      <td>Medium</td>\n",
       "      <td>1950</td>\n",
       "      <td>1950.5</td>\n",
       "      <td>4</td>\n",
       "      <td>4</td>\n",
       "      <td>1</td>\n",
       "      <td>114.112</td>\n",
       "      <td>113.085</td>\n",
       "      <td>227.198</td>\n",
       "    </tr>\n",
       "  </tbody>\n",
       "</table>\n",
       "</div>"
      ],
      "text/plain": [
       "   LocID     Location  VarID Variant  Time  MidPeriod  AgeGrp  AgeGrpStart  \\\n",
       "0      4  Afghanistan      2  Medium  1950     1950.5       0            0   \n",
       "1      4  Afghanistan      2  Medium  1950     1950.5       1            1   \n",
       "2      4  Afghanistan      2  Medium  1950     1950.5       2            2   \n",
       "3      4  Afghanistan      2  Medium  1950     1950.5       3            3   \n",
       "4      4  Afghanistan      2  Medium  1950     1950.5       4            4   \n",
       "\n",
       "   AgeGrpSpan  PopMale  PopFemale  PopTotal  \n",
       "0           1  139.669    154.913   294.581  \n",
       "1           1  131.916    141.851   273.767  \n",
       "2           1  125.127    130.632   255.759  \n",
       "3           1  119.220    121.097   240.317  \n",
       "4           1  114.112    113.085   227.198  "
      ]
     },
     "execution_count": 4,
     "metadata": {},
     "output_type": "execute_result"
    }
   ],
   "source": [
    "popbyagesex.head()"
   ]
  },
  {
   "cell_type": "code",
   "execution_count": 7,
   "metadata": {
    "autoscroll": false,
    "collapsed": false,
    "ein.hycell": false,
    "ein.tags": "worksheet-0",
    "slideshow": {
     "slide_type": "-"
    }
   },
   "outputs": [],
   "source": [
    "from ddf_utils.str import to_concept_id"
   ]
  },
  {
   "cell_type": "code",
   "execution_count": 6,
   "metadata": {
    "autoscroll": false,
    "collapsed": false,
    "ein.hycell": false,
    "ein.tags": "worksheet-0",
    "slideshow": {
     "slide_type": "-"
    }
   },
   "outputs": [
    {
     "data": {
      "text/plain": [
       "array([ 1, -1])"
      ]
     },
     "execution_count": 6,
     "metadata": {},
     "output_type": "execute_result"
    }
   ],
   "source": [
    "popbyagesex['AgeGrpSpan'].unique()"
   ]
  },
  {
   "cell_type": "code",
   "execution_count": 7,
   "metadata": {
    "autoscroll": false,
    "collapsed": false,
    "ein.hycell": false,
    "ein.tags": "worksheet-0",
    "slideshow": {
     "slide_type": "-"
    }
   },
   "outputs": [
    {
     "data": {
      "text/plain": [
       "array([100])"
      ]
     },
     "execution_count": 7,
     "metadata": {},
     "output_type": "execute_result"
    }
   ],
   "source": [
    "popbyagesex[popbyagesex['AgeGrpSpan'] == -1]['AgeGrp'].unique()"
   ]
  },
  {
   "cell_type": "code",
   "execution_count": 8,
   "metadata": {
    "autoscroll": false,
    "collapsed": false,
    "ein.hycell": false,
    "ein.tags": "worksheet-0",
    "slideshow": {
     "slide_type": "-"
    }
   },
   "outputs": [],
   "source": [
    "agegroup = popbyagesex[['AgeGrp']].drop_duplicates()\n",
    "agegroup['age1yearinterval'] = agegroup['AgeGrp']\n",
    "agegroup.columns = ['name', 'age1yearinterval']"
   ]
  },
  {
   "cell_type": "code",
   "execution_count": 9,
   "metadata": {
    "autoscroll": false,
    "collapsed": false,
    "ein.hycell": false,
    "ein.tags": "worksheet-0",
    "slideshow": {
     "slide_type": "-"
    }
   },
   "outputs": [
    {
     "data": {
      "text/html": [
       "<div>\n",
       "<style scoped>\n",
       "    .dataframe tbody tr th:only-of-type {\n",
       "        vertical-align: middle;\n",
       "    }\n",
       "\n",
       "    .dataframe tbody tr th {\n",
       "        vertical-align: top;\n",
       "    }\n",
       "\n",
       "    .dataframe thead th {\n",
       "        text-align: right;\n",
       "    }\n",
       "</style>\n",
       "<table border=\"1\" class=\"dataframe\">\n",
       "  <thead>\n",
       "    <tr style=\"text-align: right;\">\n",
       "      <th></th>\n",
       "      <th>name</th>\n",
       "      <th>age1yearinterval</th>\n",
       "    </tr>\n",
       "  </thead>\n",
       "  <tbody>\n",
       "    <tr>\n",
       "      <th>0</th>\n",
       "      <td>0</td>\n",
       "      <td>0</td>\n",
       "    </tr>\n",
       "    <tr>\n",
       "      <th>1</th>\n",
       "      <td>1</td>\n",
       "      <td>1</td>\n",
       "    </tr>\n",
       "    <tr>\n",
       "      <th>2</th>\n",
       "      <td>2</td>\n",
       "      <td>2</td>\n",
       "    </tr>\n",
       "    <tr>\n",
       "      <th>3</th>\n",
       "      <td>3</td>\n",
       "      <td>3</td>\n",
       "    </tr>\n",
       "    <tr>\n",
       "      <th>4</th>\n",
       "      <td>4</td>\n",
       "      <td>4</td>\n",
       "    </tr>\n",
       "  </tbody>\n",
       "</table>\n",
       "</div>"
      ],
      "text/plain": [
       "   name  age1yearinterval\n",
       "0     0                 0\n",
       "1     1                 1\n",
       "2     2                 2\n",
       "3     3                 3\n",
       "4     4                 4"
      ]
     },
     "execution_count": 9,
     "metadata": {},
     "output_type": "execute_result"
    }
   ],
   "source": [
    "agegroup.head()"
   ]
  },
  {
   "cell_type": "code",
   "execution_count": 10,
   "metadata": {
    "autoscroll": false,
    "collapsed": false,
    "ein.hycell": false,
    "ein.tags": "worksheet-0",
    "slideshow": {
     "slide_type": "-"
    }
   },
   "outputs": [],
   "source": [
    "agegroup[['age1yearinterval', 'name']].to_csv('../../ddf--entities--age1yearinterval.csv', index=False)"
   ]
  },
  {
   "cell_type": "code",
   "execution_count": 11,
   "metadata": {
    "autoscroll": false,
    "collapsed": false,
    "ein.hycell": false,
    "ein.tags": "worksheet-0",
    "slideshow": {
     "slide_type": "-"
    }
   },
   "outputs": [],
   "source": [
    "variants = popbyagesex[['VarID', 'Variant']].drop_duplicates()"
   ]
  },
  {
   "cell_type": "code",
   "execution_count": 12,
   "metadata": {
    "autoscroll": false,
    "collapsed": false,
    "ein.hycell": false,
    "ein.tags": "worksheet-0",
    "slideshow": {
     "slide_type": "-"
    }
   },
   "outputs": [
    {
     "data": {
      "text/html": [
       "<div>\n",
       "<style scoped>\n",
       "    .dataframe tbody tr th:only-of-type {\n",
       "        vertical-align: middle;\n",
       "    }\n",
       "\n",
       "    .dataframe tbody tr th {\n",
       "        vertical-align: top;\n",
       "    }\n",
       "\n",
       "    .dataframe thead th {\n",
       "        text-align: right;\n",
       "    }\n",
       "</style>\n",
       "<table border=\"1\" class=\"dataframe\">\n",
       "  <thead>\n",
       "    <tr style=\"text-align: right;\">\n",
       "      <th></th>\n",
       "      <th>VarID</th>\n",
       "      <th>Variant</th>\n",
       "    </tr>\n",
       "  </thead>\n",
       "  <tbody>\n",
       "    <tr>\n",
       "      <th>0</th>\n",
       "      <td>2</td>\n",
       "      <td>Medium</td>\n",
       "    </tr>\n",
       "  </tbody>\n",
       "</table>\n",
       "</div>"
      ],
      "text/plain": [
       "   VarID Variant\n",
       "0      2  Medium"
      ]
     },
     "execution_count": 12,
     "metadata": {},
     "output_type": "execute_result"
    }
   ],
   "source": [
    "variants"
   ]
  },
  {
   "cell_type": "code",
   "execution_count": 13,
   "metadata": {
    "autoscroll": false,
    "collapsed": false,
    "ein.hycell": false,
    "ein.tags": "worksheet-0",
    "slideshow": {
     "slide_type": "-"
    }
   },
   "outputs": [
    {
     "data": {
      "text/plain": [
       "Index(['LocID', 'Location', 'VarID', 'Variant', 'Time', 'MidPeriod', 'AgeGrp',\n",
       "       'AgeGrpStart', 'AgeGrpSpan', 'PopMale', 'PopFemale', 'PopTotal'],\n",
       "      dtype='object')"
      ]
     },
     "execution_count": 13,
     "metadata": {},
     "output_type": "execute_result"
    }
   ],
   "source": [
    "popbyagesex.columns"
   ]
  },
  {
   "cell_type": "code",
   "execution_count": 14,
   "metadata": {
    "autoscroll": false,
    "collapsed": false,
    "ein.hycell": false,
    "ein.tags": "worksheet-0",
    "slideshow": {
     "slide_type": "-"
    }
   },
   "outputs": [],
   "source": [
    "dp = popbyagesex[['LocID', 'Time', 'AgeGrp', 'PopMale', 'PopFemale', 'PopTotal']].copy()\n",
    "# dp['AgeGrp'] = dp['AgeGrp'].map(to_concept_id)\n",
    "dp.columns = ['location', 'time', 'age1yearinterval', 'pop_male', 'pop_female', 'pop_total']"
   ]
  },
  {
   "cell_type": "code",
   "execution_count": 15,
   "metadata": {
    "autoscroll": false,
    "collapsed": false,
    "ein.hycell": false,
    "ein.tags": "worksheet-0",
    "slideshow": {
     "slide_type": "-"
    }
   },
   "outputs": [],
   "source": [
    "dp = dp.set_index(['location', 'time', 'age1yearinterval'])"
   ]
  },
  {
   "cell_type": "code",
   "execution_count": 16,
   "metadata": {
    "autoscroll": false,
    "collapsed": false,
    "ein.hycell": false,
    "ein.tags": "worksheet-0",
    "slideshow": {
     "slide_type": "-"
    }
   },
   "outputs": [],
   "source": [
    "dfs = []\n",
    "for c in dp:\n",
    "    sex = c.split('_')[-1]\n",
    "    df = dp[[c]].copy()\n",
    "    df.columns = ['population']\n",
    "    df['sex'] = sex\n",
    "    df = df.set_index('sex', append=True)\n",
    "    dfs.append(df)"
   ]
  },
  {
   "cell_type": "code",
   "execution_count": 17,
   "metadata": {
    "autoscroll": false,
    "collapsed": false,
    "ein.hycell": false,
    "ein.tags": "worksheet-0",
    "slideshow": {
     "slide_type": "-"
    }
   },
   "outputs": [],
   "source": [
    "dp_merged = pd.concat(dfs, sort=False)"
   ]
  },
  {
   "cell_type": "code",
   "execution_count": 18,
   "metadata": {
    "autoscroll": false,
    "collapsed": false,
    "ein.hycell": false,
    "ein.tags": "worksheet-0",
    "slideshow": {
     "slide_type": "-"
    }
   },
   "outputs": [
    {
     "data": {
      "text/html": [
       "<div>\n",
       "<style scoped>\n",
       "    .dataframe tbody tr th:only-of-type {\n",
       "        vertical-align: middle;\n",
       "    }\n",
       "\n",
       "    .dataframe tbody tr th {\n",
       "        vertical-align: top;\n",
       "    }\n",
       "\n",
       "    .dataframe thead th {\n",
       "        text-align: right;\n",
       "    }\n",
       "</style>\n",
       "<table border=\"1\" class=\"dataframe\">\n",
       "  <thead>\n",
       "    <tr style=\"text-align: right;\">\n",
       "      <th></th>\n",
       "      <th></th>\n",
       "      <th></th>\n",
       "      <th></th>\n",
       "      <th>population</th>\n",
       "    </tr>\n",
       "    <tr>\n",
       "      <th>location</th>\n",
       "      <th>time</th>\n",
       "      <th>age1yearinterval</th>\n",
       "      <th>sex</th>\n",
       "      <th></th>\n",
       "    </tr>\n",
       "  </thead>\n",
       "  <tbody>\n",
       "    <tr>\n",
       "      <th rowspan=\"5\" valign=\"top\">4</th>\n",
       "      <th rowspan=\"5\" valign=\"top\">1950</th>\n",
       "      <th>0</th>\n",
       "      <th>male</th>\n",
       "      <td>139.669</td>\n",
       "    </tr>\n",
       "    <tr>\n",
       "      <th>1</th>\n",
       "      <th>male</th>\n",
       "      <td>131.916</td>\n",
       "    </tr>\n",
       "    <tr>\n",
       "      <th>2</th>\n",
       "      <th>male</th>\n",
       "      <td>125.127</td>\n",
       "    </tr>\n",
       "    <tr>\n",
       "      <th>3</th>\n",
       "      <th>male</th>\n",
       "      <td>119.220</td>\n",
       "    </tr>\n",
       "    <tr>\n",
       "      <th>4</th>\n",
       "      <th>male</th>\n",
       "      <td>114.112</td>\n",
       "    </tr>\n",
       "  </tbody>\n",
       "</table>\n",
       "</div>"
      ],
      "text/plain": [
       "                                     population\n",
       "location time age1yearinterval sex             \n",
       "4        1950 0                male     139.669\n",
       "              1                male     131.916\n",
       "              2                male     125.127\n",
       "              3                male     119.220\n",
       "              4                male     114.112"
      ]
     },
     "execution_count": 18,
     "metadata": {},
     "output_type": "execute_result"
    }
   ],
   "source": [
    "dp_merged.head()"
   ]
  },
  {
   "cell_type": "code",
   "execution_count": 19,
   "metadata": {
    "autoscroll": false,
    "collapsed": false,
    "ein.hycell": false,
    "ein.tags": "worksheet-0",
    "slideshow": {
     "slide_type": "-"
    }
   },
   "outputs": [
    {
     "data": {
      "text/html": [
       "<div>\n",
       "<style scoped>\n",
       "    .dataframe tbody tr th:only-of-type {\n",
       "        vertical-align: middle;\n",
       "    }\n",
       "\n",
       "    .dataframe tbody tr th {\n",
       "        vertical-align: top;\n",
       "    }\n",
       "\n",
       "    .dataframe thead th {\n",
       "        text-align: right;\n",
       "    }\n",
       "</style>\n",
       "<table border=\"1\" class=\"dataframe\">\n",
       "  <thead>\n",
       "    <tr style=\"text-align: right;\">\n",
       "      <th></th>\n",
       "      <th></th>\n",
       "      <th></th>\n",
       "      <th></th>\n",
       "      <th>population</th>\n",
       "    </tr>\n",
       "    <tr>\n",
       "      <th>location</th>\n",
       "      <th>time</th>\n",
       "      <th>age1yearinterval</th>\n",
       "      <th>sex</th>\n",
       "      <th></th>\n",
       "    </tr>\n",
       "  </thead>\n",
       "  <tbody>\n",
       "    <tr>\n",
       "      <th rowspan=\"5\" valign=\"top\">900</th>\n",
       "      <th rowspan=\"5\" valign=\"top\">1950</th>\n",
       "      <th>0</th>\n",
       "      <th>male</th>\n",
       "      <td>39854.036</td>\n",
       "    </tr>\n",
       "    <tr>\n",
       "      <th>1</th>\n",
       "      <th>male</th>\n",
       "      <td>36612.375</td>\n",
       "    </tr>\n",
       "    <tr>\n",
       "      <th>2</th>\n",
       "      <th>male</th>\n",
       "      <td>33956.483</td>\n",
       "    </tr>\n",
       "    <tr>\n",
       "      <th>3</th>\n",
       "      <th>male</th>\n",
       "      <td>31828.068</td>\n",
       "    </tr>\n",
       "    <tr>\n",
       "      <th>4</th>\n",
       "      <th>male</th>\n",
       "      <td>30168.870</td>\n",
       "    </tr>\n",
       "  </tbody>\n",
       "</table>\n",
       "</div>"
      ],
      "text/plain": [
       "                                     population\n",
       "location time age1yearinterval sex             \n",
       "900      1950 0                male   39854.036\n",
       "              1                male   36612.375\n",
       "              2                male   33956.483\n",
       "              3                male   31828.068\n",
       "              4                male   30168.870"
      ]
     },
     "execution_count": 19,
     "metadata": {},
     "output_type": "execute_result"
    }
   ],
   "source": [
    "dp_merged.query('location == 900').head()"
   ]
  },
  {
   "cell_type": "code",
   "execution_count": 9,
   "metadata": {
    "autoscroll": false,
    "collapsed": false,
    "ein.hycell": false,
    "ein.tags": "worksheet-0",
    "slideshow": {
     "slide_type": "-"
    }
   },
   "outputs": [],
   "source": [
    "location_metadata = pd.read_excel('../source/WPP2019_F01_LOCATIONS.XLSX', skiprows=16)"
   ]
  },
  {
   "cell_type": "code",
   "execution_count": 21,
   "metadata": {
    "autoscroll": false,
    "collapsed": false,
    "ein.hycell": false,
    "ein.tags": "worksheet-0",
    "slideshow": {
     "slide_type": "-"
    }
   },
   "outputs": [
    {
     "data": {
      "text/plain": [
       "Index(['Index', 'Region, subregion, country or area*', 'Notes',\n",
       "       'Location code', 'ISO3 Alpha-code', 'Code', 'Name',\n",
       "       'Parent Location code', 'Code.1', 'Code.2', 'Name.1', 'Code.3',\n",
       "       'Name.2', 'Code.4', 'Name.3', 'Code.5', 'Name.4',\n",
       "       'More developed regions\\n901', 'Less developed regions\\n902',\n",
       "       'Least developed countries\\n941',\n",
       "       'Less developed regions, excluding least developed countries\\n934',\n",
       "       'Less developed regions, excluding China\\n948',\n",
       "       'Land-Locked Developing Countries (LLDC)\\n1636',\n",
       "       'Small Island Developing States (SIDS)\\n1637',\n",
       "       'High-income Countries\\n1503', 'Middle-income Countries\\n1517',\n",
       "       'Upper-middle-income Countries\\n1502',\n",
       "       'Lower-middle-income Countries\\n1501', 'Low-income Countries\\n1500',\n",
       "       'No income group available\\n1518', 'Max(HIV) for males',\n",
       "       'Max(HIV) for females', 'Max(HIV) for both sexes',\n",
       "       'Year for max(HIV) for both sexes',\n",
       "       'Estimates of mortality age pattern',\n",
       "       'Projection of life expectancy at birth',\n",
       "       'Countries or areas with a population of less than 90,000 by mid-2019'],\n",
       "      dtype='object')"
      ]
     },
     "execution_count": 21,
     "metadata": {},
     "output_type": "execute_result"
    }
   ],
   "source": [
    "location_metadata.columns"
   ]
  },
  {
   "cell_type": "code",
   "execution_count": 10,
   "metadata": {
    "autoscroll": false,
    "collapsed": false,
    "ein.hycell": false,
    "ein.tags": "worksheet-0",
    "slideshow": {
     "slide_type": "-"
    }
   },
   "outputs": [],
   "source": [
    "loc = location_metadata[['Region, subregion, country or area*',\n",
    "                         'Location code',\n",
    "                         'ISO3 Alpha-code',\n",
    "                         'Parent Location code',\n",
    "                         'Code',\n",
    "                         'Name']].copy()"
   ]
  },
  {
   "cell_type": "code",
   "execution_count": 23,
   "metadata": {
    "autoscroll": false,
    "collapsed": false,
    "ein.hycell": false,
    "ein.tags": "worksheet-0",
    "slideshow": {
     "slide_type": "-"
    }
   },
   "outputs": [
    {
     "data": {
      "text/html": [
       "<div>\n",
       "<style scoped>\n",
       "    .dataframe tbody tr th:only-of-type {\n",
       "        vertical-align: middle;\n",
       "    }\n",
       "\n",
       "    .dataframe tbody tr th {\n",
       "        vertical-align: top;\n",
       "    }\n",
       "\n",
       "    .dataframe thead th {\n",
       "        text-align: right;\n",
       "    }\n",
       "</style>\n",
       "<table border=\"1\" class=\"dataframe\">\n",
       "  <thead>\n",
       "    <tr style=\"text-align: right;\">\n",
       "      <th></th>\n",
       "      <th>Region, subregion, country or area*</th>\n",
       "      <th>Location code</th>\n",
       "      <th>ISO3 Alpha-code</th>\n",
       "      <th>Parent Location code</th>\n",
       "      <th>Code</th>\n",
       "      <th>Name</th>\n",
       "    </tr>\n",
       "  </thead>\n",
       "  <tbody>\n",
       "    <tr>\n",
       "      <th>0</th>\n",
       "      <td>WORLD</td>\n",
       "      <td>900</td>\n",
       "      <td>NaN</td>\n",
       "      <td>0</td>\n",
       "      <td>NaN</td>\n",
       "      <td>NaN</td>\n",
       "    </tr>\n",
       "    <tr>\n",
       "      <th>1</th>\n",
       "      <td>UN development groups</td>\n",
       "      <td>1803</td>\n",
       "      <td>NaN</td>\n",
       "      <td>900</td>\n",
       "      <td>25.0</td>\n",
       "      <td>Label/Separator</td>\n",
       "    </tr>\n",
       "    <tr>\n",
       "      <th>2</th>\n",
       "      <td>More developed regions</td>\n",
       "      <td>901</td>\n",
       "      <td>NaN</td>\n",
       "      <td>1803</td>\n",
       "      <td>5.0</td>\n",
       "      <td>Development group</td>\n",
       "    </tr>\n",
       "    <tr>\n",
       "      <th>3</th>\n",
       "      <td>Less developed regions</td>\n",
       "      <td>902</td>\n",
       "      <td>NaN</td>\n",
       "      <td>1803</td>\n",
       "      <td>5.0</td>\n",
       "      <td>Development group</td>\n",
       "    </tr>\n",
       "    <tr>\n",
       "      <th>4</th>\n",
       "      <td>Least developed countries</td>\n",
       "      <td>941</td>\n",
       "      <td>NaN</td>\n",
       "      <td>902</td>\n",
       "      <td>5.0</td>\n",
       "      <td>Development group</td>\n",
       "    </tr>\n",
       "  </tbody>\n",
       "</table>\n",
       "</div>"
      ],
      "text/plain": [
       "  Region, subregion, country or area*  Location code ISO3 Alpha-code  \\\n",
       "0                               WORLD            900             NaN   \n",
       "1               UN development groups           1803             NaN   \n",
       "2              More developed regions            901             NaN   \n",
       "3              Less developed regions            902             NaN   \n",
       "4           Least developed countries            941             NaN   \n",
       "\n",
       "   Parent Location code  Code               Name  \n",
       "0                     0   NaN                NaN  \n",
       "1                   900  25.0    Label/Separator  \n",
       "2                  1803   5.0  Development group  \n",
       "3                  1803   5.0  Development group  \n",
       "4                   902   5.0  Development group  "
      ]
     },
     "execution_count": 23,
     "metadata": {},
     "output_type": "execute_result"
    }
   ],
   "source": [
    "loc.head()"
   ]
  },
  {
   "cell_type": "code",
   "execution_count": 11,
   "metadata": {
    "autoscroll": false,
    "collapsed": false,
    "ein.hycell": false,
    "ein.tags": "worksheet-0",
    "slideshow": {
     "slide_type": "-"
    }
   },
   "outputs": [
    {
     "data": {
      "text/html": [
       "<div>\n",
       "<style scoped>\n",
       "    .dataframe tbody tr th:only-of-type {\n",
       "        vertical-align: middle;\n",
       "    }\n",
       "\n",
       "    .dataframe tbody tr th {\n",
       "        vertical-align: top;\n",
       "    }\n",
       "\n",
       "    .dataframe thead th {\n",
       "        text-align: right;\n",
       "    }\n",
       "</style>\n",
       "<table border=\"1\" class=\"dataframe\">\n",
       "  <thead>\n",
       "    <tr style=\"text-align: right;\">\n",
       "      <th></th>\n",
       "      <th>Region, subregion, country or area*</th>\n",
       "      <th>Location code</th>\n",
       "      <th>ISO3 Alpha-code</th>\n",
       "      <th>Parent Location code</th>\n",
       "      <th>Code</th>\n",
       "      <th>Name</th>\n",
       "    </tr>\n",
       "  </thead>\n",
       "  <tbody>\n",
       "    <tr>\n",
       "      <th>26</th>\n",
       "      <td>Burundi</td>\n",
       "      <td>108</td>\n",
       "      <td>BDI</td>\n",
       "      <td>910</td>\n",
       "      <td>4.0</td>\n",
       "      <td>Country/Area</td>\n",
       "    </tr>\n",
       "    <tr>\n",
       "      <th>27</th>\n",
       "      <td>Comoros</td>\n",
       "      <td>174</td>\n",
       "      <td>COM</td>\n",
       "      <td>910</td>\n",
       "      <td>4.0</td>\n",
       "      <td>Country/Area</td>\n",
       "    </tr>\n",
       "    <tr>\n",
       "      <th>28</th>\n",
       "      <td>Djibouti</td>\n",
       "      <td>262</td>\n",
       "      <td>DJI</td>\n",
       "      <td>910</td>\n",
       "      <td>4.0</td>\n",
       "      <td>Country/Area</td>\n",
       "    </tr>\n",
       "    <tr>\n",
       "      <th>29</th>\n",
       "      <td>Eritrea</td>\n",
       "      <td>232</td>\n",
       "      <td>ERI</td>\n",
       "      <td>910</td>\n",
       "      <td>4.0</td>\n",
       "      <td>Country/Area</td>\n",
       "    </tr>\n",
       "    <tr>\n",
       "      <th>30</th>\n",
       "      <td>Ethiopia</td>\n",
       "      <td>231</td>\n",
       "      <td>ETH</td>\n",
       "      <td>910</td>\n",
       "      <td>4.0</td>\n",
       "      <td>Country/Area</td>\n",
       "    </tr>\n",
       "  </tbody>\n",
       "</table>\n",
       "</div>"
      ],
      "text/plain": [
       "   Region, subregion, country or area*  Location code ISO3 Alpha-code  \\\n",
       "26                             Burundi            108             BDI   \n",
       "27                             Comoros            174             COM   \n",
       "28                            Djibouti            262             DJI   \n",
       "29                             Eritrea            232             ERI   \n",
       "30                            Ethiopia            231             ETH   \n",
       "\n",
       "    Parent Location code  Code          Name  \n",
       "26                   910   4.0  Country/Area  \n",
       "27                   910   4.0  Country/Area  \n",
       "28                   910   4.0  Country/Area  \n",
       "29                   910   4.0  Country/Area  \n",
       "30                   910   4.0  Country/Area  "
      ]
     },
     "execution_count": 11,
     "metadata": {},
     "output_type": "execute_result"
    }
   ],
   "source": [
    "loc[loc['Name'] == 'Country/Area'].head()"
   ]
  },
  {
   "cell_type": "code",
   "execution_count": 12,
   "metadata": {
    "autoscroll": false,
    "collapsed": false,
    "ein.hycell": false,
    "ein.tags": "worksheet-0",
    "slideshow": {
     "slide_type": "-"
    }
   },
   "outputs": [],
   "source": [
    "countries = loc[loc['Name'] == 'Country/Area'].copy()\n",
    "countries.columns = ['name', 'country', 'iso3', 'parent', 'code', 'type']\n",
    "countries = countries[['country', 'name', 'iso3']]"
   ]
  },
  {
   "cell_type": "code",
   "execution_count": 26,
   "metadata": {
    "autoscroll": false,
    "collapsed": false,
    "ein.hycell": false,
    "ein.tags": "worksheet-0",
    "slideshow": {
     "slide_type": "-"
    }
   },
   "outputs": [
    {
     "data": {
      "text/html": [
       "<div>\n",
       "<style scoped>\n",
       "    .dataframe tbody tr th:only-of-type {\n",
       "        vertical-align: middle;\n",
       "    }\n",
       "\n",
       "    .dataframe tbody tr th {\n",
       "        vertical-align: top;\n",
       "    }\n",
       "\n",
       "    .dataframe thead th {\n",
       "        text-align: right;\n",
       "    }\n",
       "</style>\n",
       "<table border=\"1\" class=\"dataframe\">\n",
       "  <thead>\n",
       "    <tr style=\"text-align: right;\">\n",
       "      <th></th>\n",
       "      <th>country</th>\n",
       "      <th>name</th>\n",
       "      <th>iso3</th>\n",
       "    </tr>\n",
       "  </thead>\n",
       "  <tbody>\n",
       "    <tr>\n",
       "      <th>26</th>\n",
       "      <td>108</td>\n",
       "      <td>Burundi</td>\n",
       "      <td>BDI</td>\n",
       "    </tr>\n",
       "    <tr>\n",
       "      <th>27</th>\n",
       "      <td>174</td>\n",
       "      <td>Comoros</td>\n",
       "      <td>COM</td>\n",
       "    </tr>\n",
       "    <tr>\n",
       "      <th>28</th>\n",
       "      <td>262</td>\n",
       "      <td>Djibouti</td>\n",
       "      <td>DJI</td>\n",
       "    </tr>\n",
       "    <tr>\n",
       "      <th>29</th>\n",
       "      <td>232</td>\n",
       "      <td>Eritrea</td>\n",
       "      <td>ERI</td>\n",
       "    </tr>\n",
       "    <tr>\n",
       "      <th>30</th>\n",
       "      <td>231</td>\n",
       "      <td>Ethiopia</td>\n",
       "      <td>ETH</td>\n",
       "    </tr>\n",
       "  </tbody>\n",
       "</table>\n",
       "</div>"
      ],
      "text/plain": [
       "    country      name iso3\n",
       "26      108   Burundi  BDI\n",
       "27      174   Comoros  COM\n",
       "28      262  Djibouti  DJI\n",
       "29      232   Eritrea  ERI\n",
       "30      231  Ethiopia  ETH"
      ]
     },
     "execution_count": 26,
     "metadata": {},
     "output_type": "execute_result"
    }
   ],
   "source": [
    "countries.head()"
   ]
  },
  {
   "cell_type": "code",
   "execution_count": 13,
   "metadata": {
    "autoscroll": false,
    "collapsed": false,
    "ein.hycell": false,
    "ein.tags": "worksheet-0",
    "slideshow": {
     "slide_type": "-"
    }
   },
   "outputs": [],
   "source": [
    "countries['is--country'] = 'TRUE'"
   ]
  },
  {
   "cell_type": "code",
   "execution_count": 42,
   "metadata": {
    "autoscroll": false,
    "collapsed": false,
    "ein.hycell": false,
    "ein.tags": "worksheet-0",
    "slideshow": {
     "slide_type": "-"
    }
   },
   "outputs": [],
   "source": [
    "# countries.to_csv('../../ddf--entities--geo--country.csv', index=False)\n",
    "countries[['country', 'name', 'iso3']].to_csv('../../ddf--entities--country.csv', index=False)"
   ]
  },
  {
   "cell_type": "code",
   "execution_count": 28,
   "metadata": {
    "autoscroll": false,
    "collapsed": false,
    "ein.hycell": false,
    "ein.tags": "worksheet-0",
    "slideshow": {
     "slide_type": "-"
    }
   },
   "outputs": [],
   "source": [
    "dp_country = dp_merged.reset_index()"
   ]
  },
  {
   "cell_type": "code",
   "execution_count": 32,
   "metadata": {
    "autoscroll": false,
    "collapsed": false,
    "ein.hycell": false,
    "ein.tags": "worksheet-0",
    "slideshow": {
     "slide_type": "-"
    }
   },
   "outputs": [],
   "source": [
    "dp_country = dp_country.rename(columns={'location': 'country', 'sex': 'gender'})"
   ]
  },
  {
   "cell_type": "code",
   "execution_count": 33,
   "metadata": {
    "autoscroll": false,
    "collapsed": false,
    "ein.hycell": false,
    "ein.tags": "worksheet-0",
    "slideshow": {
     "slide_type": "-"
    }
   },
   "outputs": [
    {
     "data": {
      "text/html": [
       "<div>\n",
       "<style scoped>\n",
       "    .dataframe tbody tr th:only-of-type {\n",
       "        vertical-align: middle;\n",
       "    }\n",
       "\n",
       "    .dataframe tbody tr th {\n",
       "        vertical-align: top;\n",
       "    }\n",
       "\n",
       "    .dataframe thead th {\n",
       "        text-align: right;\n",
       "    }\n",
       "</style>\n",
       "<table border=\"1\" class=\"dataframe\">\n",
       "  <thead>\n",
       "    <tr style=\"text-align: right;\">\n",
       "      <th></th>\n",
       "      <th>country</th>\n",
       "      <th>time</th>\n",
       "      <th>age1yearinterval</th>\n",
       "      <th>gender</th>\n",
       "      <th>population</th>\n",
       "    </tr>\n",
       "  </thead>\n",
       "  <tbody>\n",
       "    <tr>\n",
       "      <th>0</th>\n",
       "      <td>4</td>\n",
       "      <td>1950</td>\n",
       "      <td>0</td>\n",
       "      <td>male</td>\n",
       "      <td>139.669</td>\n",
       "    </tr>\n",
       "    <tr>\n",
       "      <th>1</th>\n",
       "      <td>4</td>\n",
       "      <td>1950</td>\n",
       "      <td>1</td>\n",
       "      <td>male</td>\n",
       "      <td>131.916</td>\n",
       "    </tr>\n",
       "    <tr>\n",
       "      <th>2</th>\n",
       "      <td>4</td>\n",
       "      <td>1950</td>\n",
       "      <td>2</td>\n",
       "      <td>male</td>\n",
       "      <td>125.127</td>\n",
       "    </tr>\n",
       "    <tr>\n",
       "      <th>3</th>\n",
       "      <td>4</td>\n",
       "      <td>1950</td>\n",
       "      <td>3</td>\n",
       "      <td>male</td>\n",
       "      <td>119.220</td>\n",
       "    </tr>\n",
       "    <tr>\n",
       "      <th>4</th>\n",
       "      <td>4</td>\n",
       "      <td>1950</td>\n",
       "      <td>4</td>\n",
       "      <td>male</td>\n",
       "      <td>114.112</td>\n",
       "    </tr>\n",
       "  </tbody>\n",
       "</table>\n",
       "</div>"
      ],
      "text/plain": [
       "   country  time  age1yearinterval gender  population\n",
       "0        4  1950                 0   male     139.669\n",
       "1        4  1950                 1   male     131.916\n",
       "2        4  1950                 2   male     125.127\n",
       "3        4  1950                 3   male     119.220\n",
       "4        4  1950                 4   male     114.112"
      ]
     },
     "execution_count": 33,
     "metadata": {},
     "output_type": "execute_result"
    }
   ],
   "source": [
    "dp_country.head()"
   ]
  },
  {
   "cell_type": "code",
   "execution_count": 39,
   "metadata": {
    "autoscroll": false,
    "collapsed": false,
    "ein.hycell": false,
    "ein.tags": "worksheet-0",
    "slideshow": {
     "slide_type": "-"
    }
   },
   "outputs": [],
   "source": [
    "dp_total = dp_country[dp_country.gender == 'total']\n",
    "dp_total = dp_total[['country', 'time', 'age1yearinterval', 'population']]\n",
    "\n",
    "for c in countries['country'].unique():\n",
    "    df = dp_total[dp_total['country'] == c]\n",
    "    if not df.empty:\n",
    "        df.to_csv(f'../../populations--by--country--time--age1yearinterval/ddf--datapoints--population--by--country-{c}--time--age1yearinterval.csv'\n",
    "                  , index=False)"
   ]
  },
  {
   "cell_type": "code",
   "execution_count": 40,
   "metadata": {
    "autoscroll": false,
    "collapsed": false,
    "ein.hycell": false,
    "ein.tags": "worksheet-0",
    "slideshow": {
     "slide_type": "-"
    }
   },
   "outputs": [],
   "source": [
    "dp_genders = dp_country[dp_country.gender.isin(['male', 'female'])]\n",
    "\n",
    "for c in countries['country'].unique():\n",
    "    df = dp_genders[dp_genders['country'] == c]\n",
    "    if not df.empty:\n",
    "        df.to_csv(\n",
    "            f'../../populations--by--country--time--age1yearinterval--gender/ddf--datapoints--population--by--country-{c}--time--age1yearinterval--gender.csv'\n",
    "            , index=False)"
   ]
  },
  {
   "cell_type": "code",
   "execution_count": 35,
   "metadata": {
    "autoscroll": false,
    "collapsed": false,
    "ein.hycell": false,
    "ein.tags": "worksheet-0",
    "slideshow": {
     "slide_type": "-"
    }
   },
   "outputs": [
    {
     "data": {
      "text/plain": [
       "Index(['country', 'name', 'iso3'], dtype='object')"
      ]
     },
     "execution_count": 35,
     "metadata": {},
     "output_type": "execute_result"
    }
   ],
   "source": [
    "countries.columns"
   ]
  },
  {
   "cell_type": "code",
   "execution_count": 14,
   "metadata": {
    "autoscroll": false,
    "collapsed": false,
    "ein.hycell": false,
    "ein.tags": "worksheet-0",
    "slideshow": {
     "slide_type": "-"
    }
   },
   "outputs": [],
   "source": [
    "peroidInd = pd.read_csv('../source/csv/WPP2019_Period_Indicators_Medium.csv', encoding='latin1')"
   ]
  },
  {
   "cell_type": "code",
   "execution_count": 44,
   "metadata": {
    "autoscroll": false,
    "collapsed": false,
    "ein.hycell": false,
    "ein.tags": "worksheet-0",
    "slideshow": {
     "slide_type": "-"
    }
   },
   "outputs": [
    {
     "data": {
      "text/html": [
       "<div>\n",
       "<style scoped>\n",
       "    .dataframe tbody tr th:only-of-type {\n",
       "        vertical-align: middle;\n",
       "    }\n",
       "\n",
       "    .dataframe tbody tr th {\n",
       "        vertical-align: top;\n",
       "    }\n",
       "\n",
       "    .dataframe thead th {\n",
       "        text-align: right;\n",
       "    }\n",
       "</style>\n",
       "<table border=\"1\" class=\"dataframe\">\n",
       "  <thead>\n",
       "    <tr style=\"text-align: right;\">\n",
       "      <th></th>\n",
       "      <th>LocID</th>\n",
       "      <th>Location</th>\n",
       "      <th>VarID</th>\n",
       "      <th>Variant</th>\n",
       "      <th>Time</th>\n",
       "      <th>MidPeriod</th>\n",
       "      <th>TFR</th>\n",
       "      <th>NRR</th>\n",
       "      <th>CBR</th>\n",
       "      <th>Births</th>\n",
       "      <th>...</th>\n",
       "      <th>CDR</th>\n",
       "      <th>Deaths</th>\n",
       "      <th>DeathsMale</th>\n",
       "      <th>DeathsFemale</th>\n",
       "      <th>CNMR</th>\n",
       "      <th>NetMigrations</th>\n",
       "      <th>GrowthRate</th>\n",
       "      <th>NatIncr</th>\n",
       "      <th>SRB</th>\n",
       "      <th>MAC</th>\n",
       "    </tr>\n",
       "  </thead>\n",
       "  <tbody>\n",
       "    <tr>\n",
       "      <th>0</th>\n",
       "      <td>4</td>\n",
       "      <td>Afghanistan</td>\n",
       "      <td>2</td>\n",
       "      <td>Medium</td>\n",
       "      <td>1950-1955</td>\n",
       "      <td>1953</td>\n",
       "      <td>7.45</td>\n",
       "      <td>1.636</td>\n",
       "      <td>50.314</td>\n",
       "      <td>2015.476</td>\n",
       "      <td>...</td>\n",
       "      <td>36.862</td>\n",
       "      <td>1476.605</td>\n",
       "      <td>794.020</td>\n",
       "      <td>682.585</td>\n",
       "      <td>-0.499</td>\n",
       "      <td>-20.0</td>\n",
       "      <td>1.296</td>\n",
       "      <td>13.452</td>\n",
       "      <td>1.06</td>\n",
       "      <td>29.835</td>\n",
       "    </tr>\n",
       "    <tr>\n",
       "      <th>1</th>\n",
       "      <td>4</td>\n",
       "      <td>Afghanistan</td>\n",
       "      <td>2</td>\n",
       "      <td>Medium</td>\n",
       "      <td>1955-1960</td>\n",
       "      <td>1958</td>\n",
       "      <td>7.45</td>\n",
       "      <td>1.765</td>\n",
       "      <td>50.998</td>\n",
       "      <td>2201.589</td>\n",
       "      <td>...</td>\n",
       "      <td>33.718</td>\n",
       "      <td>1455.605</td>\n",
       "      <td>783.110</td>\n",
       "      <td>672.495</td>\n",
       "      <td>-0.463</td>\n",
       "      <td>-20.0</td>\n",
       "      <td>1.683</td>\n",
       "      <td>17.280</td>\n",
       "      <td>1.06</td>\n",
       "      <td>29.835</td>\n",
       "    </tr>\n",
       "    <tr>\n",
       "      <th>2</th>\n",
       "      <td>4</td>\n",
       "      <td>Afghanistan</td>\n",
       "      <td>2</td>\n",
       "      <td>Medium</td>\n",
       "      <td>1960-1965</td>\n",
       "      <td>1963</td>\n",
       "      <td>7.45</td>\n",
       "      <td>1.899</td>\n",
       "      <td>51.477</td>\n",
       "      <td>2439.130</td>\n",
       "      <td>...</td>\n",
       "      <td>30.808</td>\n",
       "      <td>1459.784</td>\n",
       "      <td>777.437</td>\n",
       "      <td>682.347</td>\n",
       "      <td>-0.422</td>\n",
       "      <td>-20.0</td>\n",
       "      <td>2.026</td>\n",
       "      <td>20.669</td>\n",
       "      <td>1.06</td>\n",
       "      <td>29.835</td>\n",
       "    </tr>\n",
       "    <tr>\n",
       "      <th>3</th>\n",
       "      <td>4</td>\n",
       "      <td>Afghanistan</td>\n",
       "      <td>2</td>\n",
       "      <td>Medium</td>\n",
       "      <td>1965-1970</td>\n",
       "      <td>1968</td>\n",
       "      <td>7.45</td>\n",
       "      <td>2.017</td>\n",
       "      <td>51.646</td>\n",
       "      <td>2728.221</td>\n",
       "      <td>...</td>\n",
       "      <td>28.223</td>\n",
       "      <td>1490.896</td>\n",
       "      <td>790.745</td>\n",
       "      <td>700.151</td>\n",
       "      <td>-0.379</td>\n",
       "      <td>-20.0</td>\n",
       "      <td>2.307</td>\n",
       "      <td>23.423</td>\n",
       "      <td>1.06</td>\n",
       "      <td>29.835</td>\n",
       "    </tr>\n",
       "    <tr>\n",
       "      <th>4</th>\n",
       "      <td>4</td>\n",
       "      <td>Afghanistan</td>\n",
       "      <td>2</td>\n",
       "      <td>Medium</td>\n",
       "      <td>1970-1975</td>\n",
       "      <td>1973</td>\n",
       "      <td>7.45</td>\n",
       "      <td>2.141</td>\n",
       "      <td>51.234</td>\n",
       "      <td>3056.451</td>\n",
       "      <td>...</td>\n",
       "      <td>25.495</td>\n",
       "      <td>1520.938</td>\n",
       "      <td>802.414</td>\n",
       "      <td>718.524</td>\n",
       "      <td>-0.335</td>\n",
       "      <td>-20.0</td>\n",
       "      <td>2.544</td>\n",
       "      <td>25.739</td>\n",
       "      <td>1.06</td>\n",
       "      <td>29.835</td>\n",
       "    </tr>\n",
       "  </tbody>\n",
       "</table>\n",
       "<p>5 rows × 25 columns</p>\n",
       "</div>"
      ],
      "text/plain": [
       "   LocID     Location  VarID Variant       Time  MidPeriod   TFR    NRR  \\\n",
       "0      4  Afghanistan      2  Medium  1950-1955       1953  7.45  1.636   \n",
       "1      4  Afghanistan      2  Medium  1955-1960       1958  7.45  1.765   \n",
       "2      4  Afghanistan      2  Medium  1960-1965       1963  7.45  1.899   \n",
       "3      4  Afghanistan      2  Medium  1965-1970       1968  7.45  2.017   \n",
       "4      4  Afghanistan      2  Medium  1970-1975       1973  7.45  2.141   \n",
       "\n",
       "      CBR    Births  ...     CDR    Deaths  DeathsMale  DeathsFemale   CNMR  \\\n",
       "0  50.314  2015.476  ...  36.862  1476.605     794.020       682.585 -0.499   \n",
       "1  50.998  2201.589  ...  33.718  1455.605     783.110       672.495 -0.463   \n",
       "2  51.477  2439.130  ...  30.808  1459.784     777.437       682.347 -0.422   \n",
       "3  51.646  2728.221  ...  28.223  1490.896     790.745       700.151 -0.379   \n",
       "4  51.234  3056.451  ...  25.495  1520.938     802.414       718.524 -0.335   \n",
       "\n",
       "   NetMigrations  GrowthRate  NatIncr   SRB     MAC  \n",
       "0          -20.0       1.296   13.452  1.06  29.835  \n",
       "1          -20.0       1.683   17.280  1.06  29.835  \n",
       "2          -20.0       2.026   20.669  1.06  29.835  \n",
       "3          -20.0       2.307   23.423  1.06  29.835  \n",
       "4          -20.0       2.544   25.739  1.06  29.835  \n",
       "\n",
       "[5 rows x 25 columns]"
      ]
     },
     "execution_count": 44,
     "metadata": {},
     "output_type": "execute_result"
    }
   ],
   "source": [
    "peroidInd.head()"
   ]
  },
  {
   "cell_type": "code",
   "execution_count": 2,
   "metadata": {
    "autoscroll": false,
    "collapsed": false,
    "ein.hycell": false,
    "ein.tags": "worksheet-0",
    "slideshow": {
     "slide_type": "-"
    }
   },
   "outputs": [],
   "source": [
    "pi_concepts = {\n",
    "    \"TFR          \": \"Total fertility (live births per woman)\",\n",
    "    \"NRR          \": \"Net reproduction rate (surviving daughters per woman)\",\n",
    "    \"CBR          \": \"Crude birth rate (births per 1,000 population)\",\n",
    "    \"Births       \": \"Number of births, both sexes combined (thousands)\",\n",
    "    \"LEx          \": \"Life expectancy at birth for both sexes combined (years)\",\n",
    "    \"IMR          \": \"Infant mortality rate, q(1), for both sexes combined (infant deaths per 1,000 live births)\",\n",
    "    \"Q5           \": \"Under-five mortality, 5q0, for both sexes combined (deaths under age five per 1,000 live births)\",\n",
    "    \"CDR          \": \"Crude death rate (deaths per 1,000 population)\",\n",
    "    \"Deaths       \": \"Number of deaths, both sexes combined (thousands)\",\n",
    "    \"CNMR         \": \"Net migration rate (per 1,000 population)\",\n",
    "    \"NetMigrations\": \"Net number of migrants, both sexes combined (thousands)\",\n",
    "    \"GrowthRate   \": \"Average annual rate of population change (percentage)\",\n",
    "    \"NatIncr      \": \"Rate of natural increase (per 1,000 population)\",\n",
    "    \"SRB          \": \"Sex ratio at birth (male births per female births)\",\n",
    "    \"MAC          \": \"Female mean age of childbearing (years)\"\n",
    "}"
   ]
  },
  {
   "cell_type": "code",
   "execution_count": 3,
   "metadata": {
    "autoscroll": false,
    "collapsed": false,
    "ein.hycell": false,
    "ein.tags": "worksheet-0",
    "slideshow": {
     "slide_type": "-"
    }
   },
   "outputs": [],
   "source": [
    "pi_concepts = dict([(k.strip(), v) for k, v in pi_concepts.items()])"
   ]
  },
  {
   "cell_type": "code",
   "execution_count": 4,
   "metadata": {
    "autoscroll": false,
    "collapsed": false,
    "ein.hycell": false,
    "ein.tags": "worksheet-0",
    "slideshow": {
     "slide_type": "-"
    }
   },
   "outputs": [
    {
     "data": {
      "text/plain": [
       "{'TFR': 'Total fertility (live births per woman)',\n",
       " 'NRR': 'Net reproduction rate (surviving daughters per woman)',\n",
       " 'CBR': 'Crude birth rate (births per 1,000 population)',\n",
       " 'Births': 'Number of births, both sexes combined (thousands)',\n",
       " 'LEx': 'Life expectancy at birth for both sexes combined (years)',\n",
       " 'IMR': 'Infant mortality rate, q(1), for both sexes combined (infant deaths per 1,000 live births)',\n",
       " 'Q5': 'Under-five mortality, 5q0, for both sexes combined (deaths under age five per 1,000 live births)',\n",
       " 'CDR': 'Crude death rate (deaths per 1,000 population)',\n",
       " 'Deaths': 'Number of deaths, both sexes combined (thousands)',\n",
       " 'CNMR': 'Net migration rate (per 1,000 population)',\n",
       " 'NetMigrations': 'Net number of migrants, both sexes combined (thousands)',\n",
       " 'GrowthRate': 'Average annual rate of population change (percentage)',\n",
       " 'NatIncr': 'Rate of natural increase (per 1,000 population)',\n",
       " 'SRB': 'Sex ratio at birth (male births per female births)',\n",
       " 'MAC': 'Female mean age of childbearing (years)'}"
      ]
     },
     "execution_count": 4,
     "metadata": {},
     "output_type": "execute_result"
    }
   ],
   "source": [
    "pi_concepts"
   ]
  },
  {
   "cell_type": "code",
   "execution_count": null,
   "metadata": {
    "autoscroll": false,
    "collapsed": false,
    "ein.hycell": false,
    "ein.tags": "worksheet-0",
    "slideshow": {
     "slide_type": "-"
    }
   },
   "outputs": [],
   "source": []
  },
  {
   "cell_type": "code",
   "execution_count": 8,
   "metadata": {
    "autoscroll": false,
    "collapsed": false,
    "ein.hycell": false,
    "ein.tags": "worksheet-0",
    "slideshow": {
     "slide_type": "-"
    }
   },
   "outputs": [
    {
     "name": "stdout",
     "output_type": "stream",
     "text": [
      ",0,concept_type,domain\n",
      "tfr,Total fertility (live births per woman),measure,\n",
      "nrr,Net reproduction rate (surviving daughters per woman),measure,\n",
      "cbr,\"Crude birth rate (births per 1,000 population)\",measure,\n",
      "births,\"Number of births, both sexes combined (thousands)\",measure,\n",
      "lex,Life expectancy at birth for both sexes combined (years),measure,\n",
      "imr,\"Infant mortality rate, q(1), for both sexes combined (infant deaths per 1,000 live births)\",measure,\n",
      "q5,\"Under-five mortality, 5q0, for both sexes combined (deaths under age five per 1,000 live births)\",measure,\n",
      "cdr,\"Crude death rate (deaths per 1,000 population)\",measure,\n",
      "deaths,\"Number of deaths, both sexes combined (thousands)\",measure,\n",
      "cnmr,\"Net migration rate (per 1,000 population)\",measure,\n",
      "netmigrations,\"Net number of migrants, both sexes combined (thousands)\",measure,\n",
      "growthrate,Average annual rate of population change (percentage),measure,\n",
      "natincr,\"Rate of natural increase (per 1,000 population)\",measure,\n",
      "srb,Sex ratio at birth (male births per female births),measure,\n",
      "mac,Female mean age of childbearing (years),measure,\n",
      "\n"
     ]
    }
   ],
   "source": [
    "c = pd.DataFrame.from_dict(pi_concepts, orient='index')\n",
    "c.index = c.index.map(to_concept_id)\n",
    "c['concept_type'] = 'measure'\n",
    "c['domain'] = ''\n",
    "\n",
    "print(c.to_csv())"
   ]
  },
  {
   "cell_type": "code",
   "execution_count": null,
   "metadata": {
    "autoscroll": false,
    "collapsed": false,
    "ein.hycell": false,
    "ein.tags": "worksheet-0",
    "slideshow": {
     "slide_type": "-"
    }
   },
   "outputs": [],
   "source": []
  },
  {
   "cell_type": "code",
   "execution_count": null,
   "metadata": {
    "autoscroll": false,
    "collapsed": false,
    "ein.hycell": false,
    "ein.tags": "worksheet-0",
    "slideshow": {
     "slide_type": "-"
    }
   },
   "outputs": [],
   "source": []
  },
  {
   "cell_type": "code",
   "execution_count": 48,
   "metadata": {
    "autoscroll": false,
    "collapsed": false,
    "ein.hycell": false,
    "ein.tags": "worksheet-0",
    "slideshow": {
     "slide_type": "-"
    }
   },
   "outputs": [
    {
     "data": {
      "text/plain": [
       "array([2])"
      ]
     },
     "execution_count": 48,
     "metadata": {},
     "output_type": "execute_result"
    }
   ],
   "source": [
    "peroidInd['VarID'].unique()"
   ]
  },
  {
   "cell_type": "code",
   "execution_count": 49,
   "metadata": {
    "autoscroll": false,
    "collapsed": false,
    "ein.hycell": false,
    "ein.tags": "worksheet-0",
    "slideshow": {
     "slide_type": "-"
    }
   },
   "outputs": [
    {
     "data": {
      "text/plain": [
       "array([1953, 1958, 1963, 1968, 1973, 1978, 1983, 1988, 1993, 1998, 2003,\n",
       "       2008, 2013, 2018, 2023, 2028, 2033, 2038, 2043, 2048, 2053, 2058,\n",
       "       2063, 2068, 2073, 2078, 2083, 2088, 2093, 2098])"
      ]
     },
     "execution_count": 49,
     "metadata": {},
     "output_type": "execute_result"
    }
   ],
   "source": [
    "peroidInd['MidPeriod'].unique()"
   ]
  },
  {
   "cell_type": "code",
   "execution_count": 15,
   "metadata": {
    "autoscroll": false,
    "collapsed": false,
    "ein.hycell": false,
    "ein.tags": "worksheet-0",
    "slideshow": {
     "slide_type": "-"
    }
   },
   "outputs": [],
   "source": [
    "peroidInd_cty = peroidInd[peroidInd['LocID'].isin(countries.country)].drop(['Location', 'VarID', 'Variant', 'MidPeriod'], axis=1).copy()"
   ]
  },
  {
   "cell_type": "code",
   "execution_count": 16,
   "metadata": {
    "autoscroll": false,
    "collapsed": false,
    "ein.hycell": false,
    "ein.tags": "worksheet-0",
    "slideshow": {
     "slide_type": "-"
    }
   },
   "outputs": [],
   "source": [
    "peroidInd_cty['time'] = peroidInd_cty['Time'].map(lambda x: x.split('-')[0])"
   ]
  },
  {
   "cell_type": "code",
   "execution_count": 17,
   "metadata": {
    "autoscroll": false,
    "collapsed": false,
    "ein.hycell": false,
    "ein.tags": "worksheet-0",
    "slideshow": {
     "slide_type": "-"
    }
   },
   "outputs": [],
   "source": [
    "peroidInd_cty = peroidInd_cty.drop('Time', axis=1).set_index(['LocID', 'time'])"
   ]
  },
  {
   "cell_type": "code",
   "execution_count": 59,
   "metadata": {
    "autoscroll": false,
    "collapsed": false,
    "ein.hycell": false,
    "ein.tags": "worksheet-0",
    "slideshow": {
     "slide_type": "-"
    }
   },
   "outputs": [
    {
     "data": {
      "text/html": [
       "<div>\n",
       "<style scoped>\n",
       "    .dataframe tbody tr th:only-of-type {\n",
       "        vertical-align: middle;\n",
       "    }\n",
       "\n",
       "    .dataframe tbody tr th {\n",
       "        vertical-align: top;\n",
       "    }\n",
       "\n",
       "    .dataframe thead th {\n",
       "        text-align: right;\n",
       "    }\n",
       "</style>\n",
       "<table border=\"1\" class=\"dataframe\">\n",
       "  <thead>\n",
       "    <tr style=\"text-align: right;\">\n",
       "      <th></th>\n",
       "      <th></th>\n",
       "      <th>TFR</th>\n",
       "      <th>NRR</th>\n",
       "      <th>CBR</th>\n",
       "      <th>Births</th>\n",
       "      <th>LEx</th>\n",
       "      <th>LExMale</th>\n",
       "      <th>LExFemale</th>\n",
       "      <th>IMR</th>\n",
       "      <th>Q5</th>\n",
       "      <th>CDR</th>\n",
       "      <th>Deaths</th>\n",
       "      <th>DeathsMale</th>\n",
       "      <th>DeathsFemale</th>\n",
       "      <th>CNMR</th>\n",
       "      <th>NetMigrations</th>\n",
       "      <th>GrowthRate</th>\n",
       "      <th>NatIncr</th>\n",
       "      <th>SRB</th>\n",
       "      <th>MAC</th>\n",
       "    </tr>\n",
       "    <tr>\n",
       "      <th>LocID</th>\n",
       "      <th>time</th>\n",
       "      <th></th>\n",
       "      <th></th>\n",
       "      <th></th>\n",
       "      <th></th>\n",
       "      <th></th>\n",
       "      <th></th>\n",
       "      <th></th>\n",
       "      <th></th>\n",
       "      <th></th>\n",
       "      <th></th>\n",
       "      <th></th>\n",
       "      <th></th>\n",
       "      <th></th>\n",
       "      <th></th>\n",
       "      <th></th>\n",
       "      <th></th>\n",
       "      <th></th>\n",
       "      <th></th>\n",
       "      <th></th>\n",
       "    </tr>\n",
       "  </thead>\n",
       "  <tbody>\n",
       "    <tr>\n",
       "      <th rowspan=\"5\" valign=\"top\">4</th>\n",
       "      <th>1950</th>\n",
       "      <td>7.45</td>\n",
       "      <td>1.636</td>\n",
       "      <td>50.314</td>\n",
       "      <td>2015.476</td>\n",
       "      <td>28.61</td>\n",
       "      <td>27.94</td>\n",
       "      <td>29.43</td>\n",
       "      <td>275.866</td>\n",
       "      <td>405.090</td>\n",
       "      <td>36.862</td>\n",
       "      <td>1476.605</td>\n",
       "      <td>794.020</td>\n",
       "      <td>682.585</td>\n",
       "      <td>-0.499</td>\n",
       "      <td>-20.0</td>\n",
       "      <td>1.296</td>\n",
       "      <td>13.452</td>\n",
       "      <td>1.06</td>\n",
       "      <td>29.835</td>\n",
       "    </tr>\n",
       "    <tr>\n",
       "      <th>1955</th>\n",
       "      <td>7.45</td>\n",
       "      <td>1.765</td>\n",
       "      <td>50.998</td>\n",
       "      <td>2201.589</td>\n",
       "      <td>31.13</td>\n",
       "      <td>30.43</td>\n",
       "      <td>31.97</td>\n",
       "      <td>253.647</td>\n",
       "      <td>374.138</td>\n",
       "      <td>33.718</td>\n",
       "      <td>1455.605</td>\n",
       "      <td>783.110</td>\n",
       "      <td>672.495</td>\n",
       "      <td>-0.463</td>\n",
       "      <td>-20.0</td>\n",
       "      <td>1.683</td>\n",
       "      <td>17.280</td>\n",
       "      <td>1.06</td>\n",
       "      <td>29.835</td>\n",
       "    </tr>\n",
       "    <tr>\n",
       "      <th>1960</th>\n",
       "      <td>7.45</td>\n",
       "      <td>1.899</td>\n",
       "      <td>51.477</td>\n",
       "      <td>2439.130</td>\n",
       "      <td>33.74</td>\n",
       "      <td>32.99</td>\n",
       "      <td>34.64</td>\n",
       "      <td>230.194</td>\n",
       "      <td>341.957</td>\n",
       "      <td>30.808</td>\n",
       "      <td>1459.784</td>\n",
       "      <td>777.437</td>\n",
       "      <td>682.347</td>\n",
       "      <td>-0.422</td>\n",
       "      <td>-20.0</td>\n",
       "      <td>2.026</td>\n",
       "      <td>20.669</td>\n",
       "      <td>1.06</td>\n",
       "      <td>29.835</td>\n",
       "    </tr>\n",
       "    <tr>\n",
       "      <th>1965</th>\n",
       "      <td>7.45</td>\n",
       "      <td>2.017</td>\n",
       "      <td>51.646</td>\n",
       "      <td>2728.221</td>\n",
       "      <td>36.15</td>\n",
       "      <td>35.37</td>\n",
       "      <td>37.06</td>\n",
       "      <td>211.072</td>\n",
       "      <td>314.708</td>\n",
       "      <td>28.223</td>\n",
       "      <td>1490.896</td>\n",
       "      <td>790.745</td>\n",
       "      <td>700.151</td>\n",
       "      <td>-0.379</td>\n",
       "      <td>-20.0</td>\n",
       "      <td>2.307</td>\n",
       "      <td>23.423</td>\n",
       "      <td>1.06</td>\n",
       "      <td>29.835</td>\n",
       "    </tr>\n",
       "    <tr>\n",
       "      <th>1970</th>\n",
       "      <td>7.45</td>\n",
       "      <td>2.141</td>\n",
       "      <td>51.234</td>\n",
       "      <td>3056.451</td>\n",
       "      <td>38.74</td>\n",
       "      <td>37.92</td>\n",
       "      <td>39.67</td>\n",
       "      <td>191.642</td>\n",
       "      <td>286.630</td>\n",
       "      <td>25.495</td>\n",
       "      <td>1520.938</td>\n",
       "      <td>802.414</td>\n",
       "      <td>718.524</td>\n",
       "      <td>-0.335</td>\n",
       "      <td>-20.0</td>\n",
       "      <td>2.544</td>\n",
       "      <td>25.739</td>\n",
       "      <td>1.06</td>\n",
       "      <td>29.835</td>\n",
       "    </tr>\n",
       "  </tbody>\n",
       "</table>\n",
       "</div>"
      ],
      "text/plain": [
       "             TFR    NRR     CBR    Births    LEx  LExMale  LExFemale      IMR  \\\n",
       "LocID time                                                                      \n",
       "4     1950  7.45  1.636  50.314  2015.476  28.61    27.94      29.43  275.866   \n",
       "      1955  7.45  1.765  50.998  2201.589  31.13    30.43      31.97  253.647   \n",
       "      1960  7.45  1.899  51.477  2439.130  33.74    32.99      34.64  230.194   \n",
       "      1965  7.45  2.017  51.646  2728.221  36.15    35.37      37.06  211.072   \n",
       "      1970  7.45  2.141  51.234  3056.451  38.74    37.92      39.67  191.642   \n",
       "\n",
       "                 Q5     CDR    Deaths  DeathsMale  DeathsFemale   CNMR  \\\n",
       "LocID time                                                               \n",
       "4     1950  405.090  36.862  1476.605     794.020       682.585 -0.499   \n",
       "      1955  374.138  33.718  1455.605     783.110       672.495 -0.463   \n",
       "      1960  341.957  30.808  1459.784     777.437       682.347 -0.422   \n",
       "      1965  314.708  28.223  1490.896     790.745       700.151 -0.379   \n",
       "      1970  286.630  25.495  1520.938     802.414       718.524 -0.335   \n",
       "\n",
       "            NetMigrations  GrowthRate  NatIncr   SRB     MAC  \n",
       "LocID time                                                    \n",
       "4     1950          -20.0       1.296   13.452  1.06  29.835  \n",
       "      1955          -20.0       1.683   17.280  1.06  29.835  \n",
       "      1960          -20.0       2.026   20.669  1.06  29.835  \n",
       "      1965          -20.0       2.307   23.423  1.06  29.835  \n",
       "      1970          -20.0       2.544   25.739  1.06  29.835  "
      ]
     },
     "execution_count": 59,
     "metadata": {},
     "output_type": "execute_result"
    }
   ],
   "source": [
    "peroidInd_cty.head()"
   ]
  },
  {
   "cell_type": "code",
   "execution_count": 18,
   "metadata": {
    "autoscroll": false,
    "collapsed": false,
    "ein.hycell": false,
    "ein.tags": "worksheet-0",
    "slideshow": {
     "slide_type": "-"
    }
   },
   "outputs": [],
   "source": [
    "peroidInd_cty.index.names = ['country', 'time']"
   ]
  },
  {
   "cell_type": "code",
   "execution_count": 87,
   "metadata": {
    "autoscroll": false,
    "collapsed": false,
    "ein.hycell": false,
    "ein.tags": "worksheet-0",
    "slideshow": {
     "slide_type": "-"
    }
   },
   "outputs": [],
   "source": [
    "deaths_sex = peroidInd_cty[['DeathsMale', 'DeathsFemale']].copy()"
   ]
  },
  {
   "cell_type": "code",
   "execution_count": 88,
   "metadata": {
    "autoscroll": false,
    "collapsed": false,
    "ein.hycell": false,
    "ein.tags": "worksheet-0",
    "slideshow": {
     "slide_type": "-"
    }
   },
   "outputs": [],
   "source": [
    "deaths_sex_dp = []\n",
    "\n",
    "m = deaths_sex[['DeathsMale']].copy()\n",
    "m.columns = ['deaths']\n",
    "m['gender'] = 'male'\n",
    "m['freq'] = '5yearly'\n",
    "m = m.set_index(['gender', 'freq'], append=True)\n",
    "\n",
    "f = deaths_sex[['DeathsFemale']].copy()\n",
    "f.columns = ['deaths']\n",
    "f['gender'] = 'female'\n",
    "f['freq'] = '5yearly'\n",
    "f = f.set_index(['gender', 'freq'], append=True)\n",
    "\n",
    "deaths_sex_dp.append(m)\n",
    "deaths_sex_dp.append(f)"
   ]
  },
  {
   "cell_type": "code",
   "execution_count": 89,
   "metadata": {
    "autoscroll": false,
    "collapsed": false,
    "ein.hycell": false,
    "ein.tags": "worksheet-0",
    "slideshow": {
     "slide_type": "-"
    }
   },
   "outputs": [],
   "source": [
    "deaths_sex_dp = pd.concat(deaths_sex_dp, sort=False).dropna()"
   ]
  },
  {
   "cell_type": "code",
   "execution_count": 90,
   "metadata": {
    "autoscroll": false,
    "collapsed": false,
    "ein.hycell": false,
    "ein.tags": "worksheet-0",
    "slideshow": {
     "slide_type": "-"
    }
   },
   "outputs": [],
   "source": [
    "deaths_sex_dp.to_csv('../../deaths--by--country--time--gender--freq/ddf--datapoints--deaths--by--country--time--gender--freq.csv')"
   ]
  },
  {
   "cell_type": "code",
   "execution_count": 77,
   "metadata": {
    "autoscroll": false,
    "collapsed": false,
    "ein.hycell": false,
    "ein.tags": "worksheet-0",
    "slideshow": {
     "slide_type": "-"
    }
   },
   "outputs": [],
   "source": [
    "deaths_sex = peroidInd_cty[['LExMale', 'LExFemale']].copy()"
   ]
  },
  {
   "cell_type": "code",
   "execution_count": 83,
   "metadata": {
    "autoscroll": false,
    "collapsed": false,
    "ein.hycell": false,
    "ein.tags": "worksheet-0",
    "slideshow": {
     "slide_type": "-"
    }
   },
   "outputs": [],
   "source": [
    "deaths_sex_dp = []\n",
    "\n",
    "m = deaths_sex[['LExMale']].copy()\n",
    "m.columns = ['lex']\n",
    "m['gender'] = 'male'\n",
    "m['freq'] = '5yearly'\n",
    "m = m.set_index(['gender', 'freq'], append=True)\n",
    "\n",
    "f = deaths_sex[['LExFemale']].copy()\n",
    "f.columns = ['lex']\n",
    "f['gender'] = 'female'\n",
    "f['freq'] = '5yearly'\n",
    "f = f.set_index(['gender', 'freq'], append=True)\n",
    "\n",
    "deaths_sex_dp.append(m)\n",
    "deaths_sex_dp.append(f)\n"
   ]
  },
  {
   "cell_type": "code",
   "execution_count": 84,
   "metadata": {
    "autoscroll": false,
    "collapsed": false,
    "ein.hycell": false,
    "ein.tags": "worksheet-0",
    "slideshow": {
     "slide_type": "-"
    }
   },
   "outputs": [],
   "source": [
    "deaths_sex_dp = pd.concat(deaths_sex_dp, sort=False).dropna()"
   ]
  },
  {
   "cell_type": "code",
   "execution_count": 85,
   "metadata": {
    "autoscroll": false,
    "collapsed": false,
    "ein.hycell": false,
    "ein.tags": "worksheet-0",
    "slideshow": {
     "slide_type": "-"
    }
   },
   "outputs": [
    {
     "data": {
      "text/plain": [
       "(12060, 1)"
      ]
     },
     "execution_count": 85,
     "metadata": {},
     "output_type": "execute_result"
    }
   ],
   "source": [
    "deaths_sex_dp.shape"
   ]
  },
  {
   "cell_type": "code",
   "execution_count": 80,
   "metadata": {
    "autoscroll": false,
    "collapsed": false,
    "ein.hycell": false,
    "ein.tags": "worksheet-0",
    "slideshow": {
     "slide_type": "-"
    }
   },
   "outputs": [],
   "source": [
    "!mkdir ../../lex--by--country--time--gender--freq"
   ]
  },
  {
   "cell_type": "code",
   "execution_count": 86,
   "metadata": {
    "autoscroll": false,
    "collapsed": false,
    "ein.hycell": false,
    "ein.tags": "worksheet-0",
    "slideshow": {
     "slide_type": "-"
    }
   },
   "outputs": [],
   "source": [
    "deaths_sex_dp.to_csv('../../lex--by--country--time--gender--freq/ddf--datapoints--lex--by--country--time--gender--freq.csv')"
   ]
  },
  {
   "cell_type": "code",
   "execution_count": 19,
   "metadata": {
    "autoscroll": false,
    "collapsed": false,
    "ein.hycell": false,
    "ein.tags": "worksheet-0",
    "slideshow": {
     "slide_type": "-"
    }
   },
   "outputs": [],
   "source": [
    "# other period indicators\n",
    "peroidInd_cty_2 = peroidInd_cty.drop(['DeathsMale', 'DeathsFemale', 'LExMale', 'LExFemale'], axis=1)"
   ]
  },
  {
   "cell_type": "code",
   "execution_count": 20,
   "metadata": {
    "autoscroll": false,
    "collapsed": false,
    "ein.hycell": false,
    "ein.tags": "worksheet-0",
    "slideshow": {
     "slide_type": "-"
    }
   },
   "outputs": [],
   "source": [
    "import os\n",
    "\n",
    "def create_dir(c, by):\n",
    "    p = '../../{}--by--{}'.format(c, '--'.join(by))\n",
    "    os.makedirs(p, exist_ok=True)\n",
    "    return p"
   ]
  },
  {
   "cell_type": "code",
   "execution_count": 22,
   "metadata": {
    "autoscroll": false,
    "collapsed": false,
    "ein.hycell": false,
    "ein.tags": "worksheet-0",
    "slideshow": {
     "slide_type": "-"
    }
   },
   "outputs": [],
   "source": [
    "for c in peroidInd_cty_2:\n",
    "    c_ = to_concept_id(c)\n",
    "    p = create_dir(c_, ['country', 'time', 'freq'])\n",
    "    df = peroidInd_cty_2[[c]]\n",
    "    df.columns = [c_]\n",
    "    df = df.dropna()\n",
    "    df['freq'] = '5yearly'\n",
    "    df = df.set_index('freq', append=True)\n",
    "    df.to_csv(os.path.join(p, 'ddf--datapoints--{}--by--{}.csv'.format(c_, '--'.join(['country', 'time', 'freq']))))"
   ]
  },
  {
   "cell_type": "code",
   "execution_count": 24,
   "metadata": {
    "autoscroll": false,
    "collapsed": false,
    "ein.hycell": false,
    "ein.tags": "worksheet-0",
    "slideshow": {
     "slide_type": "-"
    }
   },
   "outputs": [],
   "source": [
    "mort = pd.read_csv('../source/csv/WPP2019_LifeTable.csv', encoding='latin1')"
   ]
  },
  {
   "cell_type": "code",
   "execution_count": 25,
   "metadata": {
    "autoscroll": false,
    "collapsed": false,
    "ein.hycell": false,
    "ein.tags": "worksheet-0",
    "slideshow": {
     "slide_type": "-"
    }
   },
   "outputs": [
    {
     "data": {
      "text/html": [
       "<div>\n",
       "<style scoped>\n",
       "    .dataframe tbody tr th:only-of-type {\n",
       "        vertical-align: middle;\n",
       "    }\n",
       "\n",
       "    .dataframe tbody tr th {\n",
       "        vertical-align: top;\n",
       "    }\n",
       "\n",
       "    .dataframe thead th {\n",
       "        text-align: right;\n",
       "    }\n",
       "</style>\n",
       "<table border=\"1\" class=\"dataframe\">\n",
       "  <thead>\n",
       "    <tr style=\"text-align: right;\">\n",
       "      <th></th>\n",
       "      <th>LocID</th>\n",
       "      <th>Location</th>\n",
       "      <th>VarID</th>\n",
       "      <th>Variant</th>\n",
       "      <th>Time</th>\n",
       "      <th>MidPeriod</th>\n",
       "      <th>SexID</th>\n",
       "      <th>Sex</th>\n",
       "      <th>AgeGrp</th>\n",
       "      <th>AgeGrpStart</th>\n",
       "      <th>...</th>\n",
       "      <th>mx</th>\n",
       "      <th>qx</th>\n",
       "      <th>px</th>\n",
       "      <th>lx</th>\n",
       "      <th>dx</th>\n",
       "      <th>Lx</th>\n",
       "      <th>Sx</th>\n",
       "      <th>Tx</th>\n",
       "      <th>ex</th>\n",
       "      <th>ax</th>\n",
       "    </tr>\n",
       "  </thead>\n",
       "  <tbody>\n",
       "    <tr>\n",
       "      <th>0</th>\n",
       "      <td>4</td>\n",
       "      <td>Afghanistan</td>\n",
       "      <td>2</td>\n",
       "      <td>Medium</td>\n",
       "      <td>1950-1955</td>\n",
       "      <td>1953</td>\n",
       "      <td>1</td>\n",
       "      <td>Male</td>\n",
       "      <td>0</td>\n",
       "      <td>0</td>\n",
       "      <td>...</td>\n",
       "      <td>0.363600</td>\n",
       "      <td>0.292374</td>\n",
       "      <td>0.707626</td>\n",
       "      <td>100000.0</td>\n",
       "      <td>29237</td>\n",
       "      <td>80411</td>\n",
       "      <td>0.661270</td>\n",
       "      <td>2793722.0</td>\n",
       "      <td>27.937</td>\n",
       "      <td>0.330000</td>\n",
       "    </tr>\n",
       "    <tr>\n",
       "      <th>1</th>\n",
       "      <td>4</td>\n",
       "      <td>Afghanistan</td>\n",
       "      <td>2</td>\n",
       "      <td>Medium</td>\n",
       "      <td>1950-1955</td>\n",
       "      <td>1953</td>\n",
       "      <td>1</td>\n",
       "      <td>Male</td>\n",
       "      <td>1-4</td>\n",
       "      <td>1</td>\n",
       "      <td>...</td>\n",
       "      <td>0.049542</td>\n",
       "      <td>0.175186</td>\n",
       "      <td>0.824814</td>\n",
       "      <td>70763.0</td>\n",
       "      <td>12397</td>\n",
       "      <td>250224</td>\n",
       "      <td>0.858630</td>\n",
       "      <td>2713311.0</td>\n",
       "      <td>38.344</td>\n",
       "      <td>1.352000</td>\n",
       "    </tr>\n",
       "    <tr>\n",
       "      <th>2</th>\n",
       "      <td>4</td>\n",
       "      <td>Afghanistan</td>\n",
       "      <td>2</td>\n",
       "      <td>Medium</td>\n",
       "      <td>1950-1955</td>\n",
       "      <td>1953</td>\n",
       "      <td>1</td>\n",
       "      <td>Male</td>\n",
       "      <td>5-9</td>\n",
       "      <td>5</td>\n",
       "      <td>...</td>\n",
       "      <td>0.009532</td>\n",
       "      <td>0.046362</td>\n",
       "      <td>0.953638</td>\n",
       "      <td>58366.0</td>\n",
       "      <td>2706</td>\n",
       "      <td>283893</td>\n",
       "      <td>0.963771</td>\n",
       "      <td>2463087.0</td>\n",
       "      <td>42.201</td>\n",
       "      <td>2.066877</td>\n",
       "    </tr>\n",
       "    <tr>\n",
       "      <th>3</th>\n",
       "      <td>4</td>\n",
       "      <td>Afghanistan</td>\n",
       "      <td>2</td>\n",
       "      <td>Medium</td>\n",
       "      <td>1950-1955</td>\n",
       "      <td>1953</td>\n",
       "      <td>1</td>\n",
       "      <td>Male</td>\n",
       "      <td>10-14</td>\n",
       "      <td>10</td>\n",
       "      <td>...</td>\n",
       "      <td>0.006807</td>\n",
       "      <td>0.033460</td>\n",
       "      <td>0.966540</td>\n",
       "      <td>55660.0</td>\n",
       "      <td>1862</td>\n",
       "      <td>273608</td>\n",
       "      <td>0.961842</td>\n",
       "      <td>2179194.0</td>\n",
       "      <td>39.152</td>\n",
       "      <td>2.480526</td>\n",
       "    </tr>\n",
       "    <tr>\n",
       "      <th>4</th>\n",
       "      <td>4</td>\n",
       "      <td>Afghanistan</td>\n",
       "      <td>2</td>\n",
       "      <td>Medium</td>\n",
       "      <td>1950-1955</td>\n",
       "      <td>1953</td>\n",
       "      <td>1</td>\n",
       "      <td>Male</td>\n",
       "      <td>15-19</td>\n",
       "      <td>15</td>\n",
       "      <td>...</td>\n",
       "      <td>0.009295</td>\n",
       "      <td>0.045470</td>\n",
       "      <td>0.954530</td>\n",
       "      <td>53798.0</td>\n",
       "      <td>2446</td>\n",
       "      <td>263168</td>\n",
       "      <td>0.945028</td>\n",
       "      <td>1905586.0</td>\n",
       "      <td>35.421</td>\n",
       "      <td>2.620526</td>\n",
       "    </tr>\n",
       "  </tbody>\n",
       "</table>\n",
       "<p>5 rows × 21 columns</p>\n",
       "</div>"
      ],
      "text/plain": [
       "   LocID     Location  VarID Variant       Time  MidPeriod  SexID   Sex  \\\n",
       "0      4  Afghanistan      2  Medium  1950-1955       1953      1  Male   \n",
       "1      4  Afghanistan      2  Medium  1950-1955       1953      1  Male   \n",
       "2      4  Afghanistan      2  Medium  1950-1955       1953      1  Male   \n",
       "3      4  Afghanistan      2  Medium  1950-1955       1953      1  Male   \n",
       "4      4  Afghanistan      2  Medium  1950-1955       1953      1  Male   \n",
       "\n",
       "  AgeGrp  AgeGrpStart  ...        mx        qx        px        lx     dx  \\\n",
       "0      0            0  ...  0.363600  0.292374  0.707626  100000.0  29237   \n",
       "1    1-4            1  ...  0.049542  0.175186  0.824814   70763.0  12397   \n",
       "2    5-9            5  ...  0.009532  0.046362  0.953638   58366.0   2706   \n",
       "3  10-14           10  ...  0.006807  0.033460  0.966540   55660.0   1862   \n",
       "4  15-19           15  ...  0.009295  0.045470  0.954530   53798.0   2446   \n",
       "\n",
       "       Lx        Sx         Tx      ex        ax  \n",
       "0   80411  0.661270  2793722.0  27.937  0.330000  \n",
       "1  250224  0.858630  2713311.0  38.344  1.352000  \n",
       "2  283893  0.963771  2463087.0  42.201  2.066877  \n",
       "3  273608  0.961842  2179194.0  39.152  2.480526  \n",
       "4  263168  0.945028  1905586.0  35.421  2.620526  \n",
       "\n",
       "[5 rows x 21 columns]"
      ]
     },
     "execution_count": 25,
     "metadata": {},
     "output_type": "execute_result"
    }
   ],
   "source": [
    "mort.head()"
   ]
  },
  {
   "cell_type": "code",
   "execution_count": 26,
   "metadata": {
    "autoscroll": false,
    "collapsed": false,
    "ein.hycell": false,
    "ein.tags": "worksheet-0",
    "slideshow": {
     "slide_type": "-"
    }
   },
   "outputs": [
    {
     "data": {
      "text/plain": [
       "Index(['LocID', 'Location', 'VarID', 'Variant', 'Time', 'MidPeriod', 'SexID',\n",
       "       'Sex', 'AgeGrp', 'AgeGrpStart', 'AgeGrpSpan', 'mx', 'qx', 'px', 'lx',\n",
       "       'dx', 'Lx', 'Sx', 'Tx', 'ex', 'ax'],\n",
       "      dtype='object')"
      ]
     },
     "execution_count": 26,
     "metadata": {},
     "output_type": "execute_result"
    }
   ],
   "source": [
    "mort.columns"
   ]
  },
  {
   "cell_type": "code",
   "execution_count": 27,
   "metadata": {
    "autoscroll": false,
    "collapsed": false,
    "ein.hycell": false,
    "ein.tags": "worksheet-0",
    "slideshow": {
     "slide_type": "-"
    }
   },
   "outputs": [
    {
     "data": {
      "text/plain": [
       "array(['0', '1-4', '5-9', '10-14', '15-19', '20-24', '25-29', '30-34',\n",
       "       '35-39', '40-44', '45-49', '50-54', '55-59', '60-64', '65-69',\n",
       "       '70-74', '75-79', '80-84', '85-89', '90-94', '95-99', '100+'],\n",
       "      dtype=object)"
      ]
     },
     "execution_count": 27,
     "metadata": {},
     "output_type": "execute_result"
    }
   ],
   "source": [
    "mort['AgeGrp'].unique()"
   ]
  },
  {
   "cell_type": "code",
   "execution_count": 28,
   "metadata": {
    "autoscroll": false,
    "collapsed": false,
    "ein.hycell": false,
    "ein.tags": "worksheet-0",
    "slideshow": {
     "slide_type": "-"
    }
   },
   "outputs": [],
   "source": [
    "age5 = mort[['AgeGrp']].drop_duplicates()"
   ]
  },
  {
   "cell_type": "code",
   "execution_count": 29,
   "metadata": {
    "autoscroll": false,
    "collapsed": false,
    "ein.hycell": false,
    "ein.tags": "worksheet-0",
    "slideshow": {
     "slide_type": "-"
    }
   },
   "outputs": [],
   "source": [
    "age5.columns = ['name']\n",
    "age5['age5yearinterval'] = age5['name'].map(to_concept_id)"
   ]
  },
  {
   "cell_type": "code",
   "execution_count": 30,
   "metadata": {
    "autoscroll": false,
    "collapsed": false,
    "ein.hycell": false,
    "ein.tags": "worksheet-0",
    "slideshow": {
     "slide_type": "-"
    }
   },
   "outputs": [],
   "source": [
    "age5[['age5yearinterval', 'name']].to_csv('../../ddf--entities--age5yearinterval.csv', index=False)"
   ]
  },
  {
   "cell_type": "code",
   "execution_count": 31,
   "metadata": {
    "autoscroll": false,
    "collapsed": false,
    "ein.hycell": false,
    "ein.tags": "worksheet-0",
    "slideshow": {
     "slide_type": "-"
    }
   },
   "outputs": [],
   "source": [
    "mort_concepts = {\n",
    "    \"mx\": \"Central death rate, nmx, for the age interval (x, x+n)\",\n",
    "    \"qx\": \"Probability of dying (nqx), for an individual between age x and x+n\",\n",
    "    \"px\": \"Probability of surviving, (npx), for an individual of age x to age x+n\",\n",
    "    \"lx\": \"Number of survivors, (lx), at age (x) for 100000 births\",\n",
    "    \"dx\": \"Number of deaths, (ndx), between ages x and x+n\",\n",
    "    \"Lx\": \"Number of person-years lived, (nLx), between ages x and x+n\",\n",
    "    \"Sx\": \"Survival ratio (nSx) corresponding to proportion of the life table population in age group (x, x+n) who are alive n year later\",\n",
    "    \"Tx\": \"Person-years lived, (Tx), above age x\",\n",
    "    \"ex\": \"Expectation of life (ex) at age x, i.e., average number of years lived subsequent to age x by those reaching age x\",\n",
    "    \"ax\": \"Average number of years lived (nax) between ages x and x+n by those dying in the interval\"\n",
    "}"
   ]
  },
  {
   "cell_type": "code",
   "execution_count": 33,
   "metadata": {
    "autoscroll": false,
    "collapsed": false,
    "ein.hycell": false,
    "ein.tags": "worksheet-0",
    "slideshow": {
     "slide_type": "-"
    }
   },
   "outputs": [],
   "source": [
    "mort_concepts_rename = {\n",
    "    \"mx\": \"Central death rate\",\n",
    "    \"qx\": \"Probability of dying\",\n",
    "    \"px\": \"Probability of surviving\",\n",
    "    \"lx\": \"Number of survivors\",\n",
    "    \"dx\": \"Number of deaths\",\n",
    "    \"Lx\": \"Number of person-years lived\",\n",
    "    \"Sx\": \"Survival ratio\",\n",
    "    \"Tx\": \"Person-years lived\",\n",
    "    \"ex\": \"Expectation of life\",\n",
    "    \"ax\": \"Average number of years lived\"\n",
    "}\n",
    "\n",
    "mort_concepts_rename = dict([(k, to_concept_id(v)) for k, v in mort_concepts_rename.items()])"
   ]
  },
  {
   "cell_type": "code",
   "execution_count": 34,
   "metadata": {
    "autoscroll": false,
    "collapsed": false,
    "ein.hycell": false,
    "ein.tags": "worksheet-0",
    "slideshow": {
     "slide_type": "-"
    }
   },
   "outputs": [
    {
     "data": {
      "text/plain": [
       "{'mx': 'central_death_rate',\n",
       " 'qx': 'probability_of_dying',\n",
       " 'px': 'probability_of_surviving',\n",
       " 'lx': 'number_of_survivors',\n",
       " 'dx': 'number_of_deaths',\n",
       " 'Lx': 'number_of_person_years_lived',\n",
       " 'Sx': 'survival_ratio',\n",
       " 'Tx': 'person_years_lived',\n",
       " 'ex': 'expectation_of_life',\n",
       " 'ax': 'average_number_of_years_lived'}"
      ]
     },
     "execution_count": 34,
     "metadata": {},
     "output_type": "execute_result"
    }
   ],
   "source": [
    "mort_concepts_rename"
   ]
  },
  {
   "cell_type": "code",
   "execution_count": 35,
   "metadata": {
    "autoscroll": false,
    "collapsed": false,
    "ein.hycell": false,
    "ein.tags": "worksheet-0",
    "slideshow": {
     "slide_type": "-"
    }
   },
   "outputs": [],
   "source": [
    "mort_concepts = dict([(mort_concepts_rename[k], v) for k, v in mort_concepts.items()])"
   ]
  },
  {
   "cell_type": "code",
   "execution_count": 36,
   "metadata": {
    "autoscroll": false,
    "collapsed": false,
    "ein.hycell": false,
    "ein.tags": "worksheet-0",
    "slideshow": {
     "slide_type": "-"
    }
   },
   "outputs": [
    {
     "data": {
      "text/plain": [
       "{'central_death_rate': 'Central death rate, nmx, for the age interval (x, x+n)',\n",
       " 'probability_of_dying': 'Probability of dying (nqx), for an individual between age x and x+n',\n",
       " 'probability_of_surviving': 'Probability of surviving, (npx), for an individual of age x to age x+n',\n",
       " 'number_of_survivors': 'Number of survivors, (lx), at age (x) for 100000 births',\n",
       " 'number_of_deaths': 'Number of deaths, (ndx), between ages x and x+n',\n",
       " 'number_of_person_years_lived': 'Number of person-years lived, (nLx), between ages x and x+n',\n",
       " 'survival_ratio': 'Survival ratio (nSx) corresponding to proportion of the life table population in age group (x, x+n) who are alive n year later',\n",
       " 'person_years_lived': 'Person-years lived, (Tx), above age x',\n",
       " 'expectation_of_life': 'Expectation of life (ex) at age x, i.e., average number of years lived subsequent to age x by those reaching age x',\n",
       " 'average_number_of_years_lived': 'Average number of years lived (nax) between ages x and x+n by those dying in the interval'}"
      ]
     },
     "execution_count": 36,
     "metadata": {},
     "output_type": "execute_result"
    }
   ],
   "source": [
    "mort_concepts"
   ]
  },
  {
   "cell_type": "code",
   "execution_count": 37,
   "metadata": {
    "autoscroll": false,
    "collapsed": false,
    "ein.hycell": false,
    "ein.tags": "worksheet-0",
    "slideshow": {
     "slide_type": "-"
    }
   },
   "outputs": [
    {
     "name": "stdout",
     "output_type": "stream",
     "text": [
      ",0,concept_type,domain\n",
      "central_death_rate,\"Central death rate, nmx, for the age interval (x, x+n)\",measure,\n",
      "probability_of_dying,\"Probability of dying (nqx), for an individual between age x and x+n\",measure,\n",
      "probability_of_surviving,\"Probability of surviving, (npx), for an individual of age x to age x+n\",measure,\n",
      "number_of_survivors,\"Number of survivors, (lx), at age (x) for 100000 births\",measure,\n",
      "number_of_deaths,\"Number of deaths, (ndx), between ages x and x+n\",measure,\n",
      "number_of_person_years_lived,\"Number of person-years lived, (nLx), between ages x and x+n\",measure,\n",
      "survival_ratio,\"Survival ratio (nSx) corresponding to proportion of the life table population in age group (x, x+n) who are alive n year later\",measure,\n",
      "person_years_lived,\"Person-years lived, (Tx), above age x\",measure,\n",
      "expectation_of_life,\"Expectation of life (ex) at age x, i.e., average number of years lived subsequent to age x by those reaching age x\",measure,\n",
      "average_number_of_years_lived,Average number of years lived (nax) between ages x and x+n by those dying in the interval,measure,\n",
      "\n"
     ]
    }
   ],
   "source": [
    "mort_concepts_df = pd.DataFrame.from_dict(mort_concepts, orient='index')\n",
    "mort_concepts_df['concept_type'] = 'measure'\n",
    "mort_concepts_df['domain'] = ''\n",
    "\n",
    "print(mort_concepts_df.to_csv())"
   ]
  },
  {
   "cell_type": "code",
   "execution_count": null,
   "metadata": {
    "autoscroll": false,
    "collapsed": false,
    "ein.hycell": false,
    "ein.tags": "worksheet-0",
    "slideshow": {
     "slide_type": "-"
    }
   },
   "outputs": [],
   "source": [
    "mort_df = mort[['LocID', 'Time', 'S']]"
   ]
  },
  {
   "cell_type": "code",
   "execution_count": 39,
   "metadata": {
    "autoscroll": false,
    "collapsed": false,
    "ein.hycell": false,
    "ein.tags": "worksheet-0",
    "slideshow": {
     "slide_type": "-"
    }
   },
   "outputs": [
    {
     "data": {
      "text/plain": [
       "array([2])"
      ]
     },
     "execution_count": 39,
     "metadata": {},
     "output_type": "execute_result"
    }
   ],
   "source": [
    "mort['VarID'].unique()"
   ]
  },
  {
   "cell_type": "code",
   "execution_count": 40,
   "metadata": {
    "autoscroll": false,
    "collapsed": false,
    "ein.hycell": false,
    "ein.tags": "worksheet-0",
    "slideshow": {
     "slide_type": "-"
    }
   },
   "outputs": [
    {
     "data": {
      "text/plain": [
       "Index(['LocID', 'Location', 'VarID', 'Variant', 'Time', 'MidPeriod', 'SexID',\n",
       "       'Sex', 'AgeGrp', 'AgeGrpStart', 'AgeGrpSpan', 'mx', 'qx', 'px', 'lx',\n",
       "       'dx', 'Lx', 'Sx', 'Tx', 'ex', 'ax'],\n",
       "      dtype='object')"
      ]
     },
     "execution_count": 40,
     "metadata": {},
     "output_type": "execute_result"
    }
   ],
   "source": [
    "mort.columns"
   ]
  },
  {
   "cell_type": "code",
   "execution_count": 41,
   "metadata": {
    "autoscroll": false,
    "collapsed": false,
    "ein.hycell": false,
    "ein.tags": "worksheet-0",
    "slideshow": {
     "slide_type": "-"
    }
   },
   "outputs": [
    {
     "data": {
      "text/plain": [
       "array(['Male', 'Female', 'Total'], dtype=object)"
      ]
     },
     "execution_count": 41,
     "metadata": {},
     "output_type": "execute_result"
    }
   ],
   "source": [
    "mort['Sex'].unique()"
   ]
  },
  {
   "cell_type": "code",
   "execution_count": 42,
   "metadata": {
    "autoscroll": false,
    "collapsed": false,
    "ein.hycell": false,
    "ein.tags": "worksheet-0",
    "slideshow": {
     "slide_type": "-"
    }
   },
   "outputs": [
    {
     "data": {
      "text/plain": [
       "array([1, 2, 3])"
      ]
     },
     "execution_count": 42,
     "metadata": {},
     "output_type": "execute_result"
    }
   ],
   "source": [
    "mort['SexID'].unique()"
   ]
  },
  {
   "cell_type": "code",
   "execution_count": 43,
   "metadata": {
    "autoscroll": false,
    "collapsed": false,
    "ein.hycell": false,
    "ein.tags": "worksheet-0",
    "slideshow": {
     "slide_type": "-"
    }
   },
   "outputs": [],
   "source": [
    "mort_total = mort[mort['Sex'] == 'Total'].copy()"
   ]
  },
  {
   "cell_type": "code",
   "execution_count": 44,
   "metadata": {
    "autoscroll": false,
    "collapsed": false,
    "ein.hycell": false,
    "ein.tags": "worksheet-0",
    "slideshow": {
     "slide_type": "-"
    }
   },
   "outputs": [],
   "source": [
    "mort_total = mort_total[['LocID', 'Time', 'AgeGrp', 'mx', 'qx', 'px', 'lx',\n",
    "                         'dx', 'Lx', 'Sx', 'Tx', 'ex', 'ax']]"
   ]
  },
  {
   "cell_type": "code",
   "execution_count": 45,
   "metadata": {
    "autoscroll": false,
    "collapsed": false,
    "ein.hycell": false,
    "ein.tags": "worksheet-0",
    "slideshow": {
     "slide_type": "-"
    }
   },
   "outputs": [],
   "source": [
    "mort_total = mort_total.rename(columns={'LocID': 'country', 'Time': 'time', 'AgeGrp': 'age5yearinterval'}).rename(columns=mort_concepts_rename)"
   ]
  },
  {
   "cell_type": "code",
   "execution_count": 46,
   "metadata": {
    "autoscroll": false,
    "collapsed": false,
    "ein.hycell": false,
    "ein.tags": "worksheet-0",
    "slideshow": {
     "slide_type": "-"
    }
   },
   "outputs": [],
   "source": [
    "mort_total = mort_total[mort_total['country'].isin(countries.country)]\n",
    "mort_total['age5yearinterval'] = mort_total['age5yearinterval'].map(to_concept_id)\n",
    "mort_total['time'] = mort_total['time'].map(lambda x: x.split('-')[0])"
   ]
  },
  {
   "cell_type": "code",
   "execution_count": 47,
   "metadata": {
    "autoscroll": false,
    "collapsed": false,
    "ein.hycell": false,
    "ein.tags": "worksheet-0",
    "slideshow": {
     "slide_type": "-"
    }
   },
   "outputs": [],
   "source": [
    "mort_total = mort_total.set_index(['country', 'time', 'age5yearinterval'])"
   ]
  },
  {
   "cell_type": "code",
   "execution_count": 50,
   "metadata": {
    "autoscroll": false,
    "collapsed": false,
    "ein.hycell": false,
    "ein.tags": "worksheet-0",
    "slideshow": {
     "slide_type": "-"
    }
   },
   "outputs": [],
   "source": [
    "for c in mort_total:\n",
    "    by = mort_total.index.names\n",
    "    p = create_dir(c, by=by)\n",
    "    mort_total[[c]].to_csv(os.path.join(p, 'ddf--datapoints--{}--by--{}'.format(c, '--'.join(by))))"
   ]
  },
  {
   "cell_type": "code",
   "execution_count": null,
   "metadata": {
    "autoscroll": false,
    "collapsed": false,
    "ein.hycell": false,
    "ein.tags": "worksheet-0",
    "slideshow": {
     "slide_type": "-"
    }
   },
   "outputs": [],
   "source": []
  }
 ],
 "metadata": {
  "kernelspec": {
   "display_name": "Python 3",
   "name": "python3"
  },
  "language_info": {
   "codemirror_mode": {
    "name": "ipython",
    "version": 3
   },
   "file_extension": ".py",
   "mimetype": "text/x-python",
   "name": "python",
   "nbconvert_exporter": "python",
   "pygments_lexer": "ipython3",
   "version": "3.6.7"
  },
  "name": "Untitled.ipynb"
 },
 "nbformat": 4,
 "nbformat_minor": 2
}
